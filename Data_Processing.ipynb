{
 "cells": [
  {
   "cell_type": "markdown",
   "id": "44683041",
   "metadata": {},
   "source": [
    "# *House Price Prediction - Properatti*\n",
    "\n",
    "###  _Authors:_ \n",
    "\n",
    "- Pedro Terrado\n",
    "- Segundo Rodriguez Parodi\n",
    "- Pedro Roisman\n",
    "- Thomas Gomez"
   ]
  },
  {
   "cell_type": "markdown",
   "id": "4849536c",
   "metadata": {},
   "source": [
    "### _Dataset Info_\n",
    "\n",
    "- operation (sell)\n",
    "- property_type (apartment, ph, house)\n",
    "- place_name     \n",
    "- place_with_parent_names \n",
    "- country_name             \n",
    "- state_name               \n",
    "- geonames_id (not all available)             \n",
    "- lat-lon                  \n",
    "- lat                   \n",
    "- lon                   \n",
    "- price                 \n",
    "- currency (ARS, USD)             \n",
    "- price_aprox_local_currency \n",
    "- price_aprox_usd            \n",
    "- surface_total_in_m2        \n",
    "- surface_covered_in_m2      \n",
    "- price_usd_per_m2           \n",
    "- price_per_m2               \n",
    "- floor                      \n",
    "- rooms                      \n",
    "- expenses                  \n",
    "- properati_url             \n",
    "- description               \n",
    "- title                     \n",
    "\n",
    "\n",
    "#### [1 - Dataset Preparation](#section_preparacion)\n",
    "\n",
    "#### [2 - Data Wrangling](#section_datawrangling)\n",
    "\n",
    "#### [3 - New Features](#section_nuevasvariables)\n",
    "\n",
    "#### [4 - Cleaning Outliers](#section_outliers)\n",
    "\n",
    "#### [5 - Final Dataset](#section_datasetfinal)\n",
    "\n",
    "\n",
    "----"
   ]
  },
  {
   "cell_type": "markdown",
   "id": "de400f20",
   "metadata": {},
   "source": [
    "# [1 - Dataset Preparation](#section_preparacion)\n",
    "\n",
    "#### $\\hspace{.5cm}$[1.1 - Import libraries and load the dataset](#seccion_import)\n",
    "\n",
    "#### $\\hspace{.5cm}$[1.2 - Description of the dataset and null values](#seccion_description)\n",
    "\n",
    "#### $\\hspace{.5cm}$[1.3 - Features selection ](#seccion_features)"
   ]
  },
  {
   "cell_type": "markdown",
   "id": "bebda819",
   "metadata": {},
   "source": [
    "## [1.1 - Import libraries and load the dataset](#seccion_import)"
   ]
  },
  {
   "cell_type": "code",
   "execution_count": 1,
   "id": "d993b7df",
   "metadata": {},
   "outputs": [],
   "source": [
    "import pandas as pd \n",
    "import numpy as np \n",
    "import matplotlib.pyplot as plt\n",
    "import seaborn as sns \n",
    "%matplotlib inline"
   ]
  },
  {
   "cell_type": "code",
   "execution_count": 2,
   "id": "08e761e8",
   "metadata": {},
   "outputs": [],
   "source": [
    "# Reading the data and creating a DataFrame\n",
    "\n",
    "data = pd.read_csv('../../../properatti.csv')"
   ]
  },
  {
   "cell_type": "markdown",
   "id": "d1bbf3ec",
   "metadata": {},
   "source": [
    "## [1.2 - Description of the dataset and nulls values](#seccion_description)"
   ]
  },
  {
   "cell_type": "code",
   "execution_count": 3,
   "id": "ccb2fa80",
   "metadata": {},
   "outputs": [
    {
     "name": "stdout",
     "output_type": "stream",
     "text": [
      "<class 'pandas.core.frame.DataFrame'>\n",
      "RangeIndex: 121220 entries, 0 to 121219\n",
      "Data columns (total 26 columns):\n",
      " #   Column                      Non-Null Count   Dtype  \n",
      "---  ------                      --------------   -----  \n",
      " 0   Unnamed: 0                  121220 non-null  int64  \n",
      " 1   operation                   121220 non-null  object \n",
      " 2   property_type               121220 non-null  object \n",
      " 3   place_name                  121197 non-null  object \n",
      " 4   place_with_parent_names     121220 non-null  object \n",
      " 5   country_name                121220 non-null  object \n",
      " 6   state_name                  121220 non-null  object \n",
      " 7   geonames_id                 102503 non-null  float64\n",
      " 8   lat-lon                     69670 non-null   object \n",
      " 9   lat                         69670 non-null   float64\n",
      " 10  lon                         69670 non-null   float64\n",
      " 11  price                       100810 non-null  float64\n",
      " 12  currency                    100809 non-null  object \n",
      " 13  price_aprox_local_currency  100810 non-null  float64\n",
      " 14  price_aprox_usd             100810 non-null  float64\n",
      " 15  surface_total_in_m2         81892 non-null   float64\n",
      " 16  surface_covered_in_m2       101313 non-null  float64\n",
      " 17  price_usd_per_m2            68617 non-null   float64\n",
      " 18  price_per_m2                87658 non-null   float64\n",
      " 19  floor                       7899 non-null    float64\n",
      " 20  rooms                       47390 non-null   float64\n",
      " 21  expenses                    14262 non-null   float64\n",
      " 22  properati_url               121220 non-null  object \n",
      " 23  description                 121218 non-null  object \n",
      " 24  title                       121220 non-null  object \n",
      " 25  image_thumbnail             118108 non-null  object \n",
      "dtypes: float64(13), int64(1), object(12)\n",
      "memory usage: 24.0+ MB\n"
     ]
    }
   ],
   "source": [
    "data.info()"
   ]
  },
  {
   "cell_type": "code",
   "execution_count": 4,
   "id": "2777bdd6",
   "metadata": {},
   "outputs": [
    {
     "data": {
      "text/plain": [
       "Unnamed: 0                    0.00\n",
       "operation                     0.00\n",
       "property_type                 0.00\n",
       "place_name                    0.00\n",
       "place_with_parent_names       0.00\n",
       "country_name                  0.00\n",
       "state_name                    0.00\n",
       "geonames_id                   0.15\n",
       "lat-lon                       0.43\n",
       "lat                           0.43\n",
       "lon                           0.43\n",
       "price                         0.17\n",
       "currency                      0.17\n",
       "price_aprox_local_currency    0.17\n",
       "price_aprox_usd               0.17\n",
       "surface_total_in_m2           0.32\n",
       "surface_covered_in_m2         0.16\n",
       "price_usd_per_m2              0.43\n",
       "price_per_m2                  0.28\n",
       "floor                         0.93\n",
       "rooms                         0.61\n",
       "expenses                      0.88\n",
       "properati_url                 0.00\n",
       "description                   0.00\n",
       "title                         0.00\n",
       "image_thumbnail               0.03\n",
       "dtype: float64"
      ]
     },
     "execution_count": 4,
     "metadata": {},
     "output_type": "execute_result"
    }
   ],
   "source": [
    "round(data.isnull().sum() / data.shape[0],2)"
   ]
  },
  {
   "cell_type": "code",
   "execution_count": 5,
   "id": "6bb0bf2d",
   "metadata": {},
   "outputs": [
    {
     "data": {
      "text/plain": [
       "(121220, 26)"
      ]
     },
     "execution_count": 5,
     "metadata": {},
     "output_type": "execute_result"
    }
   ],
   "source": [
    "data.shape"
   ]
  },
  {
   "cell_type": "code",
   "execution_count": 6,
   "id": "c07f69be",
   "metadata": {},
   "outputs": [
    {
     "data": {
      "text/plain": [
       "Index(['Unnamed: 0', 'operation', 'property_type', 'place_name',\n",
       "       'place_with_parent_names', 'country_name', 'state_name', 'geonames_id',\n",
       "       'lat-lon', 'lat', 'lon', 'price', 'currency',\n",
       "       'price_aprox_local_currency', 'price_aprox_usd', 'surface_total_in_m2',\n",
       "       'surface_covered_in_m2', 'price_usd_per_m2', 'price_per_m2', 'floor',\n",
       "       'rooms', 'expenses', 'properati_url', 'description', 'title',\n",
       "       'image_thumbnail'],\n",
       "      dtype='object')"
      ]
     },
     "execution_count": 6,
     "metadata": {},
     "output_type": "execute_result"
    }
   ],
   "source": [
    "data.columns"
   ]
  },
  {
   "cell_type": "code",
   "execution_count": 7,
   "id": "b16ce698",
   "metadata": {},
   "outputs": [
    {
     "data": {
      "text/plain": [
       "<AxesSubplot:title={'center':'Amount of properties by type'}, xlabel='property_type', ylabel='count'>"
      ]
     },
     "execution_count": 7,
     "metadata": {},
     "output_type": "execute_result"
    },
    {
     "data": {
      "image/png": "[encoded data removed]",
      "text/plain": [
       "<Figure size 576x432 with 1 Axes>"
      ]
     },
     "metadata": {
      "needs_background": "light"
     },
     "output_type": "display_data"
    }
   ],
   "source": [
    "plt.subplots(figsize=(8,6))\n",
    "plt.title('Amount of properties by type', fontsize=18)\n",
    "sns.countplot(x='property_type',data=data)"
   ]
  },
  {
   "cell_type": "markdown",
   "id": "6d2f6e21",
   "metadata": {},
   "source": [
    "## [1.3 - Features selection ](#seccion_features)\n",
    "\n",
    "- Drop 'price' column, and 'currency' because they're already merged in 'price_aprox_usd'.\n",
    "- Drop columns with a high percentage of null values."
   ]
  },
  {
   "cell_type": "code",
   "execution_count": 8,
   "id": "d6f5a0cf",
   "metadata": {},
   "outputs": [],
   "source": [
    "data.drop(['lat-lon', 'lat', 'lon', 'floor', 'expenses', 'properati_url', 'image_thumbnail', 'Unnamed: 0', \n",
    "         'geonames_id', 'price', 'currency', 'country_name', 'price_aprox_local_currency', 'price_per_m2'], axis=1, inplace=True)"
   ]
  },
  {
   "cell_type": "markdown",
   "id": "b01b6296",
   "metadata": {},
   "source": [
    "# [2 - Data Wrangling](#section_datawrangling)\n",
    "\n",
    "#### $\\hspace{.5cm}$[2.1 - Duplicated values and 'price_aprox_usd' column](#seccion_duplicated)\n",
    "\n",
    "#### $\\hspace{.5cm}$[2.2 - Work on location columns](#seccion_location)\n",
    "\n",
    "#### $\\hspace{.5cm}$[2.3 - Work on surface columns](#seccion_surface)\n",
    "\n",
    "#### $\\hspace{.5cm}$[2.4 - Create 'price_usd_per_m2' column](#seccion_pricem2)\n",
    "\n",
    "#### $\\hspace{.5cm}$[2.5 - Create 'price_usd_per_m2' column](#seccion_pricem2)"
   ]
  },
  {
   "cell_type": "markdown",
   "id": "de0af0dc",
   "metadata": {},
   "source": [
    "## [2.1 - Duplicated values and 'price_aprox_usd' column](#seccion_duplicated)"
   ]
  },
  {
   "cell_type": "code",
   "execution_count": 9,
   "id": "5bc77871",
   "metadata": {},
   "outputs": [
    {
     "name": "stdout",
     "output_type": "stream",
     "text": [
      "5410\n"
     ]
    }
   ],
   "source": [
    "# Dropping duplicated values\n",
    "\n",
    "print(data.duplicated().sum())\n",
    "data.drop_duplicates(inplace=True)"
   ]
  },
  {
   "cell_type": "code",
   "execution_count": 10,
   "id": "dfe74b39",
   "metadata": {},
   "outputs": [
    {
     "name": "stdout",
     "output_type": "stream",
     "text": [
      "Number of rows after drop duplicated values ---> 115810\n"
     ]
    }
   ],
   "source": [
    "print('Number of rows after drop duplicated values --->', data.shape[0])"
   ]
  },
  {
   "cell_type": "code",
   "execution_count": 11,
   "id": "b40e583f",
   "metadata": {},
   "outputs": [
    {
     "name": "stdout",
     "output_type": "stream",
     "text": [
      "Number of rows after cleaning ---> 115810\n",
      "Number of columns after cleaning ---> 12\n"
     ]
    }
   ],
   "source": [
    "print('Number of rows after cleaning --->', data.shape[0])\n",
    "print('Number of columns after cleaning --->', data.shape[1])"
   ]
  },
  {
   "cell_type": "code",
   "execution_count": 12,
   "id": "de9281bc",
   "metadata": {},
   "outputs": [
    {
     "data": {
      "text/plain": [
       "count    9.843600e+04\n",
       "mean     2.408911e+05\n",
       "std      3.938126e+05\n",
       "min      0.000000e+00\n",
       "25%      9.000000e+04\n",
       "50%      1.450000e+05\n",
       "75%      2.680000e+05\n",
       "max      4.654544e+07\n",
       "Name: price_aprox_usd, dtype: float64"
      ]
     },
     "execution_count": 12,
     "metadata": {},
     "output_type": "execute_result"
    }
   ],
   "source": [
    "data['price_aprox_usd'].describe()"
   ]
  },
  {
   "cell_type": "code",
   "execution_count": 13,
   "id": "3a0da8db",
   "metadata": {},
   "outputs": [
    {
     "data": {
      "text/plain": [
       "<AxesSubplot:xlabel='property_type', ylabel='price_aprox_usd'>"
      ]
     },
     "execution_count": 13,
     "metadata": {},
     "output_type": "execute_result"
    },
    {
     "data": {
      "image/png": "[encoded data removed]",
      "text/plain": [
       "<Figure size 432x288 with 1 Axes>"
      ]
     },
     "metadata": {
      "needs_background": "light"
     },
     "output_type": "display_data"
    }
   ],
   "source": [
    "sns.boxplot(x='property_type', y='price_aprox_usd', data=data)"
   ]
  },
  {
   "cell_type": "code",
   "execution_count": 14,
   "id": "bdc342f7",
   "metadata": {},
   "outputs": [],
   "source": [
    "# Drop the values below 10.000 USD because, probably, they are users loading errors\n",
    "\n",
    "data.drop(data[data['price_aprox_usd'] < 9000].index, axis = 0, inplace=True)\n",
    "data.drop(data[data['price_aprox_usd'] > 4000000].index, axis=0, inplace=True)"
   ]
  },
  {
   "cell_type": "code",
   "execution_count": 15,
   "id": "8f293e23",
   "metadata": {},
   "outputs": [
    {
     "data": {
      "text/plain": [
       "<AxesSubplot:xlabel='property_type', ylabel='price_aprox_usd'>"
      ]
     },
     "execution_count": 15,
     "metadata": {},
     "output_type": "execute_result"
    },
    {
     "data": {
      "image/png": "[encoded data removed]",
      "text/plain": [
       "<Figure size 432x288 with 1 Axes>"
      ]
     },
     "metadata": {
      "needs_background": "light"
     },
     "output_type": "display_data"
    }
   ],
   "source": [
    "sns.boxplot(x='property_type', y='price_aprox_usd', data=data)"
   ]
  },
  {
   "cell_type": "code",
   "execution_count": 16,
   "id": "8e55f49d",
   "metadata": {},
   "outputs": [
    {
     "data": {
      "text/plain": [
       "(115639, 12)"
      ]
     },
     "execution_count": 16,
     "metadata": {},
     "output_type": "execute_result"
    }
   ],
   "source": [
    "data.shape"
   ]
  },
  {
   "cell_type": "markdown",
   "id": "c170ce17",
   "metadata": {},
   "source": [
    "## [2.2 - Work on location columns](#seccion_duplicated)"
   ]
  },
  {
   "cell_type": "code",
   "execution_count": 17,
   "id": "0d677e77",
   "metadata": {},
   "outputs": [
    {
     "data": {
      "text/html": [
       "<div>\n",
       "<style scoped>\n",
       "    .dataframe tbody tr th:only-of-type {\n",
       "        vertical-align: middle;\n",
       "    }\n",
       "\n",
       "    .dataframe tbody tr th {\n",
       "        vertical-align: top;\n",
       "    }\n",
       "\n",
       "    .dataframe thead th {\n",
       "        text-align: right;\n",
       "    }\n",
       "</style>\n",
       "<table border=\"1\" class=\"dataframe\">\n",
       "  <thead>\n",
       "    <tr style=\"text-align: right;\">\n",
       "      <th></th>\n",
       "      <th>place_with_parent_names</th>\n",
       "    </tr>\n",
       "  </thead>\n",
       "  <tbody>\n",
       "    <tr>\n",
       "      <th>0</th>\n",
       "      <td>|Argentina|Capital Federal|Mataderos|</td>\n",
       "    </tr>\n",
       "    <tr>\n",
       "      <th>1</th>\n",
       "      <td>|Argentina|Bs.As. G.B.A. Zona Sur|La Plata|</td>\n",
       "    </tr>\n",
       "    <tr>\n",
       "      <th>2</th>\n",
       "      <td>|Argentina|Capital Federal|Mataderos|</td>\n",
       "    </tr>\n",
       "    <tr>\n",
       "      <th>3</th>\n",
       "      <td>|Argentina|Capital Federal|Liniers|</td>\n",
       "    </tr>\n",
       "    <tr>\n",
       "      <th>4</th>\n",
       "      <td>|Argentina|Buenos Aires Costa Atlántica|Mar de...</td>\n",
       "    </tr>\n",
       "    <tr>\n",
       "      <th>5</th>\n",
       "      <td>|Argentina|Entre Ríos|Gualeguaychú|</td>\n",
       "    </tr>\n",
       "    <tr>\n",
       "      <th>6</th>\n",
       "      <td>|Argentina|Bs.As. G.B.A. Zona Norte|Vicente Ló...</td>\n",
       "    </tr>\n",
       "    <tr>\n",
       "      <th>7</th>\n",
       "      <td>|Argentina|Capital Federal|Belgrano|</td>\n",
       "    </tr>\n",
       "    <tr>\n",
       "      <th>8</th>\n",
       "      <td>|Argentina|Capital Federal|Belgrano|</td>\n",
       "    </tr>\n",
       "    <tr>\n",
       "      <th>9</th>\n",
       "      <td>|Argentina|Santa Fe|Rosario|</td>\n",
       "    </tr>\n",
       "  </tbody>\n",
       "</table>\n",
       "</div>"
      ],
      "text/plain": [
       "                             place_with_parent_names\n",
       "0              |Argentina|Capital Federal|Mataderos|\n",
       "1        |Argentina|Bs.As. G.B.A. Zona Sur|La Plata|\n",
       "2              |Argentina|Capital Federal|Mataderos|\n",
       "3                |Argentina|Capital Federal|Liniers|\n",
       "4  |Argentina|Buenos Aires Costa Atlántica|Mar de...\n",
       "5                |Argentina|Entre Ríos|Gualeguaychú|\n",
       "6  |Argentina|Bs.As. G.B.A. Zona Norte|Vicente Ló...\n",
       "7               |Argentina|Capital Federal|Belgrano|\n",
       "8               |Argentina|Capital Federal|Belgrano|\n",
       "9                       |Argentina|Santa Fe|Rosario|"
      ]
     },
     "execution_count": 17,
     "metadata": {},
     "output_type": "execute_result"
    }
   ],
   "source": [
    "data.loc[:, [\"place_with_parent_names\"]].head(10)"
   ]
  },
  {
   "cell_type": "code",
   "execution_count": 18,
   "id": "ca048290",
   "metadata": {},
   "outputs": [],
   "source": [
    "import re\n",
    "\n",
    "patron_regex_arg = re.compile(\"\\|Argentina\\|\")\n",
    "data[\"place_with_parent_names\"] = data[\"place_with_parent_names\"].apply(lambda x: x if x is np.NaN else patron_regex_arg.sub(\"\",x))"
   ]
  },
  {
   "cell_type": "code",
   "execution_count": 19,
   "id": "6dbc3e2f",
   "metadata": {},
   "outputs": [
    {
     "data": {
      "text/html": [
       "<div>\n",
       "<style scoped>\n",
       "    .dataframe tbody tr th:only-of-type {\n",
       "        vertical-align: middle;\n",
       "    }\n",
       "\n",
       "    .dataframe tbody tr th {\n",
       "        vertical-align: top;\n",
       "    }\n",
       "\n",
       "    .dataframe thead th {\n",
       "        text-align: right;\n",
       "    }\n",
       "</style>\n",
       "<table border=\"1\" class=\"dataframe\">\n",
       "  <thead>\n",
       "    <tr style=\"text-align: right;\">\n",
       "      <th></th>\n",
       "      <th>place_with_parent_names</th>\n",
       "    </tr>\n",
       "  </thead>\n",
       "  <tbody>\n",
       "    <tr>\n",
       "      <th>0</th>\n",
       "      <td>Capital Federal|Mataderos|</td>\n",
       "    </tr>\n",
       "    <tr>\n",
       "      <th>1</th>\n",
       "      <td>Bs.As. G.B.A. Zona Sur|La Plata|</td>\n",
       "    </tr>\n",
       "    <tr>\n",
       "      <th>2</th>\n",
       "      <td>Capital Federal|Mataderos|</td>\n",
       "    </tr>\n",
       "    <tr>\n",
       "      <th>3</th>\n",
       "      <td>Capital Federal|Liniers|</td>\n",
       "    </tr>\n",
       "    <tr>\n",
       "      <th>4</th>\n",
       "      <td>Buenos Aires Costa Atlántica|Mar del Plata|Cen...</td>\n",
       "    </tr>\n",
       "    <tr>\n",
       "      <th>5</th>\n",
       "      <td>Entre Ríos|Gualeguaychú|</td>\n",
       "    </tr>\n",
       "    <tr>\n",
       "      <th>6</th>\n",
       "      <td>Bs.As. G.B.A. Zona Norte|Vicente López|Munro|</td>\n",
       "    </tr>\n",
       "    <tr>\n",
       "      <th>7</th>\n",
       "      <td>Capital Federal|Belgrano|</td>\n",
       "    </tr>\n",
       "    <tr>\n",
       "      <th>8</th>\n",
       "      <td>Capital Federal|Belgrano|</td>\n",
       "    </tr>\n",
       "    <tr>\n",
       "      <th>9</th>\n",
       "      <td>Santa Fe|Rosario|</td>\n",
       "    </tr>\n",
       "  </tbody>\n",
       "</table>\n",
       "</div>"
      ],
      "text/plain": [
       "                             place_with_parent_names\n",
       "0                         Capital Federal|Mataderos|\n",
       "1                   Bs.As. G.B.A. Zona Sur|La Plata|\n",
       "2                         Capital Federal|Mataderos|\n",
       "3                           Capital Federal|Liniers|\n",
       "4  Buenos Aires Costa Atlántica|Mar del Plata|Cen...\n",
       "5                           Entre Ríos|Gualeguaychú|\n",
       "6      Bs.As. G.B.A. Zona Norte|Vicente López|Munro|\n",
       "7                          Capital Federal|Belgrano|\n",
       "8                          Capital Federal|Belgrano|\n",
       "9                                  Santa Fe|Rosario|"
      ]
     },
     "execution_count": 19,
     "metadata": {},
     "output_type": "execute_result"
    }
   ],
   "source": [
    "data.loc[:, [\"place_with_parent_names\"]].head(10)"
   ]
  },
  {
   "cell_type": "code",
   "execution_count": 20,
   "id": "314200e2",
   "metadata": {},
   "outputs": [
    {
     "data": {
      "text/html": [
       "<div>\n",
       "<style scoped>\n",
       "    .dataframe tbody tr th:only-of-type {\n",
       "        vertical-align: middle;\n",
       "    }\n",
       "\n",
       "    .dataframe tbody tr th {\n",
       "        vertical-align: top;\n",
       "    }\n",
       "\n",
       "    .dataframe thead th {\n",
       "        text-align: right;\n",
       "    }\n",
       "</style>\n",
       "<table border=\"1\" class=\"dataframe\">\n",
       "  <thead>\n",
       "    <tr style=\"text-align: right;\">\n",
       "      <th></th>\n",
       "      <th>state</th>\n",
       "      <th>town</th>\n",
       "      <th>extra_info</th>\n",
       "    </tr>\n",
       "  </thead>\n",
       "  <tbody>\n",
       "    <tr>\n",
       "      <th>0</th>\n",
       "      <td>Capital Federal</td>\n",
       "      <td>Mataderos</td>\n",
       "      <td></td>\n",
       "    </tr>\n",
       "    <tr>\n",
       "      <th>1</th>\n",
       "      <td>Bs.As. G.B.A. Zona Sur</td>\n",
       "      <td>La Plata</td>\n",
       "      <td></td>\n",
       "    </tr>\n",
       "    <tr>\n",
       "      <th>2</th>\n",
       "      <td>Capital Federal</td>\n",
       "      <td>Mataderos</td>\n",
       "      <td></td>\n",
       "    </tr>\n",
       "    <tr>\n",
       "      <th>3</th>\n",
       "      <td>Capital Federal</td>\n",
       "      <td>Liniers</td>\n",
       "      <td></td>\n",
       "    </tr>\n",
       "    <tr>\n",
       "      <th>4</th>\n",
       "      <td>Buenos Aires Costa Atlántica</td>\n",
       "      <td>Mar del Plata</td>\n",
       "      <td>Centro|</td>\n",
       "    </tr>\n",
       "    <tr>\n",
       "      <th>...</th>\n",
       "      <td>...</td>\n",
       "      <td>...</td>\n",
       "      <td>...</td>\n",
       "    </tr>\n",
       "    <tr>\n",
       "      <th>121215</th>\n",
       "      <td>Capital Federal</td>\n",
       "      <td>Belgrano</td>\n",
       "      <td></td>\n",
       "    </tr>\n",
       "    <tr>\n",
       "      <th>121216</th>\n",
       "      <td>Bs.As. G.B.A. Zona Norte</td>\n",
       "      <td>San Isidro</td>\n",
       "      <td>Beccar|</td>\n",
       "    </tr>\n",
       "    <tr>\n",
       "      <th>121217</th>\n",
       "      <td>Capital Federal</td>\n",
       "      <td>Villa Urquiza</td>\n",
       "      <td></td>\n",
       "    </tr>\n",
       "    <tr>\n",
       "      <th>121218</th>\n",
       "      <td>Buenos Aires Costa Atlántica</td>\n",
       "      <td>Mar del Plata</td>\n",
       "      <td>Plaza Colón|</td>\n",
       "    </tr>\n",
       "    <tr>\n",
       "      <th>121219</th>\n",
       "      <td>Capital Federal</td>\n",
       "      <td></td>\n",
       "      <td>None</td>\n",
       "    </tr>\n",
       "  </tbody>\n",
       "</table>\n",
       "<p>115639 rows × 3 columns</p>\n",
       "</div>"
      ],
      "text/plain": [
       "                               state           town    extra_info\n",
       "0                    Capital Federal      Mataderos              \n",
       "1             Bs.As. G.B.A. Zona Sur       La Plata              \n",
       "2                    Capital Federal      Mataderos              \n",
       "3                    Capital Federal        Liniers              \n",
       "4       Buenos Aires Costa Atlántica  Mar del Plata       Centro|\n",
       "...                              ...            ...           ...\n",
       "121215               Capital Federal       Belgrano              \n",
       "121216      Bs.As. G.B.A. Zona Norte     San Isidro       Beccar|\n",
       "121217               Capital Federal  Villa Urquiza              \n",
       "121218  Buenos Aires Costa Atlántica  Mar del Plata  Plaza Colón|\n",
       "121219               Capital Federal                         None\n",
       "\n",
       "[115639 rows x 3 columns]"
      ]
     },
     "execution_count": 20,
     "metadata": {},
     "output_type": "execute_result"
    }
   ],
   "source": [
    "data[[\"state\",\"town\", \"extra_info\"]] = data[\"place_with_parent_names\"].str.split(\"|\",n=2, expand=True)\n",
    "data.loc[:,[\"state\",\"town\", \"extra_info\"]]"
   ]
  },
  {
   "cell_type": "code",
   "execution_count": 21,
   "id": "d587850c",
   "metadata": {},
   "outputs": [
    {
     "name": "stdout",
     "output_type": "stream",
     "text": [
      "Same town and state \n",
      " False    108235\n",
      "True       7404\n",
      "dtype: int64 \n",
      "\n",
      "Properties with no town \n",
      " False    111251\n",
      "True       4388\n",
      "Name: town, dtype: int64\n"
     ]
    }
   ],
   "source": [
    "same_town_state = data[\"state\"] == data[\"town\"]\n",
    "no_town = data[\"town\"] == \"\"\n",
    "\n",
    "print('Same town and state', '\\n' ,same_town_state.value_counts(), '\\n')\n",
    "print('Properties with no town', '\\n', no_town.value_counts())"
   ]
  },
  {
   "cell_type": "code",
   "execution_count": 22,
   "id": "ea04c229",
   "metadata": {},
   "outputs": [
    {
     "data": {
      "text/html": [
       "<div>\n",
       "<style scoped>\n",
       "    .dataframe tbody tr th:only-of-type {\n",
       "        vertical-align: middle;\n",
       "    }\n",
       "\n",
       "    .dataframe tbody tr th {\n",
       "        vertical-align: top;\n",
       "    }\n",
       "\n",
       "    .dataframe thead th {\n",
       "        text-align: right;\n",
       "    }\n",
       "</style>\n",
       "<table border=\"1\" class=\"dataframe\">\n",
       "  <thead>\n",
       "    <tr style=\"text-align: right;\">\n",
       "      <th></th>\n",
       "      <th>state_name</th>\n",
       "      <th>place_name</th>\n",
       "      <th>place_with_parent_names</th>\n",
       "      <th>state</th>\n",
       "      <th>town</th>\n",
       "      <th>extra_info</th>\n",
       "    </tr>\n",
       "  </thead>\n",
       "  <tbody>\n",
       "    <tr>\n",
       "      <th>10</th>\n",
       "      <td>Córdoba</td>\n",
       "      <td>Córdoba</td>\n",
       "      <td>Córdoba|Córdoba|</td>\n",
       "      <td>Córdoba</td>\n",
       "      <td>Córdoba</td>\n",
       "      <td></td>\n",
       "    </tr>\n",
       "    <tr>\n",
       "      <th>32</th>\n",
       "      <td>Córdoba</td>\n",
       "      <td>Córdoba</td>\n",
       "      <td>Córdoba|Córdoba|</td>\n",
       "      <td>Córdoba</td>\n",
       "      <td>Córdoba</td>\n",
       "      <td></td>\n",
       "    </tr>\n",
       "    <tr>\n",
       "      <th>87</th>\n",
       "      <td>Córdoba</td>\n",
       "      <td>Córdoba</td>\n",
       "      <td>Córdoba|Córdoba|</td>\n",
       "      <td>Córdoba</td>\n",
       "      <td>Córdoba</td>\n",
       "      <td></td>\n",
       "    </tr>\n",
       "    <tr>\n",
       "      <th>88</th>\n",
       "      <td>Córdoba</td>\n",
       "      <td>Córdoba</td>\n",
       "      <td>Córdoba|Córdoba|</td>\n",
       "      <td>Córdoba</td>\n",
       "      <td>Córdoba</td>\n",
       "      <td></td>\n",
       "    </tr>\n",
       "    <tr>\n",
       "      <th>89</th>\n",
       "      <td>Córdoba</td>\n",
       "      <td>Córdoba</td>\n",
       "      <td>Córdoba|Córdoba|</td>\n",
       "      <td>Córdoba</td>\n",
       "      <td>Córdoba</td>\n",
       "      <td></td>\n",
       "    </tr>\n",
       "    <tr>\n",
       "      <th>...</th>\n",
       "      <td>...</td>\n",
       "      <td>...</td>\n",
       "      <td>...</td>\n",
       "      <td>...</td>\n",
       "      <td>...</td>\n",
       "      <td>...</td>\n",
       "    </tr>\n",
       "    <tr>\n",
       "      <th>120690</th>\n",
       "      <td>Córdoba</td>\n",
       "      <td>Córdoba</td>\n",
       "      <td>Córdoba|Córdoba|</td>\n",
       "      <td>Córdoba</td>\n",
       "      <td>Córdoba</td>\n",
       "      <td></td>\n",
       "    </tr>\n",
       "    <tr>\n",
       "      <th>120966</th>\n",
       "      <td>Córdoba</td>\n",
       "      <td>Córdoba</td>\n",
       "      <td>Córdoba|Córdoba|</td>\n",
       "      <td>Córdoba</td>\n",
       "      <td>Córdoba</td>\n",
       "      <td></td>\n",
       "    </tr>\n",
       "    <tr>\n",
       "      <th>120971</th>\n",
       "      <td>Córdoba</td>\n",
       "      <td>Córdoba</td>\n",
       "      <td>Córdoba|Córdoba|</td>\n",
       "      <td>Córdoba</td>\n",
       "      <td>Córdoba</td>\n",
       "      <td></td>\n",
       "    </tr>\n",
       "    <tr>\n",
       "      <th>120979</th>\n",
       "      <td>Córdoba</td>\n",
       "      <td>Córdoba</td>\n",
       "      <td>Córdoba|Córdoba|</td>\n",
       "      <td>Córdoba</td>\n",
       "      <td>Córdoba</td>\n",
       "      <td></td>\n",
       "    </tr>\n",
       "    <tr>\n",
       "      <th>121068</th>\n",
       "      <td>Mendoza</td>\n",
       "      <td>Mendoza</td>\n",
       "      <td>Mendoza|Mendoza|</td>\n",
       "      <td>Mendoza</td>\n",
       "      <td>Mendoza</td>\n",
       "      <td></td>\n",
       "    </tr>\n",
       "  </tbody>\n",
       "</table>\n",
       "<p>7404 rows × 6 columns</p>\n",
       "</div>"
      ],
      "text/plain": [
       "       state_name place_name place_with_parent_names    state     town  \\\n",
       "10        Córdoba    Córdoba        Córdoba|Córdoba|  Córdoba  Córdoba   \n",
       "32        Córdoba    Córdoba        Córdoba|Córdoba|  Córdoba  Córdoba   \n",
       "87        Córdoba    Córdoba        Córdoba|Córdoba|  Córdoba  Córdoba   \n",
       "88        Córdoba    Córdoba        Córdoba|Córdoba|  Córdoba  Córdoba   \n",
       "89        Córdoba    Córdoba        Córdoba|Córdoba|  Córdoba  Córdoba   \n",
       "...           ...        ...                     ...      ...      ...   \n",
       "120690    Córdoba    Córdoba        Córdoba|Córdoba|  Córdoba  Córdoba   \n",
       "120966    Córdoba    Córdoba        Córdoba|Córdoba|  Córdoba  Córdoba   \n",
       "120971    Córdoba    Córdoba        Córdoba|Córdoba|  Córdoba  Córdoba   \n",
       "120979    Córdoba    Córdoba        Córdoba|Córdoba|  Córdoba  Córdoba   \n",
       "121068    Mendoza    Mendoza        Mendoza|Mendoza|  Mendoza  Mendoza   \n",
       "\n",
       "       extra_info  \n",
       "10                 \n",
       "32                 \n",
       "87                 \n",
       "88                 \n",
       "89                 \n",
       "...           ...  \n",
       "120690             \n",
       "120966             \n",
       "120971             \n",
       "120979             \n",
       "121068             \n",
       "\n",
       "[7404 rows x 6 columns]"
      ]
     },
     "execution_count": 22,
     "metadata": {},
     "output_type": "execute_result"
    }
   ],
   "source": [
    "data.loc[same_town_state, [\"state_name\", \"place_name\", \"place_with_parent_names\", \"state\", \"town\", \"extra_info\"]]"
   ]
  },
  {
   "cell_type": "code",
   "execution_count": 23,
   "id": "306ded21",
   "metadata": {},
   "outputs": [
    {
     "data": {
      "text/html": [
       "<div>\n",
       "<style scoped>\n",
       "    .dataframe tbody tr th:only-of-type {\n",
       "        vertical-align: middle;\n",
       "    }\n",
       "\n",
       "    .dataframe tbody tr th {\n",
       "        vertical-align: top;\n",
       "    }\n",
       "\n",
       "    .dataframe thead th {\n",
       "        text-align: right;\n",
       "    }\n",
       "</style>\n",
       "<table border=\"1\" class=\"dataframe\">\n",
       "  <thead>\n",
       "    <tr style=\"text-align: right;\">\n",
       "      <th></th>\n",
       "      <th>state_name</th>\n",
       "      <th>place_name</th>\n",
       "      <th>state</th>\n",
       "      <th>town</th>\n",
       "      <th>extra_info</th>\n",
       "    </tr>\n",
       "  </thead>\n",
       "  <tbody>\n",
       "    <tr>\n",
       "      <th>108</th>\n",
       "      <td>Capital Federal</td>\n",
       "      <td>Capital Federal</td>\n",
       "      <td>Capital Federal</td>\n",
       "      <td></td>\n",
       "      <td>None</td>\n",
       "    </tr>\n",
       "    <tr>\n",
       "      <th>110</th>\n",
       "      <td>Capital Federal</td>\n",
       "      <td>Capital Federal</td>\n",
       "      <td>Capital Federal</td>\n",
       "      <td></td>\n",
       "      <td>None</td>\n",
       "    </tr>\n",
       "    <tr>\n",
       "      <th>115</th>\n",
       "      <td>Capital Federal</td>\n",
       "      <td>Capital Federal</td>\n",
       "      <td>Capital Federal</td>\n",
       "      <td></td>\n",
       "      <td>None</td>\n",
       "    </tr>\n",
       "    <tr>\n",
       "      <th>119</th>\n",
       "      <td>Capital Federal</td>\n",
       "      <td>Capital Federal</td>\n",
       "      <td>Capital Federal</td>\n",
       "      <td></td>\n",
       "      <td>None</td>\n",
       "    </tr>\n",
       "    <tr>\n",
       "      <th>121</th>\n",
       "      <td>Capital Federal</td>\n",
       "      <td>Capital Federal</td>\n",
       "      <td>Capital Federal</td>\n",
       "      <td></td>\n",
       "      <td>None</td>\n",
       "    </tr>\n",
       "    <tr>\n",
       "      <th>...</th>\n",
       "      <td>...</td>\n",
       "      <td>...</td>\n",
       "      <td>...</td>\n",
       "      <td>...</td>\n",
       "      <td>...</td>\n",
       "    </tr>\n",
       "    <tr>\n",
       "      <th>121200</th>\n",
       "      <td>Córdoba</td>\n",
       "      <td>Córdoba</td>\n",
       "      <td>Córdoba</td>\n",
       "      <td></td>\n",
       "      <td>None</td>\n",
       "    </tr>\n",
       "    <tr>\n",
       "      <th>121202</th>\n",
       "      <td>Córdoba</td>\n",
       "      <td>Córdoba</td>\n",
       "      <td>Córdoba</td>\n",
       "      <td></td>\n",
       "      <td>None</td>\n",
       "    </tr>\n",
       "    <tr>\n",
       "      <th>121203</th>\n",
       "      <td>Córdoba</td>\n",
       "      <td>Córdoba</td>\n",
       "      <td>Córdoba</td>\n",
       "      <td></td>\n",
       "      <td>None</td>\n",
       "    </tr>\n",
       "    <tr>\n",
       "      <th>121205</th>\n",
       "      <td>Córdoba</td>\n",
       "      <td>Córdoba</td>\n",
       "      <td>Córdoba</td>\n",
       "      <td></td>\n",
       "      <td>None</td>\n",
       "    </tr>\n",
       "    <tr>\n",
       "      <th>121219</th>\n",
       "      <td>Capital Federal</td>\n",
       "      <td>Capital Federal</td>\n",
       "      <td>Capital Federal</td>\n",
       "      <td></td>\n",
       "      <td>None</td>\n",
       "    </tr>\n",
       "  </tbody>\n",
       "</table>\n",
       "<p>4388 rows × 5 columns</p>\n",
       "</div>"
      ],
      "text/plain": [
       "             state_name       place_name            state town extra_info\n",
       "108     Capital Federal  Capital Federal  Capital Federal            None\n",
       "110     Capital Federal  Capital Federal  Capital Federal            None\n",
       "115     Capital Federal  Capital Federal  Capital Federal            None\n",
       "119     Capital Federal  Capital Federal  Capital Federal            None\n",
       "121     Capital Federal  Capital Federal  Capital Federal            None\n",
       "...                 ...              ...              ...  ...        ...\n",
       "121200          Córdoba          Córdoba          Córdoba            None\n",
       "121202          Córdoba          Córdoba          Córdoba            None\n",
       "121203          Córdoba          Córdoba          Córdoba            None\n",
       "121205          Córdoba          Córdoba          Córdoba            None\n",
       "121219  Capital Federal  Capital Federal  Capital Federal            None\n",
       "\n",
       "[4388 rows x 5 columns]"
      ]
     },
     "execution_count": 23,
     "metadata": {},
     "output_type": "execute_result"
    }
   ],
   "source": [
    "data.loc[no_town,['state_name', 'place_name', 'state','town', 'extra_info']]"
   ]
  },
  {
   "cell_type": "code",
   "execution_count": 24,
   "id": "b5cf41f5",
   "metadata": {},
   "outputs": [
    {
     "name": "stdout",
     "output_type": "stream",
     "text": [
      "(115639, 15)\n",
      "(103847, 15)\n"
     ]
    }
   ],
   "source": [
    "print(data.shape)\n",
    "data.drop(data.loc[same_town_state].index, axis=0, inplace=True)\n",
    "data.drop(data.loc[no_town].index, axis=0, inplace=True)\n",
    "print(data.shape)"
   ]
  },
  {
   "cell_type": "code",
   "execution_count": 25,
   "id": "e90b5899",
   "metadata": {},
   "outputs": [
    {
     "data": {
      "text/plain": [
       "operation                      0\n",
       "property_type                  0\n",
       "place_name                    23\n",
       "place_with_parent_names        0\n",
       "state_name                     0\n",
       "price_aprox_usd            14441\n",
       "surface_total_in_m2        32151\n",
       "surface_covered_in_m2      15200\n",
       "price_usd_per_m2           41579\n",
       "rooms                      61662\n",
       "description                    2\n",
       "title                          0\n",
       "state                          0\n",
       "town                           0\n",
       "extra_info                     0\n",
       "dtype: int64"
      ]
     },
     "execution_count": 25,
     "metadata": {},
     "output_type": "execute_result"
    }
   ],
   "source": [
    "data.isnull().sum()"
   ]
  },
  {
   "cell_type": "code",
   "execution_count": 26,
   "id": "3b64acb3",
   "metadata": {},
   "outputs": [],
   "source": [
    "data.drop(['place_name', 'place_with_parent_names', 'state_name'], axis=1, inplace=True)"
   ]
  },
  {
   "cell_type": "markdown",
   "id": "20668b31",
   "metadata": {},
   "source": [
    "#### - Now, let's drop towns with less than 50 properties "
   ]
  },
  {
   "cell_type": "code",
   "execution_count": 27,
   "id": "b0fae9b6",
   "metadata": {},
   "outputs": [
    {
     "data": {
      "text/html": [
       "<div>\n",
       "<style scoped>\n",
       "    .dataframe tbody tr th:only-of-type {\n",
       "        vertical-align: middle;\n",
       "    }\n",
       "\n",
       "    .dataframe tbody tr th {\n",
       "        vertical-align: top;\n",
       "    }\n",
       "\n",
       "    .dataframe thead th {\n",
       "        text-align: right;\n",
       "    }\n",
       "</style>\n",
       "<table border=\"1\" class=\"dataframe\">\n",
       "  <thead>\n",
       "    <tr style=\"text-align: right;\">\n",
       "      <th></th>\n",
       "      <th>state</th>\n",
       "      <th>town</th>\n",
       "    </tr>\n",
       "  </thead>\n",
       "  <tbody>\n",
       "    <tr>\n",
       "      <th>count</th>\n",
       "      <td>103847</td>\n",
       "      <td>103847</td>\n",
       "    </tr>\n",
       "    <tr>\n",
       "      <th>unique</th>\n",
       "      <td>27</td>\n",
       "      <td>528</td>\n",
       "    </tr>\n",
       "    <tr>\n",
       "      <th>top</th>\n",
       "      <td>Capital Federal</td>\n",
       "      <td>Tigre</td>\n",
       "    </tr>\n",
       "    <tr>\n",
       "      <th>freq</th>\n",
       "      <td>29571</td>\n",
       "      <td>8471</td>\n",
       "    </tr>\n",
       "  </tbody>\n",
       "</table>\n",
       "</div>"
      ],
      "text/plain": [
       "                  state    town\n",
       "count            103847  103847\n",
       "unique               27     528\n",
       "top     Capital Federal   Tigre\n",
       "freq              29571    8471"
      ]
     },
     "execution_count": 27,
     "metadata": {},
     "output_type": "execute_result"
    }
   ],
   "source": [
    "data[['state','town']].describe()"
   ]
  },
  {
   "cell_type": "code",
   "execution_count": 28,
   "id": "d50823de",
   "metadata": {},
   "outputs": [
    {
     "data": {
      "text/plain": [
       "Capital Federal                 29571\n",
       "Bs.As. G.B.A. Zona Norte        24427\n",
       "Bs.As. G.B.A. Zona Sur          13503\n",
       "Buenos Aires Costa Atlántica     9864\n",
       "Bs.As. G.B.A. Zona Oeste         8947\n",
       "Santa Fe                         8391\n",
       "Córdoba                          2764\n",
       "Buenos Aires Interior            2143\n",
       "Río Negro                         780\n",
       "Corrientes                        570\n",
       "Tucumán                           559\n",
       "Mendoza                           426\n",
       "Neuquén                           422\n",
       "Misiones                          361\n",
       "Entre Ríos                        355\n",
       "Chubut                            240\n",
       "San Luis                          163\n",
       "La Pampa                          150\n",
       "Chaco                              56\n",
       "Salta                              35\n",
       "Tierra Del Fuego                   25\n",
       "Jujuy                              25\n",
       "San Juan                           24\n",
       "Catamarca                          24\n",
       "Santa Cruz                         20\n",
       "Santiago Del Estero                 1\n",
       "La Rioja                            1\n",
       "Name: state, dtype: int64"
      ]
     },
     "execution_count": 28,
     "metadata": {},
     "output_type": "execute_result"
    }
   ],
   "source": [
    "data['state'].value_counts()"
   ]
  },
  {
   "cell_type": "code",
   "execution_count": 29,
   "id": "fcb63b9d",
   "metadata": {},
   "outputs": [],
   "source": [
    "towns = pd.value_counts(data['town']).to_frame().reset_index()\n",
    "towns = towns.rename(columns={\"index\":\"town\", \"town\":\"amount of properties\"})\n",
    "towns.head(10)\n",
    "\n",
    "mask_towns = towns['amount of properties'] < 100\n",
    "towns_drop = towns[mask_towns]"
   ]
  },
  {
   "cell_type": "code",
   "execution_count": 30,
   "id": "6bef90c6",
   "metadata": {},
   "outputs": [
    {
     "data": {
      "text/plain": [
       "['Cushamen',\n",
       " 'Tribunales',\n",
       " 'Roldán',\n",
       " 'Santo Tomé',\n",
       " 'Marcos Paz',\n",
       " 'Coronel Suárez',\n",
       " 'Villa Ortuzar',\n",
       " 'San Rafael',\n",
       " 'Santa Rosa',\n",
       " 'Mendiolaza',\n",
       " 'Lobos',\n",
       " 'Mar de Ajó',\n",
       " 'Tres Arroyos',\n",
       " 'Monte Castro',\n",
       " 'Tandil',\n",
       " 'Funes',\n",
       " 'San Martín de los Andes',\n",
       " 'Esperanza',\n",
       " 'Monte Hermoso',\n",
       " 'Rafaela',\n",
       " 'Parque Centenario',\n",
       " 'Pompeya',\n",
       " 'Chascomús',\n",
       " 'Río Cuarto',\n",
       " 'Lácar',\n",
       " 'General Pico',\n",
       " 'Santa Rosa de Calamuchita',\n",
       " 'Godoy Cruz',\n",
       " 'Coronda',\n",
       " 'Villa Santa Rita',\n",
       " 'Cariló',\n",
       " 'Parque Avellaneda',\n",
       " 'Versalles',\n",
       " 'Mburucuyá',\n",
       " 'Valeria del Mar',\n",
       " 'Mar de las Pampas',\n",
       " 'San Clemente del Tuyú',\n",
       " 'Capitán Bermúdez',\n",
       " 'Cañuelas',\n",
       " 'Villa General Mitre',\n",
       " 'Trenque Lauquen',\n",
       " 'Santa Teresita',\n",
       " 'Luján de Cuyo',\n",
       " 'Florencio Varela',\n",
       " 'Escalante',\n",
       " 'Parque Chas',\n",
       " 'San Pedro',\n",
       " 'Villa La Angostura',\n",
       " 'Agronomía',\n",
       " 'Velez Sarsfield',\n",
       " 'Resistencia',\n",
       " 'Villa Real',\n",
       " 'Río Ceballos',\n",
       " 'Reconquista',\n",
       " 'Brandsen',\n",
       " 'Granadero Baigorria',\n",
       " 'Unquillo',\n",
       " 'San Miguel del Monte',\n",
       " 'Mar Azul',\n",
       " 'Trelew',\n",
       " 'Las Heras',\n",
       " 'Concordia',\n",
       " 'Maipú',\n",
       " 'Cipolletti',\n",
       " 'Necochea',\n",
       " 'Berisso',\n",
       " 'Los Reartes',\n",
       " 'Campana',\n",
       " 'Mar del Tuyú',\n",
       " 'Mercedes',\n",
       " 'San Salvador de Jujuy',\n",
       " 'Oncativo',\n",
       " 'Ensenada',\n",
       " 'Villa del Dique',\n",
       " 'Exaltación de la Cruz',\n",
       " 'San Francisco',\n",
       " 'Tafí del Valle',\n",
       " 'Villa Constitución',\n",
       " 'Iriondo',\n",
       " 'Río Tercero',\n",
       " 'Las Toninas',\n",
       " 'Claromecó',\n",
       " 'Santa Clara del Mar',\n",
       " 'Alta Gracia',\n",
       " 'Azul',\n",
       " 'Manantiales',\n",
       " 'Oberá',\n",
       " 'Tanti',\n",
       " 'Jesús María',\n",
       " 'Río Grande',\n",
       " 'San Antonio de Arredondo',\n",
       " 'La Lucila del Mar',\n",
       " 'Ibarlucea',\n",
       " 'La Granja',\n",
       " 'Puerto Madryn',\n",
       " 'Villa Giardino',\n",
       " 'Zárate',\n",
       " 'Tafí Viejo',\n",
       " 'Costa del Este',\n",
       " 'Mina Clavero',\n",
       " 'Punta Indio',\n",
       " 'General Madariaga',\n",
       " 'San Antonio de Areco',\n",
       " 'Malagueño',\n",
       " 'Costa Azul',\n",
       " 'Esquel',\n",
       " 'Juana Koslay',\n",
       " 'Gualeguaychú',\n",
       " 'Colonia Caroya',\n",
       " 'Villa Rumipal',\n",
       " 'Villa Soldati',\n",
       " 'Cosquín',\n",
       " 'Caleta Olivia',\n",
       " 'Garupá',\n",
       " 'Victoria',\n",
       " 'Villa Mercedes',\n",
       " 'Aguas Verdes',\n",
       " 'Ostende',\n",
       " 'Presidencia Roque Sáenz Peña',\n",
       " 'Comodoro Rivadavia',\n",
       " 'La Falda',\n",
       " 'Potrero de Garay',\n",
       " 'Villa María',\n",
       " 'Potrero de los Funes',\n",
       " 'Luque',\n",
       " 'Carmen de Areco',\n",
       " 'Valle Hermoso',\n",
       " 'Viedma',\n",
       " 'Olavarría',\n",
       " 'La Cumbre',\n",
       " 'Villa Cura Brochero',\n",
       " 'Dorrego',\n",
       " 'La Punta',\n",
       " 'San Andrés de Giles',\n",
       " 'Villa Santa Cruz del Lago',\n",
       " 'Rincón de los Sauces',\n",
       " 'Plottier',\n",
       " 'Concepción del Uruguay',\n",
       " 'Cafayate',\n",
       " 'Cerrillos',\n",
       " 'General Alvarado',\n",
       " 'Nueva Atlantis',\n",
       " 'General Las Heras',\n",
       " 'Huerta Grande',\n",
       " 'Las Rosas',\n",
       " 'Salsipuedes',\n",
       " 'Capilla del Monte',\n",
       " 'Mar Chiquita',\n",
       " 'Ushuaia',\n",
       " 'Adolfo Alsina',\n",
       " 'Desamparados',\n",
       " 'Villa del Totoral',\n",
       " 'Rawson',\n",
       " 'Paso de la Patria',\n",
       " 'Achiras',\n",
       " 'Gálvez',\n",
       " 'Saldán',\n",
       " 'Almafuerte',\n",
       " 'Centenario',\n",
       " 'Ascochinga',\n",
       " 'Nogoyá',\n",
       " 'Trevelín',\n",
       " 'Mar del Sur',\n",
       " 'Anisacate',\n",
       " 'San Jorge',\n",
       " 'Villa Riachuelo',\n",
       " 'Pergamino',\n",
       " 'La Caldera',\n",
       " 'Baradero',\n",
       " 'Rosario de Lerma',\n",
       " 'Agua de Oro',\n",
       " 'Bialet Massé',\n",
       " 'Capitán Sarmiento',\n",
       " 'Recreo',\n",
       " 'Junín',\n",
       " 'Villa Parque Siquiman',\n",
       " 'Cerro Azul',\n",
       " 'Punta Alta',\n",
       " 'Federación',\n",
       " 'Colonia Tirolesa',\n",
       " 'El Sauce',\n",
       " 'Oliva',\n",
       " 'Malargüe',\n",
       " 'Rada Tilly',\n",
       " 'San José del Rincón',\n",
       " 'La Paz',\n",
       " 'Junin de los Andes',\n",
       " 'Embalse',\n",
       " 'San Jerónimo Norte',\n",
       " 'Pehuajó',\n",
       " 'Carlos Casares',\n",
       " 'Las Parejas',\n",
       " 'Pueblo Esther',\n",
       " 'Colastiné',\n",
       " 'General Fernández Oro',\n",
       " 'Oro Verde',\n",
       " 'Catalinas',\n",
       " 'Los Laureles',\n",
       " 'Las Grutas',\n",
       " 'San Javier',\n",
       " 'San Benito',\n",
       " 'Chivilcoy',\n",
       " 'Villa Nueva',\n",
       " 'Sauce Viejo',\n",
       " 'San Carlos Centro',\n",
       " 'Villa Ciudad Parque Los Reartes',\n",
       " 'Villa de Las Rosas',\n",
       " 'Nono',\n",
       " 'Tunuyán',\n",
       " 'Río Segundo',\n",
       " 'Cruz del Eje',\n",
       " 'Arocena',\n",
       " 'San José',\n",
       " 'Toay',\n",
       " 'Camet',\n",
       " 'Barranqueras',\n",
       " 'Buena Nueva',\n",
       " 'Hernando',\n",
       " 'El Volcán',\n",
       " 'Las Varillas',\n",
       " 'Choele Choel',\n",
       " 'Chapadmalal',\n",
       " 'Los Molinos',\n",
       " 'Monte Vera',\n",
       " 'Tornquist',\n",
       " 'Candelaria',\n",
       " 'Balnearia',\n",
       " 'Dunamar',\n",
       " 'Timbúes',\n",
       " 'Lincoln',\n",
       " 'Las Calles',\n",
       " 'Veinticinco de Mayo',\n",
       " 'Villa Parque Santa Ana',\n",
       " 'Puerto Iguazú',\n",
       " 'Los Cocos',\n",
       " 'Despeñaderos',\n",
       " 'Bella Vista',\n",
       " 'Campo Quijano',\n",
       " 'Río de Los Sauces',\n",
       " 'Villa de Soto',\n",
       " 'Santa Luisa',\n",
       " 'Las Gaviotas',\n",
       " 'San Clemente',\n",
       " 'Villa Icho Cruz',\n",
       " 'Coronel Dorrego',\n",
       " 'San Carlos',\n",
       " 'Trinidad',\n",
       " 'Bella Italia',\n",
       " 'Desvío Arijón',\n",
       " 'Arroyo Seco',\n",
       " 'Roque Pérez',\n",
       " 'Alvear',\n",
       " 'Nueva Ciudad',\n",
       " 'General Belgrano',\n",
       " 'San Fernando del Valle de Catamarca',\n",
       " 'El Trapiche',\n",
       " 'Manfredi',\n",
       " 'Cañadón Seco',\n",
       " 'Empalme Villa Constitución',\n",
       " 'Río Primero',\n",
       " 'Pueblo Andino',\n",
       " 'El Manzano',\n",
       " 'Providencia',\n",
       " 'Sinsacate',\n",
       " 'Magdalena',\n",
       " 'Cabalango',\n",
       " 'Colonia Benitez',\n",
       " 'Caseros',\n",
       " 'Chacras de Coria',\n",
       " 'Villa Los Aromos',\n",
       " 'San Martín',\n",
       " 'Mayu Sumaj',\n",
       " 'Lules',\n",
       " 'Villa Elisa',\n",
       " 'Monte Cristo',\n",
       " 'La Cumbrecita',\n",
       " 'Arroyo Leyes',\n",
       " 'Laboulaye',\n",
       " 'Lobería',\n",
       " 'Los Hornillos',\n",
       " 'San Nicolás de los Arroyos',\n",
       " 'Humboldt',\n",
       " 'Puerto Esperanza',\n",
       " 'Fray Luis Beltrán',\n",
       " 'Ricardone',\n",
       " 'Falda del Carmen',\n",
       " 'Santa Lucía',\n",
       " 'Villa La Bolsa',\n",
       " 'Cayastá',\n",
       " 'Villa Cerro Azul',\n",
       " 'Carpintería',\n",
       " 'Las Palmas',\n",
       " 'Bell Ville',\n",
       " 'Colonia Elía',\n",
       " 'Ramallo',\n",
       " 'Casa Grande',\n",
       " 'Serodino',\n",
       " 'Playa Unión',\n",
       " 'Los Cipreses',\n",
       " 'Dina Huapi',\n",
       " 'San Esteban',\n",
       " 'Santa Rosa de Calchines',\n",
       " 'General Cabrera',\n",
       " 'Trenel',\n",
       " 'Villa Dolores',\n",
       " 'Hoyo de Epuyén',\n",
       " 'Villa Belgrano',\n",
       " 'Coronel Moldes',\n",
       " 'Pedro Molina',\n",
       " 'Sarmiento',\n",
       " 'Pujato Norte',\n",
       " 'Calmayo',\n",
       " 'Capilla del Rosario',\n",
       " 'Los Pozos',\n",
       " 'Corcovado',\n",
       " 'Laguna Larga',\n",
       " 'Lago Epuyén',\n",
       " 'El Dorado',\n",
       " 'Mi Granja',\n",
       " 'Pueblo Liebig',\n",
       " 'Laguna Paiva',\n",
       " 'Agua Blanca',\n",
       " 'General Lavalle',\n",
       " 'Pérez',\n",
       " 'Pampa del Infierno',\n",
       " 'Quemú Quemú',\n",
       " 'Campo Grande',\n",
       " 'Paso de los Libres',\n",
       " 'Tilisarao',\n",
       " 'Gaiman',\n",
       " 'Renca',\n",
       " 'Ataliva',\n",
       " 'J A de la Peña',\n",
       " 'Uspallata',\n",
       " 'Potrerillos',\n",
       " 'Villa Fontana',\n",
       " 'San Antonio',\n",
       " 'San Ramón de la Nueva Orán',\n",
       " 'Aldea Salto',\n",
       " 'Pinto',\n",
       " 'General Pinto',\n",
       " 'Murphy',\n",
       " 'Rancagua',\n",
       " 'Reta',\n",
       " 'Oliveros',\n",
       " 'Alejandro Roca',\n",
       " 'Rodeo de la Cruz',\n",
       " 'Villa Paranacito',\n",
       " 'Aldea Brasilera',\n",
       " 'Chimbas',\n",
       " 'Santa Catalina',\n",
       " 'Bouwer',\n",
       " 'Helvecia',\n",
       " 'Las Tapias',\n",
       " 'Venado Tuerto',\n",
       " 'Chajarí',\n",
       " 'La Punilla',\n",
       " 'Nelson',\n",
       " 'Mar de Cobo',\n",
       " 'Nueve de Julio',\n",
       " 'Obispo Trejo',\n",
       " 'Carolina',\n",
       " 'Mayor Drummond',\n",
       " 'Villarino',\n",
       " 'El Chaltén',\n",
       " 'Villa Larca',\n",
       " 'Arroyo Ceibal',\n",
       " 'Río Gallegos',\n",
       " 'Costa Uruguay Sur',\n",
       " 'Bernardo de Irigoyen',\n",
       " 'Marull',\n",
       " 'Pehuen-có',\n",
       " 'Sunchales',\n",
       " 'Toledo',\n",
       " 'San Cristóbal',\n",
       " 'Malabrigo',\n",
       " 'Las Talitas',\n",
       " 'Gobernador Benegas',\n",
       " 'Luis Beltrán',\n",
       " 'La Serranita',\n",
       " 'Speluzzi',\n",
       " 'Laprida',\n",
       " 'Aluminé',\n",
       " 'Suipacha',\n",
       " 'Concepción',\n",
       " 'Villa Llao Llao',\n",
       " 'La Silleta',\n",
       " 'Felicia',\n",
       " 'Patagones',\n",
       " 'Rufino',\n",
       " 'Cinco Saltos',\n",
       " 'Presidente Roca',\n",
       " 'San Javier/Yacanto',\n",
       " 'Puerto Libertad',\n",
       " 'El Calafate',\n",
       " 'Fighiera',\n",
       " 'Azara',\n",
       " 'Monje',\n",
       " 'Villa Unión',\n",
       " 'San Francisco del Monte',\n",
       " 'Villa Amancay',\n",
       " 'Apóstoles',\n",
       " 'María Grande',\n",
       " 'Susana',\n",
       " 'Wenceslao Escalante',\n",
       " 'Perú',\n",
       " 'General Alvear',\n",
       " 'Garuhapé',\n",
       " 'Santa Ana',\n",
       " 'San Cayetano',\n",
       " 'Navarro',\n",
       " 'Villa Ciudad de América',\n",
       " 'Franck',\n",
       " 'Intendente Alvear',\n",
       " 'General Lagos',\n",
       " 'Vistalba',\n",
       " 'Coronel Du Graty',\n",
       " 'María Juana',\n",
       " 'Santa Teresa',\n",
       " 'San Justo',\n",
       " 'Arequito',\n",
       " 'Emilia',\n",
       " 'Güer Aike',\n",
       " 'Álvarez',\n",
       " 'General Paz',\n",
       " 'Coronel Bogado',\n",
       " 'Los Corralitos',\n",
       " 'Tancacha',\n",
       " 'Banda del Río Salí']"
      ]
     },
     "execution_count": 30,
     "metadata": {},
     "output_type": "execute_result"
    }
   ],
   "source": [
    "list_town_drop = list(towns_drop['town'])\n",
    "list_town_drop"
   ]
  },
  {
   "cell_type": "code",
   "execution_count": 31,
   "id": "6b5e8b7f",
   "metadata": {},
   "outputs": [
    {
     "data": {
      "text/plain": [
       "0"
      ]
     },
     "execution_count": 31,
     "metadata": {},
     "output_type": "execute_result"
    }
   ],
   "source": [
    "data['town'].isnull().sum()"
   ]
  },
  {
   "cell_type": "code",
   "execution_count": 32,
   "id": "dffa49eb",
   "metadata": {},
   "outputs": [],
   "source": [
    "data['town'] = data['town'].apply(lambda x: np.NaN if x in list_town_drop else x)\n",
    "\n",
    "data.dropna(subset=[\"town\"],inplace=True)"
   ]
  },
  {
   "cell_type": "code",
   "execution_count": 33,
   "id": "c39882a3",
   "metadata": {},
   "outputs": [
    {
     "data": {
      "text/plain": [
       "0"
      ]
     },
     "execution_count": 33,
     "metadata": {},
     "output_type": "execute_result"
    }
   ],
   "source": [
    "data['town'].isnull().sum()"
   ]
  },
  {
   "cell_type": "markdown",
   "id": "feea6dba",
   "metadata": {},
   "source": [
    "## [2.3 - Work on surface columns](#seccion_duplicated)"
   ]
  },
  {
   "cell_type": "code",
   "execution_count": 34,
   "id": "b324be09",
   "metadata": {},
   "outputs": [
    {
     "data": {
      "text/html": [
       "<div>\n",
       "<style scoped>\n",
       "    .dataframe tbody tr th:only-of-type {\n",
       "        vertical-align: middle;\n",
       "    }\n",
       "\n",
       "    .dataframe tbody tr th {\n",
       "        vertical-align: top;\n",
       "    }\n",
       "\n",
       "    .dataframe thead th {\n",
       "        text-align: right;\n",
       "    }\n",
       "</style>\n",
       "<table border=\"1\" class=\"dataframe\">\n",
       "  <thead>\n",
       "    <tr style=\"text-align: right;\">\n",
       "      <th></th>\n",
       "      <th>count</th>\n",
       "      <th>mean</th>\n",
       "      <th>std</th>\n",
       "      <th>min</th>\n",
       "      <th>25%</th>\n",
       "      <th>50%</th>\n",
       "      <th>75%</th>\n",
       "      <th>max</th>\n",
       "    </tr>\n",
       "    <tr>\n",
       "      <th>property_type</th>\n",
       "      <th></th>\n",
       "      <th></th>\n",
       "      <th></th>\n",
       "      <th></th>\n",
       "      <th></th>\n",
       "      <th></th>\n",
       "      <th></th>\n",
       "      <th></th>\n",
       "    </tr>\n",
       "  </thead>\n",
       "  <tbody>\n",
       "    <tr>\n",
       "      <th>PH</th>\n",
       "      <td>3050.0</td>\n",
       "      <td>118.537049</td>\n",
       "      <td>89.008297</td>\n",
       "      <td>0.0</td>\n",
       "      <td>64.0</td>\n",
       "      <td>95.0</td>\n",
       "      <td>146.00</td>\n",
       "      <td>1200.0</td>\n",
       "    </tr>\n",
       "    <tr>\n",
       "      <th>apartment</th>\n",
       "      <td>42859.0</td>\n",
       "      <td>80.862433</td>\n",
       "      <td>355.303362</td>\n",
       "      <td>0.0</td>\n",
       "      <td>42.0</td>\n",
       "      <td>59.0</td>\n",
       "      <td>88.00</td>\n",
       "      <td>49800.0</td>\n",
       "    </tr>\n",
       "    <tr>\n",
       "      <th>house</th>\n",
       "      <td>20444.0</td>\n",
       "      <td>441.262131</td>\n",
       "      <td>1022.726600</td>\n",
       "      <td>0.0</td>\n",
       "      <td>183.0</td>\n",
       "      <td>275.0</td>\n",
       "      <td>454.00</td>\n",
       "      <td>50000.0</td>\n",
       "    </tr>\n",
       "    <tr>\n",
       "      <th>store</th>\n",
       "      <td>2154.0</td>\n",
       "      <td>390.020427</td>\n",
       "      <td>1152.610322</td>\n",
       "      <td>0.0</td>\n",
       "      <td>56.0</td>\n",
       "      <td>150.0</td>\n",
       "      <td>349.75</td>\n",
       "      <td>25186.0</td>\n",
       "    </tr>\n",
       "  </tbody>\n",
       "</table>\n",
       "</div>"
      ],
      "text/plain": [
       "                 count        mean          std  min    25%    50%     75%  \\\n",
       "property_type                                                                \n",
       "PH              3050.0  118.537049    89.008297  0.0   64.0   95.0  146.00   \n",
       "apartment      42859.0   80.862433   355.303362  0.0   42.0   59.0   88.00   \n",
       "house          20444.0  441.262131  1022.726600  0.0  183.0  275.0  454.00   \n",
       "store           2154.0  390.020427  1152.610322  0.0   56.0  150.0  349.75   \n",
       "\n",
       "                   max  \n",
       "property_type           \n",
       "PH              1200.0  \n",
       "apartment      49800.0  \n",
       "house          50000.0  \n",
       "store          25186.0  "
      ]
     },
     "execution_count": 34,
     "metadata": {},
     "output_type": "execute_result"
    }
   ],
   "source": [
    "data.groupby('property_type')['surface_total_in_m2'].describe()"
   ]
  },
  {
   "cell_type": "code",
   "execution_count": 35,
   "id": "09e18ecc",
   "metadata": {},
   "outputs": [
    {
     "data": {
      "text/html": [
       "<div>\n",
       "<style scoped>\n",
       "    .dataframe tbody tr th:only-of-type {\n",
       "        vertical-align: middle;\n",
       "    }\n",
       "\n",
       "    .dataframe tbody tr th {\n",
       "        vertical-align: top;\n",
       "    }\n",
       "\n",
       "    .dataframe thead th {\n",
       "        text-align: right;\n",
       "    }\n",
       "</style>\n",
       "<table border=\"1\" class=\"dataframe\">\n",
       "  <thead>\n",
       "    <tr style=\"text-align: right;\">\n",
       "      <th></th>\n",
       "      <th>count</th>\n",
       "      <th>mean</th>\n",
       "      <th>std</th>\n",
       "      <th>min</th>\n",
       "      <th>25%</th>\n",
       "      <th>50%</th>\n",
       "      <th>75%</th>\n",
       "      <th>max</th>\n",
       "    </tr>\n",
       "    <tr>\n",
       "      <th>property_type</th>\n",
       "      <th></th>\n",
       "      <th></th>\n",
       "      <th></th>\n",
       "      <th></th>\n",
       "      <th></th>\n",
       "      <th></th>\n",
       "      <th></th>\n",
       "      <th></th>\n",
       "    </tr>\n",
       "  </thead>\n",
       "  <tbody>\n",
       "    <tr>\n",
       "      <th>PH</th>\n",
       "      <td>4205.0</td>\n",
       "      <td>88.550059</td>\n",
       "      <td>147.425348</td>\n",
       "      <td>1.0</td>\n",
       "      <td>53.0</td>\n",
       "      <td>75.0</td>\n",
       "      <td>105.00</td>\n",
       "      <td>6610.0</td>\n",
       "    </tr>\n",
       "    <tr>\n",
       "      <th>apartment</th>\n",
       "      <td>50479.0</td>\n",
       "      <td>74.644347</td>\n",
       "      <td>870.953112</td>\n",
       "      <td>0.0</td>\n",
       "      <td>40.0</td>\n",
       "      <td>52.0</td>\n",
       "      <td>77.00</td>\n",
       "      <td>187000.0</td>\n",
       "    </tr>\n",
       "    <tr>\n",
       "      <th>house</th>\n",
       "      <td>27332.0</td>\n",
       "      <td>218.925948</td>\n",
       "      <td>417.063707</td>\n",
       "      <td>1.0</td>\n",
       "      <td>120.0</td>\n",
       "      <td>182.0</td>\n",
       "      <td>260.00</td>\n",
       "      <td>38240.0</td>\n",
       "    </tr>\n",
       "    <tr>\n",
       "      <th>store</th>\n",
       "      <td>2512.0</td>\n",
       "      <td>353.646895</td>\n",
       "      <td>1320.599034</td>\n",
       "      <td>1.0</td>\n",
       "      <td>40.0</td>\n",
       "      <td>110.0</td>\n",
       "      <td>287.25</td>\n",
       "      <td>35000.0</td>\n",
       "    </tr>\n",
       "  </tbody>\n",
       "</table>\n",
       "</div>"
      ],
      "text/plain": [
       "                 count        mean          std  min    25%    50%     75%  \\\n",
       "property_type                                                                \n",
       "PH              4205.0   88.550059   147.425348  1.0   53.0   75.0  105.00   \n",
       "apartment      50479.0   74.644347   870.953112  0.0   40.0   52.0   77.00   \n",
       "house          27332.0  218.925948   417.063707  1.0  120.0  182.0  260.00   \n",
       "store           2512.0  353.646895  1320.599034  1.0   40.0  110.0  287.25   \n",
       "\n",
       "                    max  \n",
       "property_type            \n",
       "PH               6610.0  \n",
       "apartment      187000.0  \n",
       "house           38240.0  \n",
       "store           35000.0  "
      ]
     },
     "execution_count": 35,
     "metadata": {},
     "output_type": "execute_result"
    }
   ],
   "source": [
    "data.groupby('property_type')['surface_covered_in_m2'].describe()"
   ]
  },
  {
   "cell_type": "code",
   "execution_count": 36,
   "id": "7b21466f",
   "metadata": {},
   "outputs": [
    {
     "name": "stdout",
     "output_type": "stream",
     "text": [
      "Null values in surface_total_in_m2: 29740\n",
      "Null values in surface_covered_in_m2: 13719\n"
     ]
    }
   ],
   "source": [
    "print('Null values in surface_total_in_m2:', data['surface_total_in_m2'].isnull().sum())\n",
    "print('Null values in surface_covered_in_m2:', data['surface_covered_in_m2'].isnull().sum())"
   ]
  },
  {
   "cell_type": "code",
   "execution_count": 37,
   "id": "57c824aa",
   "metadata": {},
   "outputs": [
    {
     "data": {
      "text/plain": [
       "False    97892\n",
       "True       355\n",
       "Name: surface_total_in_m2, dtype: int64"
      ]
     },
     "execution_count": 37,
     "metadata": {},
     "output_type": "execute_result"
    }
   ],
   "source": [
    "zeros_surface_total = data['surface_total_in_m2'] == 0\n",
    "zeros_surface_total.value_counts()"
   ]
  },
  {
   "cell_type": "code",
   "execution_count": 38,
   "id": "55e0e622",
   "metadata": {},
   "outputs": [
    {
     "data": {
      "text/plain": [
       "False    98245\n",
       "True         2\n",
       "Name: surface_covered_in_m2, dtype: int64"
      ]
     },
     "execution_count": 38,
     "metadata": {},
     "output_type": "execute_result"
    }
   ],
   "source": [
    "zeros_surface_covered = data['surface_covered_in_m2'] == 0\n",
    "zeros_surface_covered.value_counts()"
   ]
  },
  {
   "cell_type": "code",
   "execution_count": 39,
   "id": "1c63ea18",
   "metadata": {},
   "outputs": [],
   "source": [
    "data['surface_total_zeros'] = data['surface_total_in_m2'].fillna(0)\n",
    "data['surface_covered_zeros'] = data['surface_covered_in_m2'].fillna(0)"
   ]
  },
  {
   "cell_type": "code",
   "execution_count": 40,
   "id": "4b29dbec",
   "metadata": {},
   "outputs": [
    {
     "data": {
      "text/plain": [
       "0    92949\n",
       "1     5298\n",
       "dtype: int64"
      ]
     },
     "execution_count": 40,
     "metadata": {},
     "output_type": "execute_result"
    }
   ],
   "source": [
    "# We're going to assign 1 to data with value in 'surface_total_in_m2' but without in 'surface_covered_in_m2'\n",
    "\n",
    "covered_vs_total = data.apply(lambda x : 1 if x['surface_total_zeros']!= 0 and x['surface_covered_zeros'] == 0 else 0, axis=1)\n",
    "covered_vs_total.value_counts()"
   ]
  },
  {
   "cell_type": "code",
   "execution_count": 41,
   "id": "4895bea1",
   "metadata": {},
   "outputs": [
    {
     "data": {
      "text/plain": [
       "0    76575\n",
       "1    21672\n",
       "dtype: int64"
      ]
     },
     "execution_count": 41,
     "metadata": {},
     "output_type": "execute_result"
    }
   ],
   "source": [
    "# Here, we're going to assign 1 to data with values in 'surface_covered_zeros' and without values in 'surface_total_zeros'  \n",
    "\n",
    "covered_vs_total_1 = data.apply(lambda x : 1 if x['surface_total_zeros']== 0 and x['surface_covered_zeros'] != 0 else 0, axis=1)\n",
    "covered_vs_total_1.value_counts()"
   ]
  },
  {
   "cell_type": "markdown",
   "id": "8c003a1b",
   "metadata": {},
   "source": [
    "#### - Let's create a ratio to calculate m2 total divided by m2 covered by each property type. \n",
    "#### - After that, we're going to complete the data with this ratio.\n",
    "#### - However, we need to take care of the outliers first, don't want to skew the ratio, right?"
   ]
  },
  {
   "cell_type": "code",
   "execution_count": 42,
   "id": "16dbf6f7",
   "metadata": {},
   "outputs": [
    {
     "name": "stdout",
     "output_type": "stream",
     "text": [
      "count    98247.000000\n",
      "mean       139.327287\n",
      "std        574.285313\n",
      "min          0.000000\n",
      "25%          0.000000\n",
      "50%         53.000000\n",
      "75%        130.000000\n",
      "max      50000.000000\n",
      "Name: surface_total_zeros, dtype: float64 \n",
      "\n"
     ]
    }
   ],
   "source": [
    "print(data['surface_total_zeros'].describe(), '\\n')"
   ]
  },
  {
   "cell_type": "code",
   "execution_count": 43,
   "id": "a0bb02d9",
   "metadata": {},
   "outputs": [],
   "source": [
    "data['surface_total_zeros'] = data['surface_total_zeros'].apply(lambda x: np.NaN if (x < 20) | (x > 800) else x)"
   ]
  },
  {
   "cell_type": "code",
   "execution_count": 44,
   "id": "29285824",
   "metadata": {},
   "outputs": [
    {
     "name": "stdout",
     "output_type": "stream",
     "text": [
      "32706\n",
      "65541\n"
     ]
    }
   ],
   "source": [
    "print(data['surface_total_zeros'].isnull().sum())\n",
    "print(data['surface_total_zeros'].notnull().sum())"
   ]
  },
  {
   "cell_type": "code",
   "execution_count": 45,
   "id": "4cc023a8",
   "metadata": {},
   "outputs": [
    {
     "name": "stdout",
     "output_type": "stream",
     "text": [
      "32706\n"
     ]
    }
   ],
   "source": [
    "print(data['surface_total_zeros'].isnull().sum())"
   ]
  },
  {
   "cell_type": "code",
   "execution_count": 46,
   "id": "583e5d40",
   "metadata": {},
   "outputs": [
    {
     "data": {
      "text/plain": [
       "<AxesSubplot:xlabel='property_type', ylabel='surface_total_zeros'>"
      ]
     },
     "execution_count": 46,
     "metadata": {},
     "output_type": "execute_result"
    },
    {
     "data": {
      "image/png": "[encoded data removed]",
      "text/plain": [
       "<Figure size 1008x576 with 1 Axes>"
      ]
     },
     "metadata": {
      "needs_background": "light"
     },
     "output_type": "display_data"
    }
   ],
   "source": [
    "plt.subplots(figsize=(14, 8))\n",
    "sns.violinplot(data=data, x='property_type', y='surface_total_zeros')"
   ]
  },
  {
   "cell_type": "code",
   "execution_count": 47,
   "id": "05615dd2",
   "metadata": {},
   "outputs": [
    {
     "data": {
      "text/plain": [
       "(0.0, 3000.0)"
      ]
     },
     "execution_count": 47,
     "metadata": {},
     "output_type": "execute_result"
    },
    {
     "data": {
      "image/png": "[encoded data removed]",
      "text/plain": [
       "<Figure size 432x288 with 1 Axes>"
      ]
     },
     "metadata": {
      "needs_background": "light"
     },
     "output_type": "display_data"
    }
   ],
   "source": [
    "sns.ecdfplot(data[\"surface_total_zeros\"], marker=\"o\")\n",
    "plt.ylim([0,1])\n",
    "plt.xlim([0,3000])"
   ]
  },
  {
   "cell_type": "code",
   "execution_count": 48,
   "id": "67bcf030",
   "metadata": {},
   "outputs": [
    {
     "data": {
      "text/plain": [
       "(0.0, 40.0)"
      ]
     },
     "execution_count": 48,
     "metadata": {},
     "output_type": "execute_result"
    },
    {
     "data": {
      "image/png": "[encoded data removed]",
      "text/plain": [
       "<Figure size 432x288 with 1 Axes>"
      ]
     },
     "metadata": {
      "needs_background": "light"
     },
     "output_type": "display_data"
    }
   ],
   "source": [
    "sns.ecdfplot(data[\"surface_total_zeros\"], marker=\"o\")\n",
    "plt.ylim([0,1])\n",
    "plt.xlim([0,40])"
   ]
  },
  {
   "cell_type": "code",
   "execution_count": 49,
   "id": "6e825673",
   "metadata": {},
   "outputs": [
    {
     "name": "stdout",
     "output_type": "stream",
     "text": [
      "count     98247.000000\n",
      "mean        112.088613\n",
      "std         700.570908\n",
      "min           0.000000\n",
      "25%          36.000000\n",
      "50%          63.000000\n",
      "75%         131.000000\n",
      "max      187000.000000\n",
      "Name: surface_covered_zeros, dtype: float64 \n",
      "\n"
     ]
    }
   ],
   "source": [
    "print(data['surface_covered_zeros'].describe(), '\\n')"
   ]
  },
  {
   "cell_type": "code",
   "execution_count": 50,
   "id": "4dbf8637",
   "metadata": {},
   "outputs": [],
   "source": [
    "data['surface_covered_zeros'] = data['surface_covered_zeros'].apply(lambda x: np.NaN if (x < 20) | (x > 1000) else x)"
   ]
  },
  {
   "cell_type": "code",
   "execution_count": 51,
   "id": "6c5c5bfb",
   "metadata": {},
   "outputs": [
    {
     "data": {
      "text/plain": [
       "<AxesSubplot:xlabel='property_type', ylabel='surface_covered_zeros'>"
      ]
     },
     "execution_count": 51,
     "metadata": {},
     "output_type": "execute_result"
    },
    {
     "data": {
      "image/png": "[encoded data removed]",
      "text/plain": [
       "<Figure size 1008x576 with 1 Axes>"
      ]
     },
     "metadata": {
      "needs_background": "light"
     },
     "output_type": "display_data"
    }
   ],
   "source": [
    "plt.subplots(figsize=(14, 8))\n",
    "sns.violinplot(data=data, x='property_type', y='surface_covered_zeros')"
   ]
  },
  {
   "cell_type": "code",
   "execution_count": 52,
   "id": "9efd6243",
   "metadata": {},
   "outputs": [
    {
     "data": {
      "text/plain": [
       "(0.0, 3000.0)"
      ]
     },
     "execution_count": 52,
     "metadata": {},
     "output_type": "execute_result"
    },
    {
     "data": {
      "image/png": "[encoded data removed]",
      "text/plain": [
       "<Figure size 432x288 with 1 Axes>"
      ]
     },
     "metadata": {
      "needs_background": "light"
     },
     "output_type": "display_data"
    }
   ],
   "source": [
    "sns.ecdfplot(data[\"surface_covered_zeros\"], marker=\"o\")\n",
    "plt.ylim([0,1])\n",
    "plt.xlim([0,3000])"
   ]
  },
  {
   "cell_type": "code",
   "execution_count": 53,
   "id": "e446a3f4",
   "metadata": {},
   "outputs": [
    {
     "data": {
      "text/plain": [
       "(0.0, 40.0)"
      ]
     },
     "execution_count": 53,
     "metadata": {},
     "output_type": "execute_result"
    },
    {
     "data": {
      "image/png": "[encoded data removed]",
      "text/plain": [
       "<Figure size 432x288 with 1 Axes>"
      ]
     },
     "metadata": {
      "needs_background": "light"
     },
     "output_type": "display_data"
    }
   ],
   "source": [
    "sns.ecdfplot(data[\"surface_covered_zeros\"], marker=\"o\")\n",
    "plt.ylim([0,1])\n",
    "plt.xlim([0,40])"
   ]
  },
  {
   "cell_type": "code",
   "execution_count": 54,
   "id": "b7eaa475",
   "metadata": {},
   "outputs": [
    {
     "name": "stdout",
     "output_type": "stream",
     "text": [
      "Ratio Apartment: 1.1615778419714242\n",
      "Ratio House: 1.650915834505112\n",
      "Ratio PH: 1.3384571013486974\n",
      "Ratio Store: 1.1200549200795291\n"
     ]
    }
   ],
   "source": [
    "# Ok, so let's create a function to calculate the mean between total and covered surface based on property_type\n",
    "\n",
    "def average_in(prop):\n",
    "    property_type = data['property_type'] == prop\n",
    "    average_type = data[property_type]\n",
    "    average = average_type.apply(lambda x : np.nan if x['surface_total_zeros'] == 0 or x['surface_covered_zeros'] == 0 \n",
    "                                 else x['surface_total_zeros']/x['surface_covered_zeros'], axis = 1)\n",
    "    return average.mean()\n",
    "\n",
    "ap = 'apartment'\n",
    "ho = 'house'\n",
    "ph = 'PH'\n",
    "st = 'store'\n",
    "\n",
    "ratio_ap = average_in(ap)\n",
    "ratio_ho = average_in(ho)\n",
    "ratio_ph = average_in(ph)\n",
    "ratio_st = average_in(st)\n",
    "\n",
    "print('Ratio Apartment:', ratio_ap)\n",
    "print('Ratio House:', ratio_ho)\n",
    "print('Ratio PH:', ratio_ph)\n",
    "print('Ratio Store:', ratio_st)"
   ]
  },
  {
   "cell_type": "code",
   "execution_count": 55,
   "id": "fa3cac31",
   "metadata": {},
   "outputs": [
    {
     "name": "stdout",
     "output_type": "stream",
     "text": [
      "32706\n"
     ]
    }
   ],
   "source": [
    "print(data['surface_total_zeros'].isnull().sum())"
   ]
  },
  {
   "cell_type": "code",
   "execution_count": 56,
   "id": "f2e4aa10",
   "metadata": {},
   "outputs": [
    {
     "name": "stdout",
     "output_type": "stream",
     "text": [
      "14531\n"
     ]
    }
   ],
   "source": [
    "print(data['surface_covered_zeros'].isnull().sum())"
   ]
  },
  {
   "cell_type": "code",
   "execution_count": 57,
   "id": "9d30ad83",
   "metadata": {},
   "outputs": [],
   "source": [
    "data['surface_total_zeros'].fillna(0, axis=0, inplace=True)\n",
    "data['surface_covered_zeros'].fillna(0, axis=0, inplace=True)"
   ]
  },
  {
   "cell_type": "code",
   "execution_count": 58,
   "id": "dc7b7512",
   "metadata": {},
   "outputs": [
    {
     "data": {
      "text/plain": [
       "(32706, 14)"
      ]
     },
     "execution_count": 58,
     "metadata": {},
     "output_type": "execute_result"
    }
   ],
   "source": [
    "data[data['surface_total_zeros'] == 0].shape"
   ]
  },
  {
   "cell_type": "code",
   "execution_count": 59,
   "id": "d7aa5626",
   "metadata": {},
   "outputs": [
    {
     "data": {
      "text/plain": [
       "(14531, 14)"
      ]
     },
     "execution_count": 59,
     "metadata": {},
     "output_type": "execute_result"
    }
   ],
   "source": [
    "data[data['surface_covered_zeros'] == 0].shape"
   ]
  },
  {
   "cell_type": "code",
   "execution_count": 60,
   "id": "1b097fdf",
   "metadata": {},
   "outputs": [
    {
     "data": {
      "text/plain": [
       "0.000000      21557\n",
       "40.000000      1466\n",
       "50.000000      1340\n",
       "60.000000      1161\n",
       "45.000000      1151\n",
       "              ...  \n",
       "355.442820        1\n",
       "657.000000        1\n",
       "763.000000        1\n",
       "423.975912        1\n",
       "347.311775        1\n",
       "Length: 1067, dtype: int64"
      ]
     },
     "execution_count": 60,
     "metadata": {},
     "output_type": "execute_result"
    }
   ],
   "source": [
    "# Let's fill in the data with zero in surface_total_in_m2 but with de data in surface_covered by property_type 'apartment'. \n",
    "\n",
    "total_ap = data.apply(lambda x: (x['surface_covered_zeros']*ratio_ap) if x['surface_total_zeros']==0 and x['surface_covered_zeros']!=0 \n",
    "                                           and x['property_type'] == ap else 0, axis=1) \n",
    "\n",
    "apartment_total = total_ap + data['surface_total_zeros']\n",
    "\n",
    "apartment_total.value_counts()"
   ]
  },
  {
   "cell_type": "code",
   "execution_count": 61,
   "id": "6b891fb9",
   "metadata": {},
   "outputs": [
    {
     "data": {
      "text/plain": [
       "0.000000      11037\n",
       "40.000000      2153\n",
       "50.000000      1821\n",
       "45.000000      1627\n",
       "60.000000      1565\n",
       "              ...  \n",
       "892.000000        1\n",
       "591.000000        1\n",
       "910.000000        1\n",
       "121.386613        1\n",
       "792.000000        1\n",
       "Length: 950, dtype: int64"
      ]
     },
     "execution_count": 61,
     "metadata": {},
     "output_type": "execute_result"
    }
   ],
   "source": [
    "covered_ap = data.apply(lambda x: (x['surface_total_zeros']/ratio_ap) if x['surface_covered_zeros'] == 0 and x['surface_total_zeros'] != 0 \n",
    "                                    and x['property_type'] == ap else 0, axis=1)\n",
    "\n",
    "apartment_covered = covered_ap + data['surface_covered_zeros'] \n",
    "\n",
    "apartment_covered.value_counts()"
   ]
  },
  {
   "cell_type": "code",
   "execution_count": 62,
   "id": "47fa3d38",
   "metadata": {},
   "outputs": [
    {
     "data": {
      "text/plain": [
       "0.000000       22445\n",
       "40.000000       1466\n",
       "50.000000       1340\n",
       "60.000000       1161\n",
       "45.000000       1151\n",
       "               ...  \n",
       "604.235195         1\n",
       "780.883190         1\n",
       "1221.677718        1\n",
       "848.570739         1\n",
       "1124.273683        1\n",
       "Length: 1364, dtype: int64"
      ]
     },
     "execution_count": 62,
     "metadata": {},
     "output_type": "execute_result"
    }
   ],
   "source": [
    "total_ho = data.apply(lambda x : (x['surface_covered_zeros']*ratio_ho) if x['surface_total_zeros']==0 and x['surface_covered_zeros'] != 0 \n",
    "                                   and x['property_type'] == ho else 0, axis=1)\n",
    "\n",
    "house_total = total_ho + data['surface_total_zeros']\n",
    "\n",
    "house_total.value_counts()"
   ]
  },
  {
   "cell_type": "code",
   "execution_count": 63,
   "id": "ad435738",
   "metadata": {},
   "outputs": [
    {
     "data": {
      "text/plain": [
       "0.000000      13270\n",
       "40.000000      2153\n",
       "50.000000      1821\n",
       "45.000000      1627\n",
       "60.000000      1565\n",
       "              ...  \n",
       "682.000000        1\n",
       "970.000000        1\n",
       "108.424667        1\n",
       "945.000000        1\n",
       "356.165946        1\n",
       "Length: 1051, dtype: int64"
      ]
     },
     "execution_count": 63,
     "metadata": {},
     "output_type": "execute_result"
    }
   ],
   "source": [
    "covered_ho = data.apply(lambda x : (x['surface_total_zeros']/ratio_ho) if x['surface_covered_zeros']==0 and x['surface_total_zeros'] != 0 \n",
    "                                    and x['property_type'] == ho else 0, axis=1)\n",
    "\n",
    "house_covered = covered_ho + data['surface_covered_zeros']\n",
    "\n",
    "house_covered.value_counts()"
   ]
  },
  {
   "cell_type": "code",
   "execution_count": 64,
   "id": "d89527a0",
   "metadata": {},
   "outputs": [
    {
     "data": {
      "text/plain": [
       "0.000000       31351\n",
       "40.000000       1466\n",
       "50.000000       1340\n",
       "60.000000       1161\n",
       "45.000000       1151\n",
       "               ...  \n",
       "266.352963         1\n",
       "599.000000         1\n",
       "1338.457101        1\n",
       "347.998846         1\n",
       "285.091363         1\n",
       "Length: 934, dtype: int64"
      ]
     },
     "execution_count": 64,
     "metadata": {},
     "output_type": "execute_result"
    }
   ],
   "source": [
    "total_ph = data.apply(lambda x : (x['surface_covered_zeros']*ratio_ph) if x['surface_total_zeros']==0 and x['surface_covered_zeros'] != 0 \n",
    "                                  and x['property_type'] == ph else 0, axis=1)\n",
    "\n",
    "ph_total = total_ph + data['surface_total_zeros']\n",
    "\n",
    "ph_total.value_counts()"
   ]
  },
  {
   "cell_type": "code",
   "execution_count": 65,
   "id": "4115bed6",
   "metadata": {},
   "outputs": [
    {
     "data": {
      "text/plain": [
       "0.000000      14310\n",
       "40.000000      2153\n",
       "50.000000      1821\n",
       "45.000000      1627\n",
       "60.000000      1565\n",
       "              ...  \n",
       "970.000000        1\n",
       "863.000000        1\n",
       "499.000000        1\n",
       "805.000000        1\n",
       "76.954278         1\n",
       "Length: 824, dtype: int64"
      ]
     },
     "execution_count": 65,
     "metadata": {},
     "output_type": "execute_result"
    }
   ],
   "source": [
    "covered_ph = data.apply(lambda x : (x['surface_total_zeros']/ratio_ph) if x['surface_covered_zeros']==0 and x['surface_total_zeros'] != 0 \n",
    "                                     and x['property_type'] == ph else 0, axis=1)\n",
    "\n",
    "ph_covered = covered_ph + data['surface_covered_zeros']\n",
    "\n",
    "ph_covered.value_counts()"
   ]
  },
  {
   "cell_type": "code",
   "execution_count": 66,
   "id": "186230a0",
   "metadata": {},
   "outputs": [
    {
     "data": {
      "text/plain": [
       "0.000000      32001\n",
       "40.000000      1466\n",
       "50.000000      1340\n",
       "60.000000      1161\n",
       "45.000000      1151\n",
       "              ...  \n",
       "198.249721        1\n",
       "215.050545        1\n",
       "554.427185        1\n",
       "299.054664        1\n",
       "786.278554        1\n",
       "Length: 970, dtype: int64"
      ]
     },
     "execution_count": 66,
     "metadata": {},
     "output_type": "execute_result"
    }
   ],
   "source": [
    "total_st = data.apply(lambda x : (x['surface_covered_zeros']*ratio_st) if x['surface_total_zeros']==0 and x['surface_covered_zeros'] != 0 \n",
    "                                    and x['property_type'] == st else 0, axis=1)\n",
    "\n",
    "store_total = total_st + data['surface_total_zeros']\n",
    "\n",
    "store_total.value_counts()"
   ]
  },
  {
   "cell_type": "code",
   "execution_count": 67,
   "id": "d2203ca0",
   "metadata": {},
   "outputs": [
    {
     "data": {
      "text/plain": [
       "0.000000      14212\n",
       "40.000000      2153\n",
       "50.000000      1821\n",
       "45.000000      1627\n",
       "60.000000      1565\n",
       "              ...  \n",
       "50.890362         1\n",
       "967.000000        1\n",
       "688.000000        1\n",
       "334.805011        1\n",
       "891.000000        1\n",
       "Length: 879, dtype: int64"
      ]
     },
     "execution_count": 67,
     "metadata": {},
     "output_type": "execute_result"
    }
   ],
   "source": [
    "covered_st = data.apply(lambda x : (x['surface_total_zeros']/ratio_st) if x['surface_covered_zeros']==0 and x['surface_total_zeros'] != 0\n",
    "                                    and x['property_type'] == st else 0, axis=1)\n",
    "\n",
    "store_covered = covered_st + data['surface_covered_zeros']\n",
    "\n",
    "store_covered.value_counts()\n"
   ]
  },
  {
   "cell_type": "code",
   "execution_count": 68,
   "id": "656f72e1",
   "metadata": {},
   "outputs": [],
   "source": [
    "# Create new columns with the filled data \n",
    "\n",
    "data['surface_covered_m2'] = covered_st + covered_ph + covered_ho + covered_ap + data['surface_covered_zeros']\n",
    "\n",
    "data['surface_total_m2'] = total_st + total_ph + total_ho + total_ap + data['surface_total_zeros']"
   ]
  },
  {
   "cell_type": "code",
   "execution_count": 69,
   "id": "b367c23d",
   "metadata": {},
   "outputs": [
    {
     "data": {
      "text/plain": [
       "False    89011\n",
       "True      9236\n",
       "Name: surface_covered_m2, dtype: int64"
      ]
     },
     "execution_count": 69,
     "metadata": {},
     "output_type": "execute_result"
    }
   ],
   "source": [
    "covered_zeros_final = data['surface_covered_m2'] == 0\n",
    "covered_zeros_final.value_counts()"
   ]
  },
  {
   "cell_type": "code",
   "execution_count": 70,
   "id": "0b76f2dd",
   "metadata": {},
   "outputs": [
    {
     "data": {
      "text/plain": [
       "False    89011\n",
       "True      9236\n",
       "Name: surface_total_m2, dtype: int64"
      ]
     },
     "execution_count": 70,
     "metadata": {},
     "output_type": "execute_result"
    }
   ],
   "source": [
    "total_zeros_final = data['surface_total_m2'] == 0\n",
    "total_zeros_final.value_counts()"
   ]
  },
  {
   "cell_type": "code",
   "execution_count": 71,
   "id": "feb2437f",
   "metadata": {},
   "outputs": [],
   "source": [
    "data['surface_covered_m2'] = data['surface_covered_m2'].replace([0,'0'], np.NaN)\n",
    "data['surface_total_m2'] = data['surface_total_m2'].replace([0,'0'], np.NaN)"
   ]
  },
  {
   "cell_type": "code",
   "execution_count": 72,
   "id": "74ae44bd",
   "metadata": {},
   "outputs": [
    {
     "name": "stdout",
     "output_type": "stream",
     "text": [
      "9236\n",
      "9236\n"
     ]
    }
   ],
   "source": [
    "print(data['surface_total_m2'].isnull().sum())\n",
    "print(data['surface_covered_m2'].isnull().sum())\n",
    "\n",
    "data.drop(['surface_total_zeros', 'surface_covered_zeros', 'surface_total_in_m2', 'surface_covered_in_m2', 'operation'], axis=1, inplace=True)"
   ]
  },
  {
   "cell_type": "code",
   "execution_count": 73,
   "id": "f8330c6d",
   "metadata": {},
   "outputs": [
    {
     "data": {
      "text/plain": [
       "(98247, 11)"
      ]
     },
     "execution_count": 73,
     "metadata": {},
     "output_type": "execute_result"
    }
   ],
   "source": [
    "data.shape"
   ]
  },
  {
   "cell_type": "markdown",
   "id": "135d7d43",
   "metadata": {},
   "source": [
    "#### - We're going to create a unique price_usd_m2 column (price_aprox_usd / surface_total_m2), to do that, we need to complete the column surface_total_m2 as much as we can! \n",
    "#### - Let's do some RegEx to extract information from the description column (free text) to complete the surface_total_m2 column.  "
   ]
  },
  {
   "cell_type": "code",
   "execution_count": 74,
   "id": "0021b42d",
   "metadata": {},
   "outputs": [
    {
     "data": {
      "text/plain": [
       "array([nan, '106 ', '40 ', ..., '1073 ', '697 ', '803 '], dtype=object)"
      ]
     },
     "execution_count": 74,
     "metadata": {},
     "output_type": "execute_result"
    }
   ],
   "source": [
    "meters_value_pattern = '(?P<value_mts>\\d{0,4} ?)(?P<meters>m2|mts|mt|mts2|mt2)'\n",
    "meter_regex_pattern = re.compile(meters_value_pattern, re.IGNORECASE)\n",
    "\n",
    "meters_value_match = data[\"description\"].apply(lambda x:x if x is np.NaN else meter_regex_pattern.search(x).group(\"value_mts\") if meter_regex_pattern.search(x)!=None else np.NaN)\n",
    "\n",
    "data['meters_description'] = meters_value_match\n",
    "data['meters_description'].unique()"
   ]
  },
  {
   "cell_type": "markdown",
   "id": "9b4bae5c",
   "metadata": {},
   "source": [
    "- #### Replacing null values from 'surface_total_zeros' with the data obtained from 'meters_description' column "
   ]
  },
  {
   "cell_type": "code",
   "execution_count": 75,
   "id": "f9a629f1",
   "metadata": {},
   "outputs": [
    {
     "name": "stdout",
     "output_type": "stream",
     "text": [
      "6528\n"
     ]
    }
   ],
   "source": [
    "data[\"surface_total_m2\"] = data[\"surface_total_m2\"].fillna(data[\"meters_description\"])\n",
    "\n",
    "print(data[\"surface_total_m2\"].isnull().sum())"
   ]
  },
  {
   "cell_type": "markdown",
   "id": "2bbce73f",
   "metadata": {},
   "source": [
    "- #### Convert data to float and replace \" \" for NaN values"
   ]
  },
  {
   "cell_type": "code",
   "execution_count": 76,
   "id": "45248260",
   "metadata": {},
   "outputs": [
    {
     "name": "stdout",
     "output_type": "stream",
     "text": [
      "6632\n"
     ]
    },
    {
     "data": {
      "text/plain": [
       "40.0                  1466\n",
       "50.0                  1340\n",
       "60.0                  1161\n",
       "45.0                  1151\n",
       "30.0                   992\n",
       "                      ... \n",
       "1040                     1\n",
       "51.52252632365834        1\n",
       "180.3288421328042        1\n",
       "504.12478341559813       1\n",
       "249                      1\n",
       "Name: surface_total_m2, Length: 2727, dtype: int64"
      ]
     },
     "execution_count": 76,
     "metadata": {},
     "output_type": "execute_result"
    }
   ],
   "source": [
    "data['surface_total_m2'] = data['surface_total_m2'].replace([\" \",'',' ',\"\"], np.NaN)\n",
    "\n",
    "print(data['surface_total_m2'].isna().sum())\n",
    "\n",
    "pd.to_numeric(data['surface_total_m2'])\n",
    "\n",
    "data['surface_total_m2'].value_counts()"
   ]
  },
  {
   "cell_type": "code",
   "execution_count": 77,
   "id": "67f392bb",
   "metadata": {},
   "outputs": [
    {
     "data": {
      "text/plain": [
       "(98247, 12)"
      ]
     },
     "execution_count": 77,
     "metadata": {},
     "output_type": "execute_result"
    }
   ],
   "source": [
    "data.shape"
   ]
  },
  {
   "cell_type": "markdown",
   "id": "5b8fd3b1",
   "metadata": {},
   "source": [
    "- #### Drop null rows in 'surface_total_m2'"
   ]
  },
  {
   "cell_type": "code",
   "execution_count": 78,
   "id": "4ce4dd3b",
   "metadata": {},
   "outputs": [
    {
     "data": {
      "text/plain": [
       "(91615, 12)"
      ]
     },
     "execution_count": 78,
     "metadata": {},
     "output_type": "execute_result"
    }
   ],
   "source": [
    "data.dropna(subset=['surface_total_m2'], inplace=True)\n",
    "data.shape"
   ]
  },
  {
   "cell_type": "markdown",
   "id": "3d10a8b0",
   "metadata": {},
   "source": [
    "- #### Drop null rows in 'surface_covered_m2'"
   ]
  },
  {
   "cell_type": "code",
   "execution_count": 79,
   "id": "7359a8e8",
   "metadata": {},
   "outputs": [
    {
     "data": {
      "text/plain": [
       "(89011, 12)"
      ]
     },
     "execution_count": 79,
     "metadata": {},
     "output_type": "execute_result"
    }
   ],
   "source": [
    "data.dropna(subset=['surface_covered_m2'], inplace=True)\n",
    "data.shape"
   ]
  },
  {
   "cell_type": "code",
   "execution_count": 80,
   "id": "2e2e0289",
   "metadata": {},
   "outputs": [],
   "source": [
    "pd.set_option(\"display.max_colwidth\",50)"
   ]
  },
  {
   "cell_type": "code",
   "execution_count": 81,
   "id": "6662afab",
   "metadata": {},
   "outputs": [],
   "source": [
    "pd.options.mode.chained_assignment = None  # SettingWithCopyWarning: A value is trying to be set on a copy of a slice from a DataFrame."
   ]
  },
  {
   "cell_type": "markdown",
   "id": "de3758c4",
   "metadata": {},
   "source": [
    "## [2.4 - Create 'price_usd_per_m2' column](#seccion_pricem2)"
   ]
  },
  {
   "cell_type": "code",
   "execution_count": 82,
   "id": "7502d0eb",
   "metadata": {},
   "outputs": [
    {
     "data": {
      "text/html": [
       "<div>\n",
       "<style scoped>\n",
       "    .dataframe tbody tr th:only-of-type {\n",
       "        vertical-align: middle;\n",
       "    }\n",
       "\n",
       "    .dataframe tbody tr th {\n",
       "        vertical-align: top;\n",
       "    }\n",
       "\n",
       "    .dataframe thead th {\n",
       "        text-align: right;\n",
       "    }\n",
       "</style>\n",
       "<table border=\"1\" class=\"dataframe\">\n",
       "  <thead>\n",
       "    <tr style=\"text-align: right;\">\n",
       "      <th></th>\n",
       "      <th>count</th>\n",
       "      <th>mean</th>\n",
       "      <th>std</th>\n",
       "      <th>min</th>\n",
       "      <th>25%</th>\n",
       "      <th>50%</th>\n",
       "      <th>75%</th>\n",
       "      <th>max</th>\n",
       "    </tr>\n",
       "    <tr>\n",
       "      <th>property_type</th>\n",
       "      <th></th>\n",
       "      <th></th>\n",
       "      <th></th>\n",
       "      <th></th>\n",
       "      <th></th>\n",
       "      <th></th>\n",
       "      <th></th>\n",
       "      <th></th>\n",
       "    </tr>\n",
       "  </thead>\n",
       "  <tbody>\n",
       "    <tr>\n",
       "      <th>PH</th>\n",
       "      <td>2951.0</td>\n",
       "      <td>1452.26</td>\n",
       "      <td>1050.78</td>\n",
       "      <td>36.60</td>\n",
       "      <td>995.21</td>\n",
       "      <td>1326.53</td>\n",
       "      <td>1783.77</td>\n",
       "      <td>30000.00</td>\n",
       "    </tr>\n",
       "    <tr>\n",
       "      <th>apartment</th>\n",
       "      <td>37704.0</td>\n",
       "      <td>2759.64</td>\n",
       "      <td>3019.04</td>\n",
       "      <td>1.57</td>\n",
       "      <td>1760.00</td>\n",
       "      <td>2237.19</td>\n",
       "      <td>2850.00</td>\n",
       "      <td>104486.11</td>\n",
       "    </tr>\n",
       "    <tr>\n",
       "      <th>house</th>\n",
       "      <td>17341.0</td>\n",
       "      <td>1217.22</td>\n",
       "      <td>1163.48</td>\n",
       "      <td>3.00</td>\n",
       "      <td>592.35</td>\n",
       "      <td>1122.99</td>\n",
       "      <td>1580.86</td>\n",
       "      <td>38000.00</td>\n",
       "    </tr>\n",
       "    <tr>\n",
       "      <th>store</th>\n",
       "      <td>1619.0</td>\n",
       "      <td>2324.28</td>\n",
       "      <td>2448.76</td>\n",
       "      <td>39.95</td>\n",
       "      <td>1071.43</td>\n",
       "      <td>1750.00</td>\n",
       "      <td>2836.88</td>\n",
       "      <td>57382.08</td>\n",
       "    </tr>\n",
       "  </tbody>\n",
       "</table>\n",
       "</div>"
      ],
      "text/plain": [
       "                 count     mean      std    min      25%      50%      75%  \\\n",
       "property_type                                                                \n",
       "PH              2951.0  1452.26  1050.78  36.60   995.21  1326.53  1783.77   \n",
       "apartment      37704.0  2759.64  3019.04   1.57  1760.00  2237.19  2850.00   \n",
       "house          17341.0  1217.22  1163.48   3.00   592.35  1122.99  1580.86   \n",
       "store           1619.0  2324.28  2448.76  39.95  1071.43  1750.00  2836.88   \n",
       "\n",
       "                     max  \n",
       "property_type             \n",
       "PH              30000.00  \n",
       "apartment      104486.11  \n",
       "house           38000.00  \n",
       "store           57382.08  "
      ]
     },
     "execution_count": 82,
     "metadata": {},
     "output_type": "execute_result"
    }
   ],
   "source": [
    "round(data.groupby('property_type')['price_usd_per_m2'].describe(),2)"
   ]
  },
  {
   "cell_type": "code",
   "execution_count": 83,
   "id": "43c2f699",
   "metadata": {},
   "outputs": [],
   "source": [
    "data[\"price_aprox_usd\"] = data[\"price_aprox_usd\"].astype(float)\n",
    "data[\"surface_total_m2\"] = data[\"surface_total_m2\"].astype(float)"
   ]
  },
  {
   "cell_type": "code",
   "execution_count": 84,
   "id": "1b1c0b94",
   "metadata": {},
   "outputs": [
    {
     "data": {
      "text/plain": [
       "0         1127.272727\n",
       "2         1309.090909\n",
       "4         1828.571429\n",
       "6         1226.415094\n",
       "7         3066.666667\n",
       "             ...     \n",
       "121214            NaN\n",
       "121215    7699.115044\n",
       "121216    1383.333333\n",
       "121217    2858.695652\n",
       "121218    1997.916667\n",
       "Name: price_usd_m2, Length: 89011, dtype: float64"
      ]
     },
     "execution_count": 84,
     "metadata": {},
     "output_type": "execute_result"
    }
   ],
   "source": [
    "data[\"price_usd_m2\"] = (data[\"price_aprox_usd\"] / data[\"surface_total_m2\"])\n",
    "data[\"price_usd_m2\"]"
   ]
  },
  {
   "cell_type": "code",
   "execution_count": 85,
   "id": "142ad84b",
   "metadata": {},
   "outputs": [
    {
     "data": {
      "text/html": [
       "<div>\n",
       "<style scoped>\n",
       "    .dataframe tbody tr th:only-of-type {\n",
       "        vertical-align: middle;\n",
       "    }\n",
       "\n",
       "    .dataframe tbody tr th {\n",
       "        vertical-align: top;\n",
       "    }\n",
       "\n",
       "    .dataframe thead th {\n",
       "        text-align: right;\n",
       "    }\n",
       "</style>\n",
       "<table border=\"1\" class=\"dataframe\">\n",
       "  <thead>\n",
       "    <tr style=\"text-align: right;\">\n",
       "      <th></th>\n",
       "      <th>property_type</th>\n",
       "      <th>price_aprox_usd</th>\n",
       "      <th>price_usd_per_m2</th>\n",
       "      <th>rooms</th>\n",
       "      <th>description</th>\n",
       "      <th>title</th>\n",
       "      <th>state</th>\n",
       "      <th>town</th>\n",
       "      <th>extra_info</th>\n",
       "      <th>surface_covered_m2</th>\n",
       "      <th>surface_total_m2</th>\n",
       "      <th>meters_description</th>\n",
       "      <th>price_usd_m2</th>\n",
       "    </tr>\n",
       "  </thead>\n",
       "  <tbody>\n",
       "  </tbody>\n",
       "</table>\n",
       "</div>"
      ],
      "text/plain": [
       "Empty DataFrame\n",
       "Columns: [property_type, price_aprox_usd, price_usd_per_m2, rooms, description, title, state, town, extra_info, surface_covered_m2, surface_total_m2, meters_description, price_usd_m2]\n",
       "Index: []"
      ]
     },
     "execution_count": 85,
     "metadata": {},
     "output_type": "execute_result"
    }
   ],
   "source": [
    "# Create a mask to see np.inf\n",
    "mask_inf = data[\"price_usd_m2\"] == np.inf\n",
    "data[mask_inf]"
   ]
  },
  {
   "cell_type": "code",
   "execution_count": 86,
   "id": "6c2c8f51",
   "metadata": {},
   "outputs": [],
   "source": [
    "data.replace([np.inf,-np.inf], np.nan, inplace=True)"
   ]
  },
  {
   "cell_type": "code",
   "execution_count": 87,
   "id": "7caa0a2d",
   "metadata": {},
   "outputs": [],
   "source": [
    "data.dropna(axis=0, subset=['price_usd_m2'], inplace=True)"
   ]
  },
  {
   "cell_type": "markdown",
   "id": "461a475e",
   "metadata": {},
   "source": [
    "# [3 - New Features](#section_features)\n",
    "\n",
    "#### $\\hspace{.5cm}$[3.1 - Create 'repair' column](#seccion_repair)\n",
    "\n",
    "#### $\\hspace{.5cm}$[3.2 - Create 'pool' column](#seccion_pool)\n",
    "\n",
    "#### $\\hspace{.5cm}$[3.3 - Create 'amenities'](#seccion_amenities)\n",
    "\n",
    "#### $\\hspace{.5cm}$[3.4 - Create 'garage' column](#seccion_garage)\n",
    "\n",
    "#### $\\hspace{.5cm}$[3.5 - Create 'financing' column](#seccion_financing)\n",
    "\n",
    "#### $\\hspace{.5cm}$[3.6 - Create 'rooms' column](#seccion_rooms)\n",
    "\n",
    "#### $\\hspace{.5cm}$[3.7 - Create 'bedrooms' column](#seccion_bedrooms)"
   ]
  },
  {
   "cell_type": "markdown",
   "id": "3c04d937",
   "metadata": {},
   "source": [
    "## [3.1 - Create 'repair' column](#seccion_repair)"
   ]
  },
  {
   "cell_type": "code",
   "execution_count": 88,
   "id": "d786e863",
   "metadata": {},
   "outputs": [],
   "source": [
    "pd.options.mode.chained_assignment = None  # default='warn'"
   ]
  },
  {
   "cell_type": "code",
   "execution_count": 89,
   "id": "953655da",
   "metadata": {},
   "outputs": [
    {
     "name": "stdout",
     "output_type": "stream",
     "text": [
      "                                         description repair\n",
      "0  2 AMBIENTES TIPO CASA PLANTA BAJA POR PASILLO,...   True\n",
      "2  2 AMBIENTES 3ER PISO LATERAL LIVING COMEDOR AM...  False\n",
      "4  DEPARTAMENTO CON FANTÁSTICA ILUMINACIÓN NATURA...  False\n",
      "6  MUY BUEN PH AL FRENTE CON ENTRADA INDEPENDIENT...  False\n",
      "7  EXCELENTE MONOAMBIENTE A ESTRENAR AMPLIO SUPER...  False\n"
     ]
    }
   ],
   "source": [
    "# We're going to look for the word 'repair' in 'description' feature, because could affect the price of the property.\n",
    "\n",
    "data['repair'] = data['description'].str.contains(r'(?i)refac')\n",
    "\n",
    "print(data[['description','repair']].head())"
   ]
  },
  {
   "cell_type": "code",
   "execution_count": 90,
   "id": "4110169f",
   "metadata": {},
   "outputs": [
    {
     "name": "stdout",
     "output_type": "stream",
     "text": [
      "0    78094\n",
      "1     1397\n",
      "dtype: int64\n"
     ]
    }
   ],
   "source": [
    "data_repair_column =  data.apply(lambda x: 0 if x['repair'] == False else 1, axis=1)\n",
    "\n",
    "print(data_repair_column.value_counts())\n",
    "\n",
    "data[\"repair\"] = data_repair_column"
   ]
  },
  {
   "cell_type": "code",
   "execution_count": 91,
   "id": "2b1b076f",
   "metadata": {},
   "outputs": [
    {
     "data": {
      "text/plain": [
       "<AxesSubplot:title={'center':'Repair Column'}, xlabel='repair', ylabel='count'>"
      ]
     },
     "execution_count": 91,
     "metadata": {},
     "output_type": "execute_result"
    },
    {
     "data": {
      "image/png": "[encoded data removed]",
      "text/plain": [
       "<Figure size 576x576 with 1 Axes>"
      ]
     },
     "metadata": {
      "needs_background": "light"
     },
     "output_type": "display_data"
    }
   ],
   "source": [
    "plt.subplots(figsize=(8,8))\n",
    "plt.title('Repair Column', fontsize=18)\n",
    "sns.countplot(x='repair', hue='property_type', data=data, palette='pastel')"
   ]
  },
  {
   "cell_type": "markdown",
   "id": "aa2bfafd",
   "metadata": {},
   "source": [
    "## [3.2 - Create 'pool' column](#seccion_pool)"
   ]
  },
  {
   "cell_type": "code",
   "execution_count": 92,
   "id": "3219d746",
   "metadata": {},
   "outputs": [
    {
     "name": "stdout",
     "output_type": "stream",
     "text": [
      "                                              description   pool\n",
      "0       2 AMBIENTES TIPO CASA PLANTA BAJA POR PASILLO,...  False\n",
      "2       2 AMBIENTES 3ER PISO LATERAL LIVING COMEDOR AM...  False\n",
      "4       DEPARTAMENTO CON FANTÁSTICA ILUMINACIÓN NATURA...  False\n",
      "6       MUY BUEN PH AL FRENTE CON ENTRADA INDEPENDIENT...  False\n",
      "7       EXCELENTE MONOAMBIENTE A ESTRENAR AMPLIO SUPER...   True\n",
      "...                                                   ...    ...\n",
      "121160  Edificio en esquina de muy buena categoría de ...  False\n",
      "121215  TORRE FORUM ALCORTA - MÁXIMA CATEGORÍA.Impecab...   True\n",
      "121216  Excelente e impecable casa en Venta en Las Lom...   True\n",
      "121217  VENTA DEPARTAMENTO AMBIENTE DIVISIBLE A ESTREN...  False\n",
      "121218  2 Amb al contrafrente,  luminoso. El departame...  False\n",
      "\n",
      "[79491 rows x 2 columns]\n"
     ]
    }
   ],
   "source": [
    "data[\"pool\"] = data[\"description\"].str.contains(r'(?i)pileta|piscina|pisina|picina')\n",
    "\n",
    "print(data[[\"description\",\"pool\"]])"
   ]
  },
  {
   "cell_type": "code",
   "execution_count": 93,
   "id": "757fb935",
   "metadata": {},
   "outputs": [
    {
     "data": {
      "text/plain": [
       "0    56471\n",
       "1    23020\n",
       "Name: pool, dtype: int64"
      ]
     },
     "execution_count": 93,
     "metadata": {},
     "output_type": "execute_result"
    }
   ],
   "source": [
    "data_pool_column = data.apply(lambda x: 0 if x['pool'] == False else 1, axis=1)\n",
    "\n",
    "data['pool'] = data_pool_column\n",
    "\n",
    "data['pool'].value_counts()"
   ]
  },
  {
   "cell_type": "code",
   "execution_count": 94,
   "id": "900ef1cf",
   "metadata": {},
   "outputs": [
    {
     "data": {
      "text/plain": [
       "<AxesSubplot:title={'center':'Pool Column'}, xlabel='pool', ylabel='count'>"
      ]
     },
     "execution_count": 94,
     "metadata": {},
     "output_type": "execute_result"
    },
    {
     "data": {
      "image/png": "[encoded data removed]",
      "text/plain": [
       "<Figure size 576x576 with 1 Axes>"
      ]
     },
     "metadata": {
      "needs_background": "light"
     },
     "output_type": "display_data"
    }
   ],
   "source": [
    "plt.subplots(figsize=(8,8))\n",
    "plt.title('Pool Column', fontsize=18)\n",
    "sns.countplot(x='pool', hue='property_type', data=data, palette='pastel')"
   ]
  },
  {
   "cell_type": "markdown",
   "id": "d56c66a1",
   "metadata": {},
   "source": [
    "## [3.3 - Create 'amenities' column](#seccion_amenities)"
   ]
  },
  {
   "cell_type": "code",
   "execution_count": 95,
   "id": "2d8e65e7",
   "metadata": {},
   "outputs": [
    {
     "data": {
      "text/html": [
       "<div>\n",
       "<style scoped>\n",
       "    .dataframe tbody tr th:only-of-type {\n",
       "        vertical-align: middle;\n",
       "    }\n",
       "\n",
       "    .dataframe tbody tr th {\n",
       "        vertical-align: top;\n",
       "    }\n",
       "\n",
       "    .dataframe thead th {\n",
       "        text-align: right;\n",
       "    }\n",
       "</style>\n",
       "<table border=\"1\" class=\"dataframe\">\n",
       "  <thead>\n",
       "    <tr style=\"text-align: right;\">\n",
       "      <th></th>\n",
       "      <th>description</th>\n",
       "      <th>amenities</th>\n",
       "    </tr>\n",
       "  </thead>\n",
       "  <tbody>\n",
       "    <tr>\n",
       "      <th>0</th>\n",
       "      <td>2 AMBIENTES TIPO CASA PLANTA BAJA POR PASILLO,...</td>\n",
       "      <td>False</td>\n",
       "    </tr>\n",
       "    <tr>\n",
       "      <th>2</th>\n",
       "      <td>2 AMBIENTES 3ER PISO LATERAL LIVING COMEDOR AM...</td>\n",
       "      <td>False</td>\n",
       "    </tr>\n",
       "    <tr>\n",
       "      <th>4</th>\n",
       "      <td>DEPARTAMENTO CON FANTÁSTICA ILUMINACIÓN NATURA...</td>\n",
       "      <td>False</td>\n",
       "    </tr>\n",
       "    <tr>\n",
       "      <th>6</th>\n",
       "      <td>MUY BUEN PH AL FRENTE CON ENTRADA INDEPENDIENT...</td>\n",
       "      <td>False</td>\n",
       "    </tr>\n",
       "    <tr>\n",
       "      <th>7</th>\n",
       "      <td>EXCELENTE MONOAMBIENTE A ESTRENAR AMPLIO SUPER...</td>\n",
       "      <td>False</td>\n",
       "    </tr>\n",
       "    <tr>\n",
       "      <th>...</th>\n",
       "      <td>...</td>\n",
       "      <td>...</td>\n",
       "    </tr>\n",
       "    <tr>\n",
       "      <th>121160</th>\n",
       "      <td>Edificio en esquina de muy buena categoría de ...</td>\n",
       "      <td>False</td>\n",
       "    </tr>\n",
       "    <tr>\n",
       "      <th>121215</th>\n",
       "      <td>TORRE FORUM ALCORTA - MÁXIMA CATEGORÍA.Impecab...</td>\n",
       "      <td>False</td>\n",
       "    </tr>\n",
       "    <tr>\n",
       "      <th>121216</th>\n",
       "      <td>Excelente e impecable casa en Venta en Las Lom...</td>\n",
       "      <td>False</td>\n",
       "    </tr>\n",
       "    <tr>\n",
       "      <th>121217</th>\n",
       "      <td>VENTA DEPARTAMENTO AMBIENTE DIVISIBLE A ESTREN...</td>\n",
       "      <td>True</td>\n",
       "    </tr>\n",
       "    <tr>\n",
       "      <th>121218</th>\n",
       "      <td>2 Amb al contrafrente,  luminoso. El departame...</td>\n",
       "      <td>False</td>\n",
       "    </tr>\n",
       "  </tbody>\n",
       "</table>\n",
       "<p>79491 rows × 2 columns</p>\n",
       "</div>"
      ],
      "text/plain": [
       "                                              description amenities\n",
       "0       2 AMBIENTES TIPO CASA PLANTA BAJA POR PASILLO,...     False\n",
       "2       2 AMBIENTES 3ER PISO LATERAL LIVING COMEDOR AM...     False\n",
       "4       DEPARTAMENTO CON FANTÁSTICA ILUMINACIÓN NATURA...     False\n",
       "6       MUY BUEN PH AL FRENTE CON ENTRADA INDEPENDIENT...     False\n",
       "7       EXCELENTE MONOAMBIENTE A ESTRENAR AMPLIO SUPER...     False\n",
       "...                                                   ...       ...\n",
       "121160  Edificio en esquina de muy buena categoría de ...     False\n",
       "121215  TORRE FORUM ALCORTA - MÁXIMA CATEGORÍA.Impecab...     False\n",
       "121216  Excelente e impecable casa en Venta en Las Lom...     False\n",
       "121217  VENTA DEPARTAMENTO AMBIENTE DIVISIBLE A ESTREN...      True\n",
       "121218  2 Amb al contrafrente,  luminoso. El departame...     False\n",
       "\n",
       "[79491 rows x 2 columns]"
      ]
     },
     "execution_count": 95,
     "metadata": {},
     "output_type": "execute_result"
    }
   ],
   "source": [
    "data['amenities'] = data['description'].str.contains(r'(?i)amenities')\n",
    "\n",
    "data[['description', 'amenities']]"
   ]
  },
  {
   "cell_type": "code",
   "execution_count": 96,
   "id": "3ceaf797",
   "metadata": {},
   "outputs": [
    {
     "data": {
      "text/plain": [
       "0    71729\n",
       "1     7762\n",
       "Name: amenities, dtype: int64"
      ]
     },
     "execution_count": 96,
     "metadata": {},
     "output_type": "execute_result"
    }
   ],
   "source": [
    "data_amenities_column = data.apply(lambda x: 0 if x['amenities'] == False else 1, axis=1)\n",
    "\n",
    "data['amenities'] = data_amenities_column\n",
    "\n",
    "data['amenities'].value_counts()"
   ]
  },
  {
   "cell_type": "code",
   "execution_count": 97,
   "id": "595e8a00",
   "metadata": {},
   "outputs": [
    {
     "data": {
      "text/plain": [
       "<AxesSubplot:title={'center':'Amenities Column'}, xlabel='amenities', ylabel='count'>"
      ]
     },
     "execution_count": 97,
     "metadata": {},
     "output_type": "execute_result"
    },
    {
     "data": {
      "image/png": "[encoded data removed]",
      "text/plain": [
       "<Figure size 576x576 with 1 Axes>"
      ]
     },
     "metadata": {
      "needs_background": "light"
     },
     "output_type": "display_data"
    }
   ],
   "source": [
    "plt.subplots(figsize=(8,8))\n",
    "plt.title('Amenities Column', fontsize=18)\n",
    "sns.countplot(x='amenities', hue='property_type', data=data, palette='pastel')"
   ]
  },
  {
   "cell_type": "markdown",
   "id": "fa8a24ad",
   "metadata": {},
   "source": [
    "## [3.4 - Create 'garage' column](#seccion_garage)"
   ]
  },
  {
   "cell_type": "code",
   "execution_count": 98,
   "id": "58e648e3",
   "metadata": {},
   "outputs": [
    {
     "data": {
      "text/plain": [
       "0    44070\n",
       "1    35421\n",
       "Name: garage, dtype: int64"
      ]
     },
     "execution_count": 98,
     "metadata": {},
     "output_type": "execute_result"
    }
   ],
   "source": [
    "data['garage'] = data['description'].str.contains(r'(?i)garage|cochera|estacionamiento')\n",
    "\n",
    "data_garage_column = data.apply(lambda x: 0 if x['garage'] == False else 1, axis=1)\n",
    "\n",
    "data['garage'] = data_garage_column\n",
    "\n",
    "data['garage'].value_counts()"
   ]
  },
  {
   "cell_type": "code",
   "execution_count": 99,
   "id": "89b21fe5",
   "metadata": {},
   "outputs": [
    {
     "data": {
      "text/plain": [
       "<AxesSubplot:title={'center':'Garage Column'}, xlabel='garage', ylabel='count'>"
      ]
     },
     "execution_count": 99,
     "metadata": {},
     "output_type": "execute_result"
    },
    {
     "data": {
      "image/png": "[encoded data removed]",
      "text/plain": [
       "<Figure size 576x576 with 1 Axes>"
      ]
     },
     "metadata": {
      "needs_background": "light"
     },
     "output_type": "display_data"
    }
   ],
   "source": [
    "plt.subplots(figsize=(8,8))\n",
    "plt.title('Garage Column', fontsize=18)\n",
    "sns.countplot(x='garage', hue='property_type', data=data, palette='pastel')"
   ]
  },
  {
   "cell_type": "markdown",
   "id": "78d68d1c",
   "metadata": {},
   "source": [
    "## [3.5 - Create 'financing' column](#seccion_financing)"
   ]
  },
  {
   "cell_type": "code",
   "execution_count": 100,
   "id": "c296b6e2",
   "metadata": {},
   "outputs": [
    {
     "data": {
      "text/plain": [
       "0    66612\n",
       "1    12879\n",
       "Name: financing, dtype: int64"
      ]
     },
     "execution_count": 100,
     "metadata": {},
     "output_type": "execute_result"
    }
   ],
   "source": [
    "data['financing'] = data['description'].str.contains(r'(?i)cuotas|financiacion|pozo|credito|cuota')\n",
    "\n",
    "data_financing_column = data.apply(lambda x: 0 if x['financing'] == False else 1, axis=1)\n",
    "\n",
    "data['financing'] = data_financing_column\n",
    "\n",
    "data['financing'].value_counts()"
   ]
  },
  {
   "cell_type": "code",
   "execution_count": 101,
   "id": "1a6b00d2",
   "metadata": {},
   "outputs": [
    {
     "data": {
      "text/plain": [
       "<AxesSubplot:title={'center':'Financing Column'}, xlabel='financing', ylabel='count'>"
      ]
     },
     "execution_count": 101,
     "metadata": {},
     "output_type": "execute_result"
    },
    {
     "data": {
      "image/png": "[encoded data removed]",
      "text/plain": [
       "<Figure size 576x576 with 1 Axes>"
      ]
     },
     "metadata": {
      "needs_background": "light"
     },
     "output_type": "display_data"
    }
   ],
   "source": [
    "plt.subplots(figsize=(8,8))\n",
    "plt.title('Financing Column', fontsize=18)\n",
    "sns.countplot(x='financing', hue='property_type', data=data, palette='pastel')"
   ]
  },
  {
   "cell_type": "markdown",
   "id": "0478b1c3",
   "metadata": {},
   "source": [
    "## [3.6 - Create 'rooms' column](#seccion_rooms)"
   ]
  },
  {
   "cell_type": "code",
   "execution_count": 102,
   "id": "b99d7220",
   "metadata": {},
   "outputs": [
    {
     "name": "stdout",
     "output_type": "stream",
     "text": [
      "2.0     9099\n",
      "3.0     8673\n",
      "4.0     5646\n",
      "1.0     5514\n",
      "5.0     2541\n",
      "6.0      847\n",
      "7.0      407\n",
      "8.0      158\n",
      "10.0      83\n",
      "9.0       65\n",
      "11.0      19\n",
      "12.0      18\n",
      "15.0       4\n",
      "14.0       4\n",
      "17.0       3\n",
      "22.0       3\n",
      "25.0       3\n",
      "13.0       3\n",
      "20.0       1\n",
      "16.0       1\n",
      "18.0       1\n",
      "32.0       1\n",
      "19.0       1\n",
      "Name: rooms, dtype: int64\n",
      "\n",
      "\n",
      "46396\n"
     ]
    }
   ],
   "source": [
    "print(data['rooms'].value_counts())\n",
    "print('\\n')\n",
    "print(data['rooms'].isnull().sum())"
   ]
  },
  {
   "cell_type": "code",
   "execution_count": 103,
   "id": "b9b57dc3",
   "metadata": {},
   "outputs": [],
   "source": [
    "# Number of rooms could be a number or a string, let's check on both. \n",
    "\n",
    "data['description'] = data['description'].astype(str)\n",
    "data['title'] = data['title'].astype(str)"
   ]
  },
  {
   "cell_type": "code",
   "execution_count": 104,
   "id": "91789a5f",
   "metadata": {},
   "outputs": [],
   "source": [
    "def search_pattern(pattern, column, new_column):\n",
    "    \n",
    "    regex_pattern = re.compile(pattern, re.IGNORECASE)\n",
    "    match = data[column].apply(lambda x: x if x is np.NaN else regex_pattern.search(x).group(\"numero\") if regex_pattern.search(x)!=None else np.NaN)\n",
    "    data.insert(4, new_column, match)"
   ]
  },
  {
   "cell_type": "code",
   "execution_count": 105,
   "id": "15ca2326",
   "metadata": {},
   "outputs": [],
   "source": [
    "# Doing some Regex! \n",
    "\n",
    "rooms_number = \"(?P<numero>\\d\\d?) ?(ambientes|ambiente|amb)\"\n",
    "rooms_str = \"(?P<numero>mono|un|dos|tres|cuatro|cinco|seis|siete|ocho|nueve|diez) ?(ambientes|ambiente|amb)\"\n",
    "\n",
    "\n",
    "search_pattern(rooms_number, \"description\", \"room_number_description\")\n",
    "search_pattern(rooms_str, \"description\", \"room_str_description\")\n",
    "search_pattern(rooms_number, \"title\", \"room_number_title\")\n",
    "search_pattern(rooms_str, \"title\", \"room_str_title\")"
   ]
  },
  {
   "cell_type": "code",
   "execution_count": 106,
   "id": "97e34ab1",
   "metadata": {},
   "outputs": [],
   "source": [
    "data['room_str_description'] = data['room_str_description'].astype(str)\n",
    "data['room_str_title'] = data['room_str_title'].astype(str)"
   ]
  },
  {
   "cell_type": "code",
   "execution_count": 107,
   "id": "9a5b60f1",
   "metadata": {},
   "outputs": [],
   "source": [
    "# Replacing some strings for numbers\n",
    "\n",
    "dictionary = {\"mono\":1,\"MONO\":1,\"Mono\":1, \"un\":1, \"UN\":1,\"Un\":1,\"dos\":2,\"DOS\":2,\"Dos\":2,\"tres\":3,\"TRES\":3,\"Tres\":3,\"cuatro\":4,\"CUATRO\":4,\"Cuatro\":4,\"cinco\":5,\"Cinco\":5,\"CINCO\":5,\"seis\":6, \"Seis\":6,\"SEIS\":6,\"siete\":7,\"SIETE\":7,\"ocho\":8,\"OCHO\":8,\"nueve\":9,\"NUEVE\":9,\"diez\":10,\"DIEZ\":10}\n",
    "\n",
    "data[\"room_str_description\"].replace(dictionary,inplace=True ) \n",
    "\n",
    "data[\"room_str_title\"].replace(dictionary, inplace=True)"
   ]
  },
  {
   "cell_type": "code",
   "execution_count": 108,
   "id": "ab1ab8dc",
   "metadata": {},
   "outputs": [],
   "source": [
    "data['room_str_description'] = data['room_str_description'].astype(float)\n",
    "data['room_str_title'] = data['room_str_title'].astype(float)\n",
    "data['room_number_description'] = data['room_number_description'].astype(float)\n",
    "data['room_number_title'] = data['room_number_title'].astype(float)"
   ]
  },
  {
   "cell_type": "code",
   "execution_count": 109,
   "id": "88f60ea8",
   "metadata": {},
   "outputs": [
    {
     "data": {
      "text/html": [
       "<div>\n",
       "<style scoped>\n",
       "    .dataframe tbody tr th:only-of-type {\n",
       "        vertical-align: middle;\n",
       "    }\n",
       "\n",
       "    .dataframe tbody tr th {\n",
       "        vertical-align: top;\n",
       "    }\n",
       "\n",
       "    .dataframe thead th {\n",
       "        text-align: right;\n",
       "    }\n",
       "</style>\n",
       "<table border=\"1\" class=\"dataframe\">\n",
       "  <thead>\n",
       "    <tr style=\"text-align: right;\">\n",
       "      <th></th>\n",
       "      <th>room_number_description</th>\n",
       "      <th>room_str_description</th>\n",
       "      <th>room_number_title</th>\n",
       "      <th>room_str_title</th>\n",
       "    </tr>\n",
       "  </thead>\n",
       "  <tbody>\n",
       "    <tr>\n",
       "      <th>0</th>\n",
       "      <td>2.0</td>\n",
       "      <td>NaN</td>\n",
       "      <td>2.0</td>\n",
       "      <td>NaN</td>\n",
       "    </tr>\n",
       "    <tr>\n",
       "      <th>2</th>\n",
       "      <td>2.0</td>\n",
       "      <td>NaN</td>\n",
       "      <td>2.0</td>\n",
       "      <td>NaN</td>\n",
       "    </tr>\n",
       "    <tr>\n",
       "      <th>4</th>\n",
       "      <td>NaN</td>\n",
       "      <td>NaN</td>\n",
       "      <td>2.0</td>\n",
       "      <td>NaN</td>\n",
       "    </tr>\n",
       "    <tr>\n",
       "      <th>6</th>\n",
       "      <td>NaN</td>\n",
       "      <td>NaN</td>\n",
       "      <td>NaN</td>\n",
       "      <td>NaN</td>\n",
       "    </tr>\n",
       "    <tr>\n",
       "      <th>7</th>\n",
       "      <td>NaN</td>\n",
       "      <td>1.0</td>\n",
       "      <td>NaN</td>\n",
       "      <td>1.0</td>\n",
       "    </tr>\n",
       "    <tr>\n",
       "      <th>...</th>\n",
       "      <td>...</td>\n",
       "      <td>...</td>\n",
       "      <td>...</td>\n",
       "      <td>...</td>\n",
       "    </tr>\n",
       "    <tr>\n",
       "      <th>121160</th>\n",
       "      <td>NaN</td>\n",
       "      <td>NaN</td>\n",
       "      <td>NaN</td>\n",
       "      <td>NaN</td>\n",
       "    </tr>\n",
       "    <tr>\n",
       "      <th>121215</th>\n",
       "      <td>NaN</td>\n",
       "      <td>NaN</td>\n",
       "      <td>3.0</td>\n",
       "      <td>NaN</td>\n",
       "    </tr>\n",
       "    <tr>\n",
       "      <th>121216</th>\n",
       "      <td>NaN</td>\n",
       "      <td>NaN</td>\n",
       "      <td>NaN</td>\n",
       "      <td>NaN</td>\n",
       "    </tr>\n",
       "    <tr>\n",
       "      <th>121217</th>\n",
       "      <td>NaN</td>\n",
       "      <td>1.0</td>\n",
       "      <td>NaN</td>\n",
       "      <td>NaN</td>\n",
       "    </tr>\n",
       "    <tr>\n",
       "      <th>121218</th>\n",
       "      <td>2.0</td>\n",
       "      <td>NaN</td>\n",
       "      <td>2.0</td>\n",
       "      <td>NaN</td>\n",
       "    </tr>\n",
       "  </tbody>\n",
       "</table>\n",
       "<p>46396 rows × 4 columns</p>\n",
       "</div>"
      ],
      "text/plain": [
       "        room_number_description  room_str_description  room_number_title  \\\n",
       "0                           2.0                   NaN                2.0   \n",
       "2                           2.0                   NaN                2.0   \n",
       "4                           NaN                   NaN                2.0   \n",
       "6                           NaN                   NaN                NaN   \n",
       "7                           NaN                   1.0                NaN   \n",
       "...                         ...                   ...                ...   \n",
       "121160                      NaN                   NaN                NaN   \n",
       "121215                      NaN                   NaN                3.0   \n",
       "121216                      NaN                   NaN                NaN   \n",
       "121217                      NaN                   1.0                NaN   \n",
       "121218                      2.0                   NaN                2.0   \n",
       "\n",
       "        room_str_title  \n",
       "0                  NaN  \n",
       "2                  NaN  \n",
       "4                  NaN  \n",
       "6                  NaN  \n",
       "7                  1.0  \n",
       "...                ...  \n",
       "121160             NaN  \n",
       "121215             NaN  \n",
       "121216             NaN  \n",
       "121217             NaN  \n",
       "121218             NaN  \n",
       "\n",
       "[46396 rows x 4 columns]"
      ]
     },
     "execution_count": 109,
     "metadata": {},
     "output_type": "execute_result"
    }
   ],
   "source": [
    "mask_no_rooms = data['rooms'].isnull()\n",
    "data.loc[mask_no_rooms,[\"room_number_description\",\"room_str_description\",\"room_number_title\",\"room_str_title\"]]"
   ]
  },
  {
   "cell_type": "code",
   "execution_count": 110,
   "id": "6288b12a",
   "metadata": {},
   "outputs": [
    {
     "name": "stdout",
     "output_type": "stream",
     "text": [
      "Room Number Description:  30670\n",
      "Room String Description:  10878\n",
      "Room Number Title:  18851\n",
      "Room String title:  4624\n",
      "The amount of nulls in Rooms is: 46396\n"
     ]
    }
   ],
   "source": [
    "print('Room Number Description: ', data[\"room_number_description\"].notnull().sum())\n",
    "print('Room String Description: ', data[\"room_str_description\"].notnull().sum())\n",
    "print('Room Number Title: ', data[\"room_number_title\"].notnull().sum())\n",
    "print('Room String title: ', data[\"room_str_title\"].notnull().sum())\n",
    "\n",
    "print('The amount of nulls in Rooms is:', data['rooms'].isnull().sum())"
   ]
  },
  {
   "cell_type": "code",
   "execution_count": 111,
   "id": "5b913c12",
   "metadata": {},
   "outputs": [
    {
     "name": "stdout",
     "output_type": "stream",
     "text": [
      "The amount of nulls in Rooms, afeter filling it is: 24455\n"
     ]
    }
   ],
   "source": [
    "# Filling the null values in \"rooms\" with the data extracted from the description\n",
    "\n",
    "data[\"rooms\"].fillna(data[\"room_number_description\"], inplace=True)\n",
    "data[\"rooms\"].fillna(data[\"room_str_description\"], inplace=True)\n",
    "data[\"rooms\"].fillna(data[\"room_number_title\"], inplace=True)\n",
    "data[\"rooms\"].fillna(data[\"room_str_title\"], inplace=True)\n",
    "\n",
    "print('The amount of nulls in Rooms, afeter filling it is:', data['rooms'].isnull().sum())"
   ]
  },
  {
   "cell_type": "code",
   "execution_count": 112,
   "id": "0199d677",
   "metadata": {},
   "outputs": [
    {
     "name": "stdout",
     "output_type": "stream",
     "text": [
      "2.0     15571\n",
      "3.0     14731\n",
      "1.0      9623\n",
      "4.0      9297\n",
      "5.0      3661\n",
      "6.0      1182\n",
      "7.0       527\n",
      "8.0       178\n",
      "10.0       89\n",
      "9.0        77\n",
      "11.0       27\n",
      "12.0       20\n",
      "0.0        12\n",
      "14.0        6\n",
      "15.0        5\n",
      "17.0        4\n",
      "13.0        3\n",
      "22.0        3\n",
      "25.0        3\n",
      "16.0        2\n",
      "24.0        2\n",
      "20.0        2\n",
      "50.0        2\n",
      "72.0        2\n",
      "32.0        1\n",
      "19.0        1\n",
      "73.0        1\n",
      "23.0        1\n",
      "74.0        1\n",
      "36.0        1\n",
      "18.0        1\n",
      "Name: rooms, dtype: int64\n"
     ]
    }
   ],
   "source": [
    "# The amount of nulls after filling is weird, let's check the values\n",
    "\n",
    "print(data['rooms'].value_counts())"
   ]
  },
  {
   "cell_type": "code",
   "execution_count": 113,
   "id": "bf3073e3",
   "metadata": {},
   "outputs": [],
   "source": [
    "data['rooms'] = data['rooms'].replace('nan', np.NaN)"
   ]
  },
  {
   "cell_type": "code",
   "execution_count": 114,
   "id": "336d7245",
   "metadata": {},
   "outputs": [
    {
     "name": "stdout",
     "output_type": "stream",
     "text": [
      "2.0     15571\n",
      "3.0     14731\n",
      "1.0      9623\n",
      "4.0      9297\n",
      "5.0      3661\n",
      "6.0      1182\n",
      "7.0       527\n",
      "8.0       178\n",
      "10.0       89\n",
      "9.0        77\n",
      "11.0       27\n",
      "12.0       20\n",
      "0.0        12\n",
      "14.0        6\n",
      "15.0        5\n",
      "17.0        4\n",
      "13.0        3\n",
      "22.0        3\n",
      "25.0        3\n",
      "16.0        2\n",
      "24.0        2\n",
      "20.0        2\n",
      "50.0        2\n",
      "72.0        2\n",
      "32.0        1\n",
      "19.0        1\n",
      "73.0        1\n",
      "23.0        1\n",
      "74.0        1\n",
      "36.0        1\n",
      "18.0        1\n",
      "Name: rooms, dtype: int64\n"
     ]
    }
   ],
   "source": [
    "# The amount of nulls after filling is weird, let's check the values\n",
    "\n",
    "print(data['rooms'].value_counts())"
   ]
  },
  {
   "cell_type": "code",
   "execution_count": 115,
   "id": "9722930d",
   "metadata": {},
   "outputs": [
    {
     "name": "stdout",
     "output_type": "stream",
     "text": [
      "The amount of nulls in Rooms, afeter filling it is: 24455\n"
     ]
    }
   ],
   "source": [
    "print('The amount of nulls in Rooms, afeter filling it is:', data['rooms'].isnull().sum())"
   ]
  },
  {
   "cell_type": "markdown",
   "id": "ce92036a",
   "metadata": {},
   "source": [
    "## [3.7 - Create 'bedrooms' column](#seccion_bedrooms)"
   ]
  },
  {
   "cell_type": "code",
   "execution_count": 116,
   "id": "fb390e05",
   "metadata": {},
   "outputs": [],
   "source": [
    "bedroom_number = \"(?P<numero>\\d\\d?) ?(dorm|cuarto)\"\n",
    "bedroom_str = \"(?P<numero>mono|un|dos|tres|cuatro|cinco|seis|siete|ocho|nueve|diez) ?(dorm|cuarto)\"\n",
    "\n",
    "search_pattern(bedroom_number, \"description\", \"bedroom_number\")\n",
    "search_pattern(bedroom_str, \"description\", \"bedroom_str\")"
   ]
  },
  {
   "cell_type": "code",
   "execution_count": 117,
   "id": "80463ca6",
   "metadata": {},
   "outputs": [
    {
     "data": {
      "text/html": [
       "<div>\n",
       "<style scoped>\n",
       "    .dataframe tbody tr th:only-of-type {\n",
       "        vertical-align: middle;\n",
       "    }\n",
       "\n",
       "    .dataframe tbody tr th {\n",
       "        vertical-align: top;\n",
       "    }\n",
       "\n",
       "    .dataframe thead th {\n",
       "        text-align: right;\n",
       "    }\n",
       "</style>\n",
       "<table border=\"1\" class=\"dataframe\">\n",
       "  <thead>\n",
       "    <tr style=\"text-align: right;\">\n",
       "      <th></th>\n",
       "      <th>bedroom_number</th>\n",
       "      <th>bedroom_str</th>\n",
       "    </tr>\n",
       "  </thead>\n",
       "  <tbody>\n",
       "    <tr>\n",
       "      <th>0</th>\n",
       "      <td>NaN</td>\n",
       "      <td>NaN</td>\n",
       "    </tr>\n",
       "    <tr>\n",
       "      <th>2</th>\n",
       "      <td>NaN</td>\n",
       "      <td>NaN</td>\n",
       "    </tr>\n",
       "    <tr>\n",
       "      <th>4</th>\n",
       "      <td>1</td>\n",
       "      <td>NaN</td>\n",
       "    </tr>\n",
       "    <tr>\n",
       "      <th>6</th>\n",
       "      <td>NaN</td>\n",
       "      <td>DOS</td>\n",
       "    </tr>\n",
       "    <tr>\n",
       "      <th>7</th>\n",
       "      <td>NaN</td>\n",
       "      <td>NaN</td>\n",
       "    </tr>\n",
       "    <tr>\n",
       "      <th>...</th>\n",
       "      <td>...</td>\n",
       "      <td>...</td>\n",
       "    </tr>\n",
       "    <tr>\n",
       "      <th>121160</th>\n",
       "      <td>NaN</td>\n",
       "      <td>NaN</td>\n",
       "    </tr>\n",
       "    <tr>\n",
       "      <th>121215</th>\n",
       "      <td>2</td>\n",
       "      <td>NaN</td>\n",
       "    </tr>\n",
       "    <tr>\n",
       "      <th>121216</th>\n",
       "      <td>3</td>\n",
       "      <td>NaN</td>\n",
       "    </tr>\n",
       "    <tr>\n",
       "      <th>121217</th>\n",
       "      <td>NaN</td>\n",
       "      <td>NaN</td>\n",
       "    </tr>\n",
       "    <tr>\n",
       "      <th>121218</th>\n",
       "      <td>NaN</td>\n",
       "      <td>NaN</td>\n",
       "    </tr>\n",
       "  </tbody>\n",
       "</table>\n",
       "<p>46396 rows × 2 columns</p>\n",
       "</div>"
      ],
      "text/plain": [
       "       bedroom_number bedroom_str\n",
       "0                 NaN         NaN\n",
       "2                 NaN         NaN\n",
       "4                   1         NaN\n",
       "6                 NaN         DOS\n",
       "7                 NaN         NaN\n",
       "...               ...         ...\n",
       "121160            NaN         NaN\n",
       "121215              2         NaN\n",
       "121216              3         NaN\n",
       "121217            NaN         NaN\n",
       "121218            NaN         NaN\n",
       "\n",
       "[46396 rows x 2 columns]"
      ]
     },
     "execution_count": 117,
     "metadata": {},
     "output_type": "execute_result"
    }
   ],
   "source": [
    "data.loc[mask_no_rooms,[\"bedroom_number\",\"bedroom_str\"]]"
   ]
  },
  {
   "cell_type": "code",
   "execution_count": 118,
   "id": "6d1c873c",
   "metadata": {},
   "outputs": [],
   "source": [
    "data[\"bedroom_str\"] = data[\"bedroom_str\"].str.lower()\n",
    "dictionary_str = {\"un\":1,\"dos\":2,\"tres\":3,\"cuatro\":4,\"cinco\":5,\"seis\":6,\"siete\":7,\"ocho\":8,\"nueve\":9,\"diez\":10}\n",
    "data[\"bedroom_str\"] = data[\"bedroom_str\"].replace(dictionary_str)"
   ]
  },
  {
   "cell_type": "code",
   "execution_count": 119,
   "id": "f299989f",
   "metadata": {},
   "outputs": [],
   "source": [
    "data['bedroom_number'] = data['bedroom_number'].replace('nan', np.NaN)  "
   ]
  },
  {
   "cell_type": "code",
   "execution_count": 120,
   "id": "a4c2bb4c",
   "metadata": {},
   "outputs": [
    {
     "data": {
      "text/html": [
       "<div>\n",
       "<style scoped>\n",
       "    .dataframe tbody tr th:only-of-type {\n",
       "        vertical-align: middle;\n",
       "    }\n",
       "\n",
       "    .dataframe tbody tr th {\n",
       "        vertical-align: top;\n",
       "    }\n",
       "\n",
       "    .dataframe thead th {\n",
       "        text-align: right;\n",
       "    }\n",
       "</style>\n",
       "<table border=\"1\" class=\"dataframe\">\n",
       "  <thead>\n",
       "    <tr style=\"text-align: right;\">\n",
       "      <th></th>\n",
       "      <th>rooms</th>\n",
       "      <th>bedroom_number</th>\n",
       "      <th>bedroom_str</th>\n",
       "    </tr>\n",
       "  </thead>\n",
       "  <tbody>\n",
       "    <tr>\n",
       "      <th>0</th>\n",
       "      <td>2.0</td>\n",
       "      <td>NaN</td>\n",
       "      <td>NaN</td>\n",
       "    </tr>\n",
       "    <tr>\n",
       "      <th>2</th>\n",
       "      <td>2.0</td>\n",
       "      <td>NaN</td>\n",
       "      <td>NaN</td>\n",
       "    </tr>\n",
       "    <tr>\n",
       "      <th>4</th>\n",
       "      <td>2.0</td>\n",
       "      <td>1</td>\n",
       "      <td>NaN</td>\n",
       "    </tr>\n",
       "    <tr>\n",
       "      <th>6</th>\n",
       "      <td>NaN</td>\n",
       "      <td>NaN</td>\n",
       "      <td>2.0</td>\n",
       "    </tr>\n",
       "    <tr>\n",
       "      <th>7</th>\n",
       "      <td>1.0</td>\n",
       "      <td>NaN</td>\n",
       "      <td>NaN</td>\n",
       "    </tr>\n",
       "    <tr>\n",
       "      <th>...</th>\n",
       "      <td>...</td>\n",
       "      <td>...</td>\n",
       "      <td>...</td>\n",
       "    </tr>\n",
       "    <tr>\n",
       "      <th>121160</th>\n",
       "      <td>NaN</td>\n",
       "      <td>NaN</td>\n",
       "      <td>NaN</td>\n",
       "    </tr>\n",
       "    <tr>\n",
       "      <th>121215</th>\n",
       "      <td>3.0</td>\n",
       "      <td>2</td>\n",
       "      <td>NaN</td>\n",
       "    </tr>\n",
       "    <tr>\n",
       "      <th>121216</th>\n",
       "      <td>NaN</td>\n",
       "      <td>3</td>\n",
       "      <td>NaN</td>\n",
       "    </tr>\n",
       "    <tr>\n",
       "      <th>121217</th>\n",
       "      <td>1.0</td>\n",
       "      <td>NaN</td>\n",
       "      <td>NaN</td>\n",
       "    </tr>\n",
       "    <tr>\n",
       "      <th>121218</th>\n",
       "      <td>2.0</td>\n",
       "      <td>NaN</td>\n",
       "      <td>NaN</td>\n",
       "    </tr>\n",
       "  </tbody>\n",
       "</table>\n",
       "<p>46396 rows × 3 columns</p>\n",
       "</div>"
      ],
      "text/plain": [
       "        rooms bedroom_number  bedroom_str\n",
       "0         2.0            NaN          NaN\n",
       "2         2.0            NaN          NaN\n",
       "4         2.0              1          NaN\n",
       "6         NaN            NaN          2.0\n",
       "7         1.0            NaN          NaN\n",
       "...       ...            ...          ...\n",
       "121160    NaN            NaN          NaN\n",
       "121215    3.0              2          NaN\n",
       "121216    NaN              3          NaN\n",
       "121217    1.0            NaN          NaN\n",
       "121218    2.0            NaN          NaN\n",
       "\n",
       "[46396 rows x 3 columns]"
      ]
     },
     "execution_count": 120,
     "metadata": {},
     "output_type": "execute_result"
    }
   ],
   "source": [
    "data.loc[mask_no_rooms,[\"rooms\",\"bedroom_number\",\"bedroom_str\"]]"
   ]
  },
  {
   "cell_type": "code",
   "execution_count": 121,
   "id": "cf9791ca",
   "metadata": {},
   "outputs": [
    {
     "name": "stdout",
     "output_type": "stream",
     "text": [
      "42338\n",
      "64720\n"
     ]
    }
   ],
   "source": [
    "data['bedroom_number'].fillna(data['bedroom_str'], axis=0, inplace=True)\n",
    "\n",
    "print(data['bedroom_number'].isnull().sum())\n",
    "print(data['bedroom_str'].isnull().sum())"
   ]
  },
  {
   "cell_type": "code",
   "execution_count": 122,
   "id": "8152b7e5",
   "metadata": {},
   "outputs": [
    {
     "data": {
      "text/plain": [
       "24455"
      ]
     },
     "execution_count": 122,
     "metadata": {},
     "output_type": "execute_result"
    }
   ],
   "source": [
    "data['rooms'].isnull().sum()"
   ]
  },
  {
   "cell_type": "code",
   "execution_count": 123,
   "id": "eb25f0f9",
   "metadata": {},
   "outputs": [
    {
     "data": {
      "text/plain": [
       "9578"
      ]
     },
     "execution_count": 123,
     "metadata": {},
     "output_type": "execute_result"
    }
   ],
   "source": [
    "data['rooms'].fillna(data['bedroom_number'], axis=0, inplace=True)\n",
    "\n",
    "data['rooms'].isnull().sum()"
   ]
  },
  {
   "cell_type": "markdown",
   "id": "1a6348af",
   "metadata": {},
   "source": [
    "#### * Keep working on 'rooms' column"
   ]
  },
  {
   "cell_type": "code",
   "execution_count": 124,
   "id": "32b95bde",
   "metadata": {},
   "outputs": [],
   "source": [
    "# Clean the column description\n",
    "\n",
    "regex = '[\\\\!\\\\\"\\\\#\\\\$\\\\%\\\\&\\\\\\'\\\\(\\\\)\\\\*\\\\+\\\\,\\\\-\\\\.\\\\/\\\\:\\\\;\\\\<\\\\=\\\\>\\\\?\\\\@\\\\[\\\\\\\\\\\\]\\\\^_\\\\`\\\\{\\\\|\\\\}\\\\~]'\n",
    "pattern = re.compile(regex)\n",
    "data[\"description_clean\"] = data[\"description\"].apply(lambda x: pattern.sub(\"\", x))"
   ]
  },
  {
   "cell_type": "code",
   "execution_count": 125,
   "id": "9d5a5ab8",
   "metadata": {},
   "outputs": [],
   "source": [
    "# Let's look for some keywords for the column 'rooms'\n",
    "\n",
    "data[\"kitchen_diningroom\"] = data[\"description_clean\"].str.contains(r'cocina comedor?') #cocina comedor\n",
    "data[\"living_diningroom\"] = data[\"description_clean\"].str.contains(r'living comedor?') #living comedor\n",
    "data[\"kitchen\"] = data[\"description_clean\"].str.contains(r'cocina?') #cocina unica\n",
    "data[\"living\"] = data[\"description_clean\"].str.contains(r'living?') #living unico\n",
    "data[\"diningroom\"] = data[\"description_clean\"].str.contains(r'comedor?') #comedor unico"
   ]
  },
  {
   "cell_type": "code",
   "execution_count": 126,
   "id": "068fe477",
   "metadata": {},
   "outputs": [],
   "source": [
    "# Creating dummy variables for the data that we found in 'description'\n",
    "\n",
    "data[\"kitchen_diningroom\"] =  data[\"kitchen_diningroom\"].apply(lambda x: 0 if x == False else 1)\n",
    "data[\"living_diningroom\"] =  data[\"living_diningroom\"].apply(lambda x: 0 if x == False else 1)\n",
    "data[\"kitchen\"] =  data[\"kitchen\"].apply(lambda x: 0 if x == False else 1)\n",
    "data[\"living\"] =  data[\"living\"].apply(lambda x: 0 if x == False else 1)\n",
    "data[\"diningroom\"] =  data[\"diningroom\"].apply(lambda x: 0 if x == False else 1)"
   ]
  },
  {
   "cell_type": "code",
   "execution_count": 127,
   "id": "c0e86cbc",
   "metadata": {},
   "outputs": [
    {
     "data": {
      "text/html": [
       "<div>\n",
       "<style scoped>\n",
       "    .dataframe tbody tr th:only-of-type {\n",
       "        vertical-align: middle;\n",
       "    }\n",
       "\n",
       "    .dataframe tbody tr th {\n",
       "        vertical-align: top;\n",
       "    }\n",
       "\n",
       "    .dataframe thead th {\n",
       "        text-align: right;\n",
       "    }\n",
       "</style>\n",
       "<table border=\"1\" class=\"dataframe\">\n",
       "  <thead>\n",
       "    <tr style=\"text-align: right;\">\n",
       "      <th></th>\n",
       "      <th>kitchen_diningroom</th>\n",
       "      <th>living_diningroom</th>\n",
       "      <th>kitchen</th>\n",
       "      <th>living</th>\n",
       "      <th>diningroom</th>\n",
       "    </tr>\n",
       "  </thead>\n",
       "  <tbody>\n",
       "    <tr>\n",
       "      <th>0</th>\n",
       "      <td>0</td>\n",
       "      <td>0</td>\n",
       "      <td>0</td>\n",
       "      <td>0</td>\n",
       "      <td>0</td>\n",
       "    </tr>\n",
       "    <tr>\n",
       "      <th>2</th>\n",
       "      <td>0</td>\n",
       "      <td>0</td>\n",
       "      <td>0</td>\n",
       "      <td>0</td>\n",
       "      <td>0</td>\n",
       "    </tr>\n",
       "    <tr>\n",
       "      <th>4</th>\n",
       "      <td>0</td>\n",
       "      <td>0</td>\n",
       "      <td>0</td>\n",
       "      <td>0</td>\n",
       "      <td>0</td>\n",
       "    </tr>\n",
       "    <tr>\n",
       "      <th>6</th>\n",
       "      <td>0</td>\n",
       "      <td>0</td>\n",
       "      <td>0</td>\n",
       "      <td>0</td>\n",
       "      <td>0</td>\n",
       "    </tr>\n",
       "    <tr>\n",
       "      <th>7</th>\n",
       "      <td>0</td>\n",
       "      <td>0</td>\n",
       "      <td>0</td>\n",
       "      <td>0</td>\n",
       "      <td>0</td>\n",
       "    </tr>\n",
       "    <tr>\n",
       "      <th>...</th>\n",
       "      <td>...</td>\n",
       "      <td>...</td>\n",
       "      <td>...</td>\n",
       "      <td>...</td>\n",
       "      <td>...</td>\n",
       "    </tr>\n",
       "    <tr>\n",
       "      <th>121160</th>\n",
       "      <td>0</td>\n",
       "      <td>1</td>\n",
       "      <td>1</td>\n",
       "      <td>1</td>\n",
       "      <td>1</td>\n",
       "    </tr>\n",
       "    <tr>\n",
       "      <th>121215</th>\n",
       "      <td>0</td>\n",
       "      <td>0</td>\n",
       "      <td>0</td>\n",
       "      <td>0</td>\n",
       "      <td>1</td>\n",
       "    </tr>\n",
       "    <tr>\n",
       "      <th>121216</th>\n",
       "      <td>0</td>\n",
       "      <td>1</td>\n",
       "      <td>1</td>\n",
       "      <td>1</td>\n",
       "      <td>1</td>\n",
       "    </tr>\n",
       "    <tr>\n",
       "      <th>121217</th>\n",
       "      <td>0</td>\n",
       "      <td>0</td>\n",
       "      <td>0</td>\n",
       "      <td>0</td>\n",
       "      <td>0</td>\n",
       "    </tr>\n",
       "    <tr>\n",
       "      <th>121218</th>\n",
       "      <td>0</td>\n",
       "      <td>1</td>\n",
       "      <td>1</td>\n",
       "      <td>1</td>\n",
       "      <td>1</td>\n",
       "    </tr>\n",
       "  </tbody>\n",
       "</table>\n",
       "<p>46396 rows × 5 columns</p>\n",
       "</div>"
      ],
      "text/plain": [
       "        kitchen_diningroom  living_diningroom  kitchen  living  diningroom\n",
       "0                        0                  0        0       0           0\n",
       "2                        0                  0        0       0           0\n",
       "4                        0                  0        0       0           0\n",
       "6                        0                  0        0       0           0\n",
       "7                        0                  0        0       0           0\n",
       "...                    ...                ...      ...     ...         ...\n",
       "121160                   0                  1        1       1           1\n",
       "121215                   0                  0        0       0           1\n",
       "121216                   0                  1        1       1           1\n",
       "121217                   0                  0        0       0           0\n",
       "121218                   0                  1        1       1           1\n",
       "\n",
       "[46396 rows x 5 columns]"
      ]
     },
     "execution_count": 127,
     "metadata": {},
     "output_type": "execute_result"
    }
   ],
   "source": [
    "data.loc[mask_no_rooms,[\"kitchen_diningroom\",\"living_diningroom\", \"kitchen\", \"living\", \"diningroom\"]]"
   ]
  },
  {
   "cell_type": "code",
   "execution_count": 128,
   "id": "26072f80",
   "metadata": {},
   "outputs": [],
   "source": [
    "data[\"kitchen_diningroom\"] = data[\"kitchen_diningroom\"].astype(float)\n",
    "data[\"living_diningroom\"] = data[\"living_diningroom\"].astype(float)\n",
    "data[\"kitchen\"] = data[\"kitchen\"].astype(float)\n",
    "data[\"living\"] = data[\"living\"].astype(float)\n",
    "data[\"diningroom\"] = data[\"diningroom\"].astype(float)"
   ]
  },
  {
   "cell_type": "code",
   "execution_count": 129,
   "id": "1311d129",
   "metadata": {},
   "outputs": [
    {
     "data": {
      "text/html": [
       "<div>\n",
       "<style scoped>\n",
       "    .dataframe tbody tr th:only-of-type {\n",
       "        vertical-align: middle;\n",
       "    }\n",
       "\n",
       "    .dataframe tbody tr th {\n",
       "        vertical-align: top;\n",
       "    }\n",
       "\n",
       "    .dataframe thead th {\n",
       "        text-align: right;\n",
       "    }\n",
       "</style>\n",
       "<table border=\"1\" class=\"dataframe\">\n",
       "  <thead>\n",
       "    <tr style=\"text-align: right;\">\n",
       "      <th></th>\n",
       "      <th>rooms</th>\n",
       "      <th>kitchen_diningroom</th>\n",
       "      <th>living_diningroom</th>\n",
       "      <th>kitchen</th>\n",
       "      <th>living</th>\n",
       "      <th>diningroom</th>\n",
       "      <th>room_total</th>\n",
       "    </tr>\n",
       "  </thead>\n",
       "  <tbody>\n",
       "    <tr>\n",
       "      <th>54592</th>\n",
       "      <td>1</td>\n",
       "      <td>0.0</td>\n",
       "      <td>0.0</td>\n",
       "      <td>0.0</td>\n",
       "      <td>0.0</td>\n",
       "      <td>0.0</td>\n",
       "      <td>0.0</td>\n",
       "    </tr>\n",
       "    <tr>\n",
       "      <th>15687</th>\n",
       "      <td>4</td>\n",
       "      <td>0.0</td>\n",
       "      <td>1.0</td>\n",
       "      <td>0.0</td>\n",
       "      <td>1.0</td>\n",
       "      <td>1.0</td>\n",
       "      <td>3.0</td>\n",
       "    </tr>\n",
       "    <tr>\n",
       "      <th>93129</th>\n",
       "      <td>1</td>\n",
       "      <td>1.0</td>\n",
       "      <td>0.0</td>\n",
       "      <td>1.0</td>\n",
       "      <td>0.0</td>\n",
       "      <td>1.0</td>\n",
       "      <td>3.0</td>\n",
       "    </tr>\n",
       "    <tr>\n",
       "      <th>56193</th>\n",
       "      <td>3</td>\n",
       "      <td>0.0</td>\n",
       "      <td>0.0</td>\n",
       "      <td>1.0</td>\n",
       "      <td>1.0</td>\n",
       "      <td>1.0</td>\n",
       "      <td>3.0</td>\n",
       "    </tr>\n",
       "    <tr>\n",
       "      <th>105840</th>\n",
       "      <td>2</td>\n",
       "      <td>0.0</td>\n",
       "      <td>0.0</td>\n",
       "      <td>0.0</td>\n",
       "      <td>1.0</td>\n",
       "      <td>1.0</td>\n",
       "      <td>2.0</td>\n",
       "    </tr>\n",
       "    <tr>\n",
       "      <th>56382</th>\n",
       "      <td>4</td>\n",
       "      <td>0.0</td>\n",
       "      <td>0.0</td>\n",
       "      <td>0.0</td>\n",
       "      <td>0.0</td>\n",
       "      <td>0.0</td>\n",
       "      <td>0.0</td>\n",
       "    </tr>\n",
       "    <tr>\n",
       "      <th>110585</th>\n",
       "      <td>2</td>\n",
       "      <td>0.0</td>\n",
       "      <td>0.0</td>\n",
       "      <td>0.0</td>\n",
       "      <td>0.0</td>\n",
       "      <td>0.0</td>\n",
       "      <td>0.0</td>\n",
       "    </tr>\n",
       "    <tr>\n",
       "      <th>8450</th>\n",
       "      <td>1</td>\n",
       "      <td>0.0</td>\n",
       "      <td>0.0</td>\n",
       "      <td>0.0</td>\n",
       "      <td>0.0</td>\n",
       "      <td>0.0</td>\n",
       "      <td>0.0</td>\n",
       "    </tr>\n",
       "    <tr>\n",
       "      <th>71426</th>\n",
       "      <td>3</td>\n",
       "      <td>1.0</td>\n",
       "      <td>0.0</td>\n",
       "      <td>1.0</td>\n",
       "      <td>0.0</td>\n",
       "      <td>1.0</td>\n",
       "      <td>3.0</td>\n",
       "    </tr>\n",
       "    <tr>\n",
       "      <th>20651</th>\n",
       "      <td>4</td>\n",
       "      <td>0.0</td>\n",
       "      <td>1.0</td>\n",
       "      <td>1.0</td>\n",
       "      <td>1.0</td>\n",
       "      <td>1.0</td>\n",
       "      <td>4.0</td>\n",
       "    </tr>\n",
       "    <tr>\n",
       "      <th>60396</th>\n",
       "      <td>1</td>\n",
       "      <td>0.0</td>\n",
       "      <td>0.0</td>\n",
       "      <td>0.0</td>\n",
       "      <td>0.0</td>\n",
       "      <td>0.0</td>\n",
       "      <td>0.0</td>\n",
       "    </tr>\n",
       "    <tr>\n",
       "      <th>54274</th>\n",
       "      <td>NaN</td>\n",
       "      <td>0.0</td>\n",
       "      <td>0.0</td>\n",
       "      <td>0.0</td>\n",
       "      <td>0.0</td>\n",
       "      <td>0.0</td>\n",
       "      <td>0.0</td>\n",
       "    </tr>\n",
       "    <tr>\n",
       "      <th>78432</th>\n",
       "      <td>2</td>\n",
       "      <td>1.0</td>\n",
       "      <td>0.0</td>\n",
       "      <td>1.0</td>\n",
       "      <td>1.0</td>\n",
       "      <td>1.0</td>\n",
       "      <td>4.0</td>\n",
       "    </tr>\n",
       "    <tr>\n",
       "      <th>95802</th>\n",
       "      <td>4</td>\n",
       "      <td>0.0</td>\n",
       "      <td>0.0</td>\n",
       "      <td>0.0</td>\n",
       "      <td>0.0</td>\n",
       "      <td>0.0</td>\n",
       "      <td>0.0</td>\n",
       "    </tr>\n",
       "    <tr>\n",
       "      <th>72716</th>\n",
       "      <td>6</td>\n",
       "      <td>0.0</td>\n",
       "      <td>0.0</td>\n",
       "      <td>0.0</td>\n",
       "      <td>1.0</td>\n",
       "      <td>1.0</td>\n",
       "      <td>2.0</td>\n",
       "    </tr>\n",
       "  </tbody>\n",
       "</table>\n",
       "</div>"
      ],
      "text/plain": [
       "       rooms  kitchen_diningroom  living_diningroom  kitchen  living  \\\n",
       "54592      1                 0.0                0.0      0.0     0.0   \n",
       "15687      4                 0.0                1.0      0.0     1.0   \n",
       "93129      1                 1.0                0.0      1.0     0.0   \n",
       "56193      3                 0.0                0.0      1.0     1.0   \n",
       "105840     2                 0.0                0.0      0.0     1.0   \n",
       "56382      4                 0.0                0.0      0.0     0.0   \n",
       "110585     2                 0.0                0.0      0.0     0.0   \n",
       "8450       1                 0.0                0.0      0.0     0.0   \n",
       "71426      3                 1.0                0.0      1.0     0.0   \n",
       "20651      4                 0.0                1.0      1.0     1.0   \n",
       "60396      1                 0.0                0.0      0.0     0.0   \n",
       "54274    NaN                 0.0                0.0      0.0     0.0   \n",
       "78432      2                 1.0                0.0      1.0     1.0   \n",
       "95802      4                 0.0                0.0      0.0     0.0   \n",
       "72716      6                 0.0                0.0      0.0     1.0   \n",
       "\n",
       "        diningroom  room_total  \n",
       "54592          0.0         0.0  \n",
       "15687          1.0         3.0  \n",
       "93129          1.0         3.0  \n",
       "56193          1.0         3.0  \n",
       "105840         1.0         2.0  \n",
       "56382          0.0         0.0  \n",
       "110585         0.0         0.0  \n",
       "8450           0.0         0.0  \n",
       "71426          1.0         3.0  \n",
       "20651          1.0         4.0  \n",
       "60396          0.0         0.0  \n",
       "54274          0.0         0.0  \n",
       "78432          1.0         4.0  \n",
       "95802          0.0         0.0  \n",
       "72716          1.0         2.0  "
      ]
     },
     "execution_count": 129,
     "metadata": {},
     "output_type": "execute_result"
    }
   ],
   "source": [
    "# Let's sum the quantity of rooms and add it to 'room_sum' column\n",
    "\n",
    "columns_list = [\"kitchen_diningroom\", \"living_diningroom\",\"kitchen\", \"living\", \"diningroom\"]\n",
    "columns_list\n",
    "data[\"room_total\"] = data[columns_list].sum(axis=1)\n",
    "data.loc[mask_no_rooms,[\"rooms\",\"kitchen_diningroom\", \"living_diningroom\",\"kitchen\", \"living\", \"diningroom\",\"room_total\"]].sample(15)"
   ]
  },
  {
   "cell_type": "code",
   "execution_count": 130,
   "id": "61bd19b8",
   "metadata": {},
   "outputs": [],
   "source": [
    "# Logical conditions to complete the column 'rooms_total':\n",
    "# For example: Add 1 room if the property hasn't a kitchen  \n",
    "\n",
    "data[\"room_total\"] = data.apply(lambda x: x.room_total + 1 if (x.bedroom_number != 0) and (x.kitchen_diningroom == 0) and (x.kitchen == 0) else x.room_total, axis=1)\n",
    "\n",
    "data[\"room_total\"] = data.apply(lambda x: x.room_total - 1 if (x.bedroom_number != 0) and (x.kitchen_diningroom == 1) and (x.kitchen == 1) else x.room_total, axis=1)\n",
    "\n",
    "data[\"room_total\"] = data.apply(lambda x: x.room_total - 1 if (x.bedroom_number == 0) and (x.living_diningroom == 1) and (x.living == 1) else x.room_total, axis=1)\n",
    "\n",
    "data[\"room_total\"] = data.apply(lambda x: x.room_total - 1 if (x.kitchen_diningroom == 1) and (x.diningroom == 1) else  x.room_total, axis=1)\n",
    "\n",
    "data[\"room_total\"] = data.apply(lambda x: x.room_total - 1 if (x.living_diningroom == 1) and (x.living == 1) else x.room_total, axis=1)"
   ]
  },
  {
   "cell_type": "code",
   "execution_count": 131,
   "id": "ca687e42",
   "metadata": {},
   "outputs": [
    {
     "data": {
      "text/html": [
       "<div>\n",
       "<style scoped>\n",
       "    .dataframe tbody tr th:only-of-type {\n",
       "        vertical-align: middle;\n",
       "    }\n",
       "\n",
       "    .dataframe tbody tr th {\n",
       "        vertical-align: top;\n",
       "    }\n",
       "\n",
       "    .dataframe thead th {\n",
       "        text-align: right;\n",
       "    }\n",
       "</style>\n",
       "<table border=\"1\" class=\"dataframe\">\n",
       "  <thead>\n",
       "    <tr style=\"text-align: right;\">\n",
       "      <th></th>\n",
       "      <th>rooms</th>\n",
       "      <th>room_number_description</th>\n",
       "      <th>kitchen_diningroom</th>\n",
       "      <th>living_diningroom</th>\n",
       "      <th>kitchen</th>\n",
       "      <th>living</th>\n",
       "      <th>diningroom</th>\n",
       "      <th>rooms_total</th>\n",
       "    </tr>\n",
       "  </thead>\n",
       "  <tbody>\n",
       "    <tr>\n",
       "      <th>0</th>\n",
       "      <td>2</td>\n",
       "      <td>2.0</td>\n",
       "      <td>0.0</td>\n",
       "      <td>0.0</td>\n",
       "      <td>0.0</td>\n",
       "      <td>0.0</td>\n",
       "      <td>0.0</td>\n",
       "      <td>1.0</td>\n",
       "    </tr>\n",
       "    <tr>\n",
       "      <th>2</th>\n",
       "      <td>2</td>\n",
       "      <td>2.0</td>\n",
       "      <td>0.0</td>\n",
       "      <td>0.0</td>\n",
       "      <td>0.0</td>\n",
       "      <td>0.0</td>\n",
       "      <td>0.0</td>\n",
       "      <td>1.0</td>\n",
       "    </tr>\n",
       "    <tr>\n",
       "      <th>4</th>\n",
       "      <td>2</td>\n",
       "      <td>NaN</td>\n",
       "      <td>0.0</td>\n",
       "      <td>0.0</td>\n",
       "      <td>0.0</td>\n",
       "      <td>0.0</td>\n",
       "      <td>0.0</td>\n",
       "      <td>1.0</td>\n",
       "    </tr>\n",
       "    <tr>\n",
       "      <th>6</th>\n",
       "      <td>2</td>\n",
       "      <td>NaN</td>\n",
       "      <td>0.0</td>\n",
       "      <td>0.0</td>\n",
       "      <td>0.0</td>\n",
       "      <td>0.0</td>\n",
       "      <td>0.0</td>\n",
       "      <td>1.0</td>\n",
       "    </tr>\n",
       "    <tr>\n",
       "      <th>7</th>\n",
       "      <td>1</td>\n",
       "      <td>NaN</td>\n",
       "      <td>0.0</td>\n",
       "      <td>0.0</td>\n",
       "      <td>0.0</td>\n",
       "      <td>0.0</td>\n",
       "      <td>0.0</td>\n",
       "      <td>1.0</td>\n",
       "    </tr>\n",
       "    <tr>\n",
       "      <th>8</th>\n",
       "      <td>2</td>\n",
       "      <td>NaN</td>\n",
       "      <td>0.0</td>\n",
       "      <td>0.0</td>\n",
       "      <td>0.0</td>\n",
       "      <td>0.0</td>\n",
       "      <td>0.0</td>\n",
       "      <td>1.0</td>\n",
       "    </tr>\n",
       "    <tr>\n",
       "      <th>12</th>\n",
       "      <td>2</td>\n",
       "      <td>2.0</td>\n",
       "      <td>0.0</td>\n",
       "      <td>0.0</td>\n",
       "      <td>0.0</td>\n",
       "      <td>0.0</td>\n",
       "      <td>0.0</td>\n",
       "      <td>1.0</td>\n",
       "    </tr>\n",
       "    <tr>\n",
       "      <th>15</th>\n",
       "      <td>3</td>\n",
       "      <td>NaN</td>\n",
       "      <td>0.0</td>\n",
       "      <td>1.0</td>\n",
       "      <td>1.0</td>\n",
       "      <td>1.0</td>\n",
       "      <td>1.0</td>\n",
       "      <td>3.0</td>\n",
       "    </tr>\n",
       "    <tr>\n",
       "      <th>18</th>\n",
       "      <td>3</td>\n",
       "      <td>NaN</td>\n",
       "      <td>0.0</td>\n",
       "      <td>0.0</td>\n",
       "      <td>0.0</td>\n",
       "      <td>0.0</td>\n",
       "      <td>1.0</td>\n",
       "      <td>2.0</td>\n",
       "    </tr>\n",
       "    <tr>\n",
       "      <th>22</th>\n",
       "      <td>3</td>\n",
       "      <td>NaN</td>\n",
       "      <td>0.0</td>\n",
       "      <td>0.0</td>\n",
       "      <td>1.0</td>\n",
       "      <td>1.0</td>\n",
       "      <td>0.0</td>\n",
       "      <td>2.0</td>\n",
       "    </tr>\n",
       "    <tr>\n",
       "      <th>26</th>\n",
       "      <td>2</td>\n",
       "      <td>NaN</td>\n",
       "      <td>0.0</td>\n",
       "      <td>1.0</td>\n",
       "      <td>1.0</td>\n",
       "      <td>1.0</td>\n",
       "      <td>1.0</td>\n",
       "      <td>3.0</td>\n",
       "    </tr>\n",
       "    <tr>\n",
       "      <th>27</th>\n",
       "      <td>NaN</td>\n",
       "      <td>NaN</td>\n",
       "      <td>0.0</td>\n",
       "      <td>0.0</td>\n",
       "      <td>0.0</td>\n",
       "      <td>0.0</td>\n",
       "      <td>0.0</td>\n",
       "      <td>1.0</td>\n",
       "    </tr>\n",
       "    <tr>\n",
       "      <th>30</th>\n",
       "      <td>3</td>\n",
       "      <td>NaN</td>\n",
       "      <td>0.0</td>\n",
       "      <td>1.0</td>\n",
       "      <td>1.0</td>\n",
       "      <td>1.0</td>\n",
       "      <td>1.0</td>\n",
       "      <td>3.0</td>\n",
       "    </tr>\n",
       "    <tr>\n",
       "      <th>31</th>\n",
       "      <td>3</td>\n",
       "      <td>3.0</td>\n",
       "      <td>1.0</td>\n",
       "      <td>0.0</td>\n",
       "      <td>1.0</td>\n",
       "      <td>1.0</td>\n",
       "      <td>1.0</td>\n",
       "      <td>2.0</td>\n",
       "    </tr>\n",
       "    <tr>\n",
       "      <th>36</th>\n",
       "      <td>3</td>\n",
       "      <td>NaN</td>\n",
       "      <td>1.0</td>\n",
       "      <td>1.0</td>\n",
       "      <td>1.0</td>\n",
       "      <td>1.0</td>\n",
       "      <td>1.0</td>\n",
       "      <td>2.0</td>\n",
       "    </tr>\n",
       "    <tr>\n",
       "      <th>39</th>\n",
       "      <td>2</td>\n",
       "      <td>NaN</td>\n",
       "      <td>0.0</td>\n",
       "      <td>0.0</td>\n",
       "      <td>0.0</td>\n",
       "      <td>0.0</td>\n",
       "      <td>0.0</td>\n",
       "      <td>1.0</td>\n",
       "    </tr>\n",
       "    <tr>\n",
       "      <th>42</th>\n",
       "      <td>2</td>\n",
       "      <td>NaN</td>\n",
       "      <td>0.0</td>\n",
       "      <td>0.0</td>\n",
       "      <td>1.0</td>\n",
       "      <td>0.0</td>\n",
       "      <td>1.0</td>\n",
       "      <td>2.0</td>\n",
       "    </tr>\n",
       "    <tr>\n",
       "      <th>44</th>\n",
       "      <td>3</td>\n",
       "      <td>NaN</td>\n",
       "      <td>0.0</td>\n",
       "      <td>0.0</td>\n",
       "      <td>1.0</td>\n",
       "      <td>0.0</td>\n",
       "      <td>1.0</td>\n",
       "      <td>2.0</td>\n",
       "    </tr>\n",
       "    <tr>\n",
       "      <th>47</th>\n",
       "      <td>NaN</td>\n",
       "      <td>NaN</td>\n",
       "      <td>0.0</td>\n",
       "      <td>0.0</td>\n",
       "      <td>0.0</td>\n",
       "      <td>0.0</td>\n",
       "      <td>0.0</td>\n",
       "      <td>1.0</td>\n",
       "    </tr>\n",
       "    <tr>\n",
       "      <th>49</th>\n",
       "      <td>NaN</td>\n",
       "      <td>NaN</td>\n",
       "      <td>0.0</td>\n",
       "      <td>0.0</td>\n",
       "      <td>0.0</td>\n",
       "      <td>0.0</td>\n",
       "      <td>0.0</td>\n",
       "      <td>1.0</td>\n",
       "    </tr>\n",
       "  </tbody>\n",
       "</table>\n",
       "</div>"
      ],
      "text/plain": [
       "   rooms  room_number_description  kitchen_diningroom  living_diningroom  \\\n",
       "0      2                      2.0                 0.0                0.0   \n",
       "2      2                      2.0                 0.0                0.0   \n",
       "4      2                      NaN                 0.0                0.0   \n",
       "6      2                      NaN                 0.0                0.0   \n",
       "7      1                      NaN                 0.0                0.0   \n",
       "8      2                      NaN                 0.0                0.0   \n",
       "12     2                      2.0                 0.0                0.0   \n",
       "15     3                      NaN                 0.0                1.0   \n",
       "18     3                      NaN                 0.0                0.0   \n",
       "22     3                      NaN                 0.0                0.0   \n",
       "26     2                      NaN                 0.0                1.0   \n",
       "27   NaN                      NaN                 0.0                0.0   \n",
       "30     3                      NaN                 0.0                1.0   \n",
       "31     3                      3.0                 1.0                0.0   \n",
       "36     3                      NaN                 1.0                1.0   \n",
       "39     2                      NaN                 0.0                0.0   \n",
       "42     2                      NaN                 0.0                0.0   \n",
       "44     3                      NaN                 0.0                0.0   \n",
       "47   NaN                      NaN                 0.0                0.0   \n",
       "49   NaN                      NaN                 0.0                0.0   \n",
       "\n",
       "    kitchen  living  diningroom  rooms_total  \n",
       "0       0.0     0.0         0.0          1.0  \n",
       "2       0.0     0.0         0.0          1.0  \n",
       "4       0.0     0.0         0.0          1.0  \n",
       "6       0.0     0.0         0.0          1.0  \n",
       "7       0.0     0.0         0.0          1.0  \n",
       "8       0.0     0.0         0.0          1.0  \n",
       "12      0.0     0.0         0.0          1.0  \n",
       "15      1.0     1.0         1.0          3.0  \n",
       "18      0.0     0.0         1.0          2.0  \n",
       "22      1.0     1.0         0.0          2.0  \n",
       "26      1.0     1.0         1.0          3.0  \n",
       "27      0.0     0.0         0.0          1.0  \n",
       "30      1.0     1.0         1.0          3.0  \n",
       "31      1.0     1.0         1.0          2.0  \n",
       "36      1.0     1.0         1.0          2.0  \n",
       "39      0.0     0.0         0.0          1.0  \n",
       "42      1.0     0.0         1.0          2.0  \n",
       "44      1.0     0.0         1.0          2.0  \n",
       "47      0.0     0.0         0.0          1.0  \n",
       "49      0.0     0.0         0.0          1.0  "
      ]
     },
     "execution_count": 131,
     "metadata": {},
     "output_type": "execute_result"
    }
   ],
   "source": [
    "data[\"rooms_total\"] = data[\"room_total\"].replace(0, np.NaN)\n",
    "data[\"rooms_total\"] = data[\"room_total\"].replace('nan', np.NaN)\n",
    "\n",
    "data.loc[mask_no_rooms,[\"rooms\",\"room_number_description\",\"kitchen_diningroom\",\"living_diningroom\",\"kitchen\",\"living\",\"diningroom\",\"rooms_total\"]].head(20)"
   ]
  },
  {
   "cell_type": "code",
   "execution_count": 132,
   "id": "bfaf1fba",
   "metadata": {},
   "outputs": [
    {
     "name": "stdout",
     "output_type": "stream",
     "text": [
      "0\n"
     ]
    }
   ],
   "source": [
    "data[\"rooms\"].fillna(data[\"rooms_total\"], axis=0, inplace=True)\n",
    "\n",
    "print(data[\"rooms\"].isnull().sum())"
   ]
  },
  {
   "cell_type": "code",
   "execution_count": 133,
   "id": "0fb41327",
   "metadata": {},
   "outputs": [
    {
     "data": {
      "text/plain": [
       "Index(['property_type', 'price_aprox_usd', 'price_usd_per_m2', 'rooms',\n",
       "       'bedroom_str', 'bedroom_number', 'room_str_title', 'room_number_title',\n",
       "       'room_str_description', 'room_number_description', 'description',\n",
       "       'title', 'state', 'town', 'extra_info', 'surface_covered_m2',\n",
       "       'surface_total_m2', 'meters_description', 'price_usd_m2', 'repair',\n",
       "       'pool', 'amenities', 'garage', 'financing', 'description_clean',\n",
       "       'kitchen_diningroom', 'living_diningroom', 'kitchen', 'living',\n",
       "       'diningroom', 'room_total', 'rooms_total'],\n",
       "      dtype='object')"
      ]
     },
     "execution_count": 133,
     "metadata": {},
     "output_type": "execute_result"
    }
   ],
   "source": [
    "data.columns"
   ]
  },
  {
   "cell_type": "code",
   "execution_count": 134,
   "id": "94a535f8",
   "metadata": {},
   "outputs": [],
   "source": [
    "data.drop(['living_diningroom', 'kitchen', 'living', 'diningroom','price_usd_per_m2', 'description_clean', 'meters_description','bedroom_str','bedroom_number', 'room_str_title', 'room_number_title', 'room_str_description', 'room_number_description', 'kitchen_diningroom', 'room_total', 'rooms_total'], axis=1, inplace = True)"
   ]
  },
  {
   "cell_type": "code",
   "execution_count": 135,
   "id": "9f765338",
   "metadata": {},
   "outputs": [
    {
     "data": {
      "text/plain": [
       "2.0     19982\n",
       "1.0     17414\n",
       "3.0     17234\n",
       "4.0      9505\n",
       "5.0      3684\n",
       "        ...  \n",
       "73.0        1\n",
       "18.0        1\n",
       "19.0        1\n",
       "23.0        1\n",
       "74.0        1\n",
       "Name: rooms, Length: 61, dtype: int64"
      ]
     },
     "execution_count": 135,
     "metadata": {},
     "output_type": "execute_result"
    }
   ],
   "source": [
    "data[\"rooms\"].value_counts()"
   ]
  },
  {
   "cell_type": "code",
   "execution_count": 136,
   "id": "ae9acf15",
   "metadata": {},
   "outputs": [],
   "source": [
    "data['rooms'] = data['rooms'].astype(int)"
   ]
  },
  {
   "cell_type": "markdown",
   "id": "b27a60a0",
   "metadata": {},
   "source": [
    "# [4 - Outliers](#section_outliers)\n",
    "\n",
    "#### $\\hspace{.5cm}$[4.1 - Analyze outliers 'price_usd_m2' column](#seccion_outliers)\n",
    "\n",
    "#### $\\hspace{.5cm}$[4.2 - Drop 'apartment' outliers](#seccion_apartment)\n",
    "\n",
    "#### $\\hspace{.5cm}$[4.3 - Drop 'PH' outliers](#seccion_ph)\n",
    "\n",
    "#### $\\hspace{.5cm}$[4.4 - Drop 'house' outliers](#seccion_house)\n",
    "\n",
    "#### $\\hspace{.5cm}$[4.5 - Drop 'store' outliers](#seccion_store)"
   ]
  },
  {
   "cell_type": "markdown",
   "id": "e314ba03",
   "metadata": {},
   "source": [
    "## [4.1 - Analyze outliers from 'price_usd_m2' column](#seccion_outliers)"
   ]
  },
  {
   "cell_type": "code",
   "execution_count": 137,
   "id": "1254ead8",
   "metadata": {},
   "outputs": [
    {
     "data": {
      "text/plain": [
       "apartment    48209\n",
       "house        24783\n",
       "PH            4285\n",
       "store         2214\n",
       "Name: property_type, dtype: int64"
      ]
     },
     "execution_count": 137,
     "metadata": {},
     "output_type": "execute_result"
    }
   ],
   "source": [
    "data['property_type'].value_counts()"
   ]
  },
  {
   "cell_type": "code",
   "execution_count": 138,
   "id": "60c96179",
   "metadata": {},
   "outputs": [
    {
     "data": {
      "text/plain": [
       "(79491, 16)"
      ]
     },
     "execution_count": 138,
     "metadata": {},
     "output_type": "execute_result"
    }
   ],
   "source": [
    "data.shape"
   ]
  },
  {
   "cell_type": "code",
   "execution_count": 139,
   "id": "f66f68ad",
   "metadata": {},
   "outputs": [],
   "source": [
    "data.drop(data[data['price_usd_m2'] > 8000].index, axis=0, inplace=True)"
   ]
  },
  {
   "cell_type": "code",
   "execution_count": 140,
   "id": "59a261a1",
   "metadata": {},
   "outputs": [
    {
     "data": {
      "text/plain": [
       "<AxesSubplot:xlabel='property_type', ylabel='price_usd_m2'>"
      ]
     },
     "execution_count": 140,
     "metadata": {},
     "output_type": "execute_result"
    },
    {
     "data": {
      "image/png": "[encoded data removed]",
      "text/plain": [
       "<Figure size 720x576 with 1 Axes>"
      ]
     },
     "metadata": {
      "needs_background": "light"
     },
     "output_type": "display_data"
    }
   ],
   "source": [
    "plt.subplots(figsize=(10,8))\n",
    "sns.violinplot(x='property_type', y='price_usd_m2', data=data)"
   ]
  },
  {
   "cell_type": "markdown",
   "id": "22c22d0a",
   "metadata": {},
   "source": [
    "## [4.2 - Drop outliers from 'apartment' property_type](#seccion_ap)"
   ]
  },
  {
   "cell_type": "code",
   "execution_count": 141,
   "id": "63ee40af",
   "metadata": {},
   "outputs": [
    {
     "name": "stdout",
     "output_type": "stream",
     "text": [
      "2395\n"
     ]
    }
   ],
   "source": [
    "# Drop all values above 4000\n",
    "\n",
    "price_apartment_m2_drop = (data['price_usd_m2'] > 4000) & (data['property_type'] == 'apartment')\n",
    "data.drop(data.loc[price_apartment_m2_drop].index, axis = 0, inplace=True)\n",
    "\n",
    "print(price_apartment_m2_drop.sum())"
   ]
  },
  {
   "cell_type": "markdown",
   "id": "1b914c80",
   "metadata": {},
   "source": [
    "## [4.3 - Drop outliers from 'PH' property_type](#seccion_ph)"
   ]
  },
  {
   "cell_type": "code",
   "execution_count": 142,
   "id": "4ad083e9",
   "metadata": {},
   "outputs": [
    {
     "name": "stdout",
     "output_type": "stream",
     "text": [
      "110\n"
     ]
    }
   ],
   "source": [
    "price_PH_m2_drop = (data['price_usd_m2'] > 3500) & (data['property_type'] == 'PH')\n",
    "data.drop(data.loc[price_PH_m2_drop].index, axis=0, inplace=True)\n",
    "\n",
    "print(price_PH_m2_drop.sum())"
   ]
  },
  {
   "cell_type": "markdown",
   "id": "f59b143f",
   "metadata": {},
   "source": [
    "## [4.4 - Drop outliers from 'house' property_type](#seccion_house)"
   ]
  },
  {
   "cell_type": "code",
   "execution_count": 143,
   "id": "4072c87b",
   "metadata": {},
   "outputs": [
    {
     "name": "stdout",
     "output_type": "stream",
     "text": [
      "627\n"
     ]
    }
   ],
   "source": [
    "price_house_m2_drop = (data['price_usd_m2'] > 3000) & (data['property_type'] == 'house')\n",
    "data.drop(data.loc[price_house_m2_drop].index, axis=0, inplace=True)\n",
    "\n",
    "print(price_house_m2_drop.sum())"
   ]
  },
  {
   "cell_type": "markdown",
   "id": "6e57e5f8",
   "metadata": {},
   "source": [
    "## [4.5 - Drop outliers from 'store' property_type](#seccion_store)"
   ]
  },
  {
   "cell_type": "code",
   "execution_count": 144,
   "id": "0ee042d8",
   "metadata": {},
   "outputs": [
    {
     "name": "stdout",
     "output_type": "stream",
     "text": [
      "68\n"
     ]
    }
   ],
   "source": [
    "price_store_m2_drop = (data['price_usd_m2'] > 6000) & (data['property_type'] == 'store')\n",
    "data.drop(data.loc[price_store_m2_drop].index, axis=0, inplace=True)\n",
    "\n",
    "print(price_store_m2_drop.sum())"
   ]
  },
  {
   "cell_type": "code",
   "execution_count": 145,
   "id": "788edaaa",
   "metadata": {},
   "outputs": [
    {
     "data": {
      "text/plain": [
       "(0.0, 1.0)"
      ]
     },
     "execution_count": 145,
     "metadata": {},
     "output_type": "execute_result"
    },
    {
     "data": {
      "image/png": "[encoded data removed]",
      "text/plain": [
       "<Figure size 576x576 with 1 Axes>"
      ]
     },
     "metadata": {
      "needs_background": "light"
     },
     "output_type": "display_data"
    }
   ],
   "source": [
    "plt.subplots(figsize=(8,8))\n",
    "plt.title('Distribution graph by price per m2', fontsize=18)\n",
    "sns.ecdfplot(data[\"price_usd_m2\"], marker=\"o\")\n",
    "plt.ylim([0,1])"
   ]
  },
  {
   "cell_type": "code",
   "execution_count": 146,
   "id": "17116216",
   "metadata": {},
   "outputs": [
    {
     "data": {
      "text/plain": [
       "<AxesSubplot:title={'center':'Price per m2 grouped by property type'}, xlabel='property_type', ylabel='price_usd_m2'>"
      ]
     },
     "execution_count": 146,
     "metadata": {},
     "output_type": "execute_result"
    },
    {
     "data": {
      "image/png": "[encoded data removed]",
      "text/plain": [
       "<Figure size 720x432 with 1 Axes>"
      ]
     },
     "metadata": {
      "needs_background": "light"
     },
     "output_type": "display_data"
    }
   ],
   "source": [
    "plt.subplots(figsize=(10,6))\n",
    "plt.title('Price per m2 grouped by property type', fontsize=18)\n",
    "sns.violinplot(x='property_type', y='price_usd_m2', data=data)"
   ]
  },
  {
   "cell_type": "code",
   "execution_count": 147,
   "id": "c7439a45",
   "metadata": {},
   "outputs": [
    {
     "data": {
      "text/plain": [
       "<AxesSubplot:title={'center':'Price m2 Distribuition'}, xlabel='price_usd_m2', ylabel='Count'>"
      ]
     },
     "execution_count": 147,
     "metadata": {},
     "output_type": "execute_result"
    },
    {
     "data": {
      "image/png": "[encoded data removed]",
      "text/plain": [
       "<Figure size 864x576 with 1 Axes>"
      ]
     },
     "metadata": {
      "needs_background": "light"
     },
     "output_type": "display_data"
    }
   ],
   "source": [
    "plt.subplots(figsize=(12,8))\n",
    "plt.title('Price m2 Distribuition', fontsize=18)\n",
    "sns.histplot(data['price_usd_m2'], color = \"orange\", bins = 150)"
   ]
  },
  {
   "cell_type": "code",
   "execution_count": 148,
   "id": "0866d9f9",
   "metadata": {},
   "outputs": [
    {
     "data": {
      "text/plain": [
       "<AxesSubplot:title={'center':'Amount of rooms by property type'}, xlabel='rooms', ylabel='count'>"
      ]
     },
     "execution_count": 148,
     "metadata": {},
     "output_type": "execute_result"
    },
    {
     "data": {
      "image/png": "[encoded data removed]",
      "text/plain": [
       "<Figure size 1584x576 with 1 Axes>"
      ]
     },
     "metadata": {
      "needs_background": "light"
     },
     "output_type": "display_data"
    }
   ],
   "source": [
    "plt.subplots(figsize=(22,8))\n",
    "plt.title('Amount of rooms by property type', fontsize=18)\n",
    "sns.countplot(x='rooms', hue='property_type', data=data, palette='pastel')"
   ]
  },
  {
   "cell_type": "markdown",
   "id": "37b6207c",
   "metadata": {},
   "source": [
    "# [5 - Data Final](#section_final)"
   ]
  },
  {
   "cell_type": "code",
   "execution_count": 1,
   "id": "7d7e3889",
   "metadata": {},
   "outputs": [
    {
     "ename": "NameError",
     "evalue": "name 'data' is not defined",
     "output_type": "error",
     "traceback": [
      "\u001b[0;31m---------------------------------------------------------------------------\u001b[0m",
      "\u001b[0;31mNameError\u001b[0m                                 Traceback (most recent call last)",
      "\u001b[0;32m<ipython-input-1-c3d483a1c074>\u001b[0m in \u001b[0;36m<module>\u001b[0;34m\u001b[0m\n\u001b[0;32m----> 1\u001b[0;31m \u001b[0mdata\u001b[0m\u001b[0;34m.\u001b[0m\u001b[0mcolumns\u001b[0m\u001b[0;34m\u001b[0m\u001b[0;34m\u001b[0m\u001b[0m\n\u001b[0m",
      "\u001b[0;31mNameError\u001b[0m: name 'data' is not defined"
     ]
    }
   ],
   "source": [
    "data.columns"
   ]
  },
  {
   "cell_type": "markdown",
   "id": "7ad29989",
   "metadata": {},
   "source": [
    "#### This is the final dataset, with this dataset we're going to develop our ML Model! :)"
   ]
  },
  {
   "cell_type": "code",
   "execution_count": 149,
   "id": "3158810e",
   "metadata": {},
   "outputs": [
    {
     "data": {
      "text/html": [
       "<div>\n",
       "<style scoped>\n",
       "    .dataframe tbody tr th:only-of-type {\n",
       "        vertical-align: middle;\n",
       "    }\n",
       "\n",
       "    .dataframe tbody tr th {\n",
       "        vertical-align: top;\n",
       "    }\n",
       "\n",
       "    .dataframe thead th {\n",
       "        text-align: right;\n",
       "    }\n",
       "</style>\n",
       "<table border=\"1\" class=\"dataframe\">\n",
       "  <thead>\n",
       "    <tr style=\"text-align: right;\">\n",
       "      <th></th>\n",
       "      <th>property_type</th>\n",
       "      <th>price_aprox_usd</th>\n",
       "      <th>rooms</th>\n",
       "      <th>description</th>\n",
       "      <th>title</th>\n",
       "      <th>state</th>\n",
       "      <th>town</th>\n",
       "      <th>extra_info</th>\n",
       "      <th>surface_covered_m2</th>\n",
       "      <th>surface_total_m2</th>\n",
       "      <th>price_usd_m2</th>\n",
       "      <th>repair</th>\n",
       "      <th>pool</th>\n",
       "      <th>amenities</th>\n",
       "      <th>garage</th>\n",
       "      <th>financing</th>\n",
       "    </tr>\n",
       "  </thead>\n",
       "  <tbody>\n",
       "    <tr>\n",
       "      <th>0</th>\n",
       "      <td>PH</td>\n",
       "      <td>62000.0</td>\n",
       "      <td>2</td>\n",
       "      <td>2 AMBIENTES TIPO CASA PLANTA BAJA POR PASILLO,...</td>\n",
       "      <td>2 AMB TIPO CASA SIN EXPENSAS EN PB</td>\n",
       "      <td>Capital Federal</td>\n",
       "      <td>Mataderos</td>\n",
       "      <td></td>\n",
       "      <td>40.0</td>\n",
       "      <td>55.0</td>\n",
       "      <td>1127.272727</td>\n",
       "      <td>1</td>\n",
       "      <td>0</td>\n",
       "      <td>0</td>\n",
       "      <td>0</td>\n",
       "      <td>1</td>\n",
       "    </tr>\n",
       "    <tr>\n",
       "      <th>2</th>\n",
       "      <td>apartment</td>\n",
       "      <td>72000.0</td>\n",
       "      <td>2</td>\n",
       "      <td>2 AMBIENTES 3ER PISO LATERAL LIVING COMEDOR AM...</td>\n",
       "      <td>2 AMB 3ER PISO CON ASCENSOR APTO CREDITO</td>\n",
       "      <td>Capital Federal</td>\n",
       "      <td>Mataderos</td>\n",
       "      <td></td>\n",
       "      <td>55.0</td>\n",
       "      <td>55.0</td>\n",
       "      <td>1309.090909</td>\n",
       "      <td>0</td>\n",
       "      <td>0</td>\n",
       "      <td>0</td>\n",
       "      <td>0</td>\n",
       "      <td>0</td>\n",
       "    </tr>\n",
       "    <tr>\n",
       "      <th>4</th>\n",
       "      <td>apartment</td>\n",
       "      <td>64000.0</td>\n",
       "      <td>2</td>\n",
       "      <td>DEPARTAMENTO CON FANTÁSTICA ILUMINACIÓN NATURA...</td>\n",
       "      <td>DEPTO 2 AMB AL CONTRAFRENTE ZONA CENTRO/PLAZA ...</td>\n",
       "      <td>Buenos Aires Costa Atlántica</td>\n",
       "      <td>Mar del Plata</td>\n",
       "      <td>Centro|</td>\n",
       "      <td>35.0</td>\n",
       "      <td>35.0</td>\n",
       "      <td>1828.571429</td>\n",
       "      <td>0</td>\n",
       "      <td>0</td>\n",
       "      <td>0</td>\n",
       "      <td>0</td>\n",
       "      <td>0</td>\n",
       "    </tr>\n",
       "  </tbody>\n",
       "</table>\n",
       "</div>"
      ],
      "text/plain": [
       "  property_type  price_aprox_usd  rooms  \\\n",
       "0            PH          62000.0      2   \n",
       "2     apartment          72000.0      2   \n",
       "4     apartment          64000.0      2   \n",
       "\n",
       "                                         description  \\\n",
       "0  2 AMBIENTES TIPO CASA PLANTA BAJA POR PASILLO,...   \n",
       "2  2 AMBIENTES 3ER PISO LATERAL LIVING COMEDOR AM...   \n",
       "4  DEPARTAMENTO CON FANTÁSTICA ILUMINACIÓN NATURA...   \n",
       "\n",
       "                                               title  \\\n",
       "0                 2 AMB TIPO CASA SIN EXPENSAS EN PB   \n",
       "2           2 AMB 3ER PISO CON ASCENSOR APTO CREDITO   \n",
       "4  DEPTO 2 AMB AL CONTRAFRENTE ZONA CENTRO/PLAZA ...   \n",
       "\n",
       "                          state           town extra_info  surface_covered_m2  \\\n",
       "0               Capital Federal      Mataderos                           40.0   \n",
       "2               Capital Federal      Mataderos                           55.0   \n",
       "4  Buenos Aires Costa Atlántica  Mar del Plata    Centro|                35.0   \n",
       "\n",
       "   surface_total_m2  price_usd_m2  repair  pool  amenities  garage  financing  \n",
       "0              55.0   1127.272727       1     0          0       0          1  \n",
       "2              55.0   1309.090909       0     0          0       0          0  \n",
       "4              35.0   1828.571429       0     0          0       0          0  "
      ]
     },
     "execution_count": 149,
     "metadata": {},
     "output_type": "execute_result"
    }
   ],
   "source": [
    "data.head(3)"
   ]
  },
  {
   "cell_type": "code",
   "execution_count": 150,
   "id": "e340e4b0",
   "metadata": {},
   "outputs": [
    {
     "data": {
      "text/plain": [
       "property_type         0\n",
       "price_aprox_usd       0\n",
       "rooms                 0\n",
       "description           0\n",
       "title                 0\n",
       "state                 0\n",
       "town                  0\n",
       "extra_info            0\n",
       "surface_covered_m2    0\n",
       "surface_total_m2      0\n",
       "price_usd_m2          0\n",
       "repair                0\n",
       "pool                  0\n",
       "amenities             0\n",
       "garage                0\n",
       "financing             0\n",
       "dtype: int64"
      ]
     },
     "execution_count": 150,
     "metadata": {},
     "output_type": "execute_result"
    }
   ],
   "source": [
    "data.isnull().sum()"
   ]
  },
  {
   "cell_type": "code",
   "execution_count": 151,
   "id": "95a38d6b",
   "metadata": {},
   "outputs": [],
   "source": [
    "data.to_csv('/home/thomas/ThomasFold/Proyectos_DS/HousePricePrediction/data_prop.csv')"
   ]
  }
 ],
 "metadata": {
  "kernelspec": {
   "display_name": "Python [conda env:dhdsblend2021] *",
   "language": "python",
   "name": "conda-env-dhdsblend2021-py"
  },
  "language_info": {
   "codemirror_mode": {
    "name": "ipython",
    "version": 3
   },
   "file_extension": ".py",
   "mimetype": "text/x-python",
   "name": "python",
   "nbconvert_exporter": "python",
   "pygments_lexer": "ipython3",
   "version": "3.8.11"
  }
 },
 "nbformat": 4,
 "nbformat_minor": 5
}
